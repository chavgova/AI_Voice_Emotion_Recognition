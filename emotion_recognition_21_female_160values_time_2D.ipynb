{
  "nbformat": 4,
  "nbformat_minor": 0,
  "metadata": {
    "colab": {
      "name": "emotion_recognition_21_female_160values-time-2D.ipynb",
      "provenance": [],
      "collapsed_sections": [],
      "mount_file_id": "1IivZBitcU1luumkizwaDFnNrpM-GFj9O",
      "authorship_tag": "ABX9TyO82DhzHUm5d5ta1M7v8Eln",
      "include_colab_link": true
    },
    "kernelspec": {
      "display_name": "Python 3",
      "name": "python3"
    }
  },
  "cells": [
    {
      "cell_type": "markdown",
      "metadata": {
        "id": "view-in-github",
        "colab_type": "text"
      },
      "source": [
        "<a href=\"https://colab.research.google.com/github/chavgova/My-AI/blob/master/emotion_recognition_21_female_160values_time_2D.ipynb\" target=\"_parent\"><img src=\"https://colab.research.google.com/assets/colab-badge.svg\" alt=\"Open In Colab\"/></a>"
      ]
    },
    {
      "cell_type": "markdown",
      "metadata": {
        "id": "eFA7SmfR-yKp"
      },
      "source": [
        "**Voice Emotion Recognition**\n",
        "\n",
        "\n",
        "\n"
      ]
    },
    {
      "cell_type": "code",
      "metadata": {
        "id": "8-N_FynR2O4E"
      },
      "source": [
        "import librosa\n",
        "import librosa.display\n",
        "import numpy as np\n",
        "import matplotlib.pyplot as plt\n",
        "import tensorflow as tf\n",
        "from keras.models import model_from_json\n",
        "from matplotlib.pyplot import specgram\n",
        "from matplotlib.axis import Axis\n",
        "import keras\n",
        "from keras.preprocessing import sequence\n",
        "from keras.models import Sequential\n",
        "from keras.layers import Dense, Embedding\n",
        "from keras.layers import LSTM\n",
        "from keras.preprocessing.text import Tokenizer\n",
        "from keras.preprocessing.sequence import pad_sequences\n",
        "from keras.utils import to_categorical\n",
        "from keras.layers import Input, Flatten, Dropout, Activation\n",
        "from keras.layers import Conv1D, Conv2D, MaxPooling1D, MaxPooling2D, AveragePooling1D, AveragePooling2D\n",
        "from keras.models import Model\n",
        "from keras.callbacks import ModelCheckpoint\n",
        "from sklearn.metrics import confusion_matrix\n",
        "from keras import regularizers\n",
        "import os\n",
        "import pandas as pd\n",
        "from google.colab import drive\n",
        "from sklearn.preprocessing import MinMaxScaler\n",
        "from sklearn.utils import shuffle\n",
        "from array import *\n",
        "import re\n",
        "from sklearn.preprocessing import MinMaxScaler\n",
        "from keras.utils import np_utils\n",
        "from sklearn.preprocessing import LabelEncoder\n",
        "import seaborn as sns\n",
        "import pickle"
      ],
      "execution_count": 1,
      "outputs": []
    },
    {
      "cell_type": "code",
      "metadata": {
        "id": "WYBSS6hKWZua"
      },
      "source": [
        "dataset_path = '/content/drive/My Drive/My_AI/RawData'  # https://drive.google.com/drive/folders/19vC20XHt-_yhsobePchy7K3PcBHD1oCu?usp=sharing\r\n",
        "model_path = '/content/drive/MyDrive/My_AI/EmoRec/'      #'/content/drive/My Drive/My_AI/MY MODELS/'\r\n",
        "\r\n",
        "model_name = 'EmotionRecognition_CNN_model_21_FEMALE_160values-time-2D'\r\n",
        "gender = 'female'  # female/male"
      ],
      "execution_count": 2,
      "outputs": []
    },
    {
      "cell_type": "markdown",
      "metadata": {
        "id": "ERpg_GG5--ee"
      },
      "source": [
        "# LABLES & FEATURES"
      ]
    },
    {
      "cell_type": "code",
      "metadata": {
        "id": "ACpe5DYcCxWD",
        "colab": {
          "base_uri": "https://localhost:8080/"
        },
        "outputId": "3d2d4376-cb24-49d3-b32b-553a50009ce4"
      },
      "source": [
        "dataset_files_list = [] \n",
        "dataset_files_list = os.listdir(dataset_path)\n",
        "\n",
        "print(len(dataset_files_list))"
      ],
      "execution_count": 3,
      "outputs": [
        {
          "output_type": "stream",
          "text": [
            "7198\n"
          ],
          "name": "stdout"
        }
      ]
    },
    {
      "cell_type": "code",
      "metadata": {
        "id": "L4vr7Ssh-jrl"
      },
      "source": [
        "emo_labels_list=[] \n",
        "dataset = ''\n",
        "count = 0\n",
        "for item in dataset_files_list:\n",
        "    file_label = item[6:-16]\n",
        "    try:\n",
        "      file_label = int(file_label)\n",
        "      dataset = 'RAVDESS'\n",
        "    except:\n",
        "      if (item[:1] == 'Y') or (item[:1] == 'O'):\n",
        "        file_label = re.split('_|\\.', item)[2]\n",
        "        dataset = 'TESS'\n",
        "      else: \n",
        "        try:\n",
        "          item = item[:-4]\n",
        "          int(item[-3:])  \n",
        "          dataset = 'SER_v4'\n",
        "        except:\n",
        "          dataset = 'SAVEE'\n",
        "\n",
        "    if dataset == 'RAVDESS':\n",
        "      if int(item[18:-4])%2==0:  #female\n",
        "          if file_label == 1:\n",
        "            emo_labels_list.append('female_neutral')\n",
        "          elif file_label == 2:\n",
        "            emo_labels_list.append('female_calm')\n",
        "          elif file_label == 3:\n",
        "            emo_labels_list.append('female_joy')\n",
        "          elif file_label == 4:\n",
        "            emo_labels_list.append('female_sadness')\n",
        "          elif file_label == 5:\n",
        "            emo_labels_list.append('female_anger')\n",
        "          elif file_label == 6:\n",
        "            emo_labels_list.append('female_fear')\n",
        "          elif file_label == 7:\n",
        "            emo_labels_list.append('female_disgust')\n",
        "          elif file_label == 8:\n",
        "            emo_labels_list.append('female_surprise')\n",
        "      else:\n",
        "          if file_label== 1:\n",
        "            emo_labels_list.append('male_neutral')\n",
        "          elif file_label == 2:\n",
        "            emo_labels_list.append('male_calm')\n",
        "          elif file_label == 3:\n",
        "            emo_labels_list.append('male_joy')\n",
        "          elif file_label == 4:\n",
        "            emo_labels_list.append('male_sadness')\n",
        "          elif file_label == 5:\n",
        "            emo_labels_list.append('male_anger')\n",
        "          elif file_label == 6:\n",
        "            emo_labels_list.append('male_fear')\n",
        "          elif file_label == 7:\n",
        "            emo_labels_list.append('male_disgust')\n",
        "          elif file_label == 8:\n",
        "            emo_labels_list.append('male_surprise')\n",
        "\n",
        "    elif dataset == 'TESS':\n",
        "      if file_label == 'neutral': emo_labels_list.append('female_neutral')\n",
        "      elif file_label == 'angry': emo_labels_list.append('female_anger')\n",
        "      elif file_label == 'disgust': emo_labels_list.append('female_disgust')\n",
        "      elif file_label == 'ps': emo_labels_list.append('female_surprise')\n",
        "      elif file_label == 'happy': emo_labels_list.append('female_joy')\n",
        "      elif file_label == 'sad': emo_labels_list.append('female_sadness')\n",
        "      elif file_label == 'fear': emo_labels_list.append('female_fear')\n",
        "\n",
        "    elif dataset == 'SER_v4':\n",
        "      if int(item[-3:])%2 == 1: \n",
        "        file_label = item[:-3]\n",
        "        if file_label == 'neutral': emo_labels_list.append('male_neutral')\n",
        "        elif file_label == 'anger': emo_labels_list.append('male_anger')\n",
        "        elif file_label == 'disgust': emo_labels_list.append('male_disgust')\n",
        "        elif file_label == 'surprise': emo_labels_list.append('male_surprise')\n",
        "        elif file_label == 'happy': emo_labels_list.append('male_joy')\n",
        "        elif file_label == 'sad': emo_labels_list.append('male_sadness')\n",
        "        elif file_label == 'fear': emo_labels_list.append('male_fear')\n",
        "      else:\n",
        "        file_label = item[:-3]\n",
        "        if file_label == 'neutral': emo_labels_list.append('female_neutral')\n",
        "        elif file_label == 'anger': emo_labels_list.append('female_anger')\n",
        "        elif file_label == 'disgust': emo_labels_list.append('female_disgust')\n",
        "        elif file_label == 'surprise': emo_labels_list.append('female_surprise')\n",
        "        elif file_label == 'happy': emo_labels_list.append('female_joy')\n",
        "        elif file_label == 'sad': emo_labels_list.append('female_sadness')\n",
        "        elif file_label == 'fear': emo_labels_list.append('female_fear')\n",
        "      \n",
        "    elif dataset == 'SAVEE':\n",
        "      if item[:1]=='a':\n",
        "        emo_labels_list.append('male_anger')\n",
        "      elif item[:1]=='f':\n",
        "        emo_labels_list.append('male_fear')\n",
        "      elif item[:1]=='h':\n",
        "        emo_labels_list.append('male_joy')\n",
        "      elif item[:1]=='n':\n",
        "        emo_labels_list.append('male_neutral')\n",
        "      elif item[:2]=='sa':\n",
        "        emo_labels_list.append('male_sadness')\n",
        "      elif item[:2]=='su':\n",
        "        emo_labels_list.append('male_surprise')\n",
        "      elif item[:1]=='d':\n",
        "        emo_labels_list.append('male_disgust')\n"
      ],
      "execution_count": 4,
      "outputs": []
    },
    {
      "cell_type": "code",
      "metadata": {
        "colab": {
          "base_uri": "https://localhost:8080/"
        },
        "id": "tZ6gQ3v1KlnN",
        "outputId": "d8feb25c-53e7-47bc-c998-74fc3ed4ed5b"
      },
      "source": [
        "emo_labels_array = np.array(emo_labels_list)\r\n",
        "print(emo_labels_array.shape, emo_labels_array)"
      ],
      "execution_count": 31,
      "outputs": [
        {
          "output_type": "stream",
          "text": [
            "(7198,) ['male_sadness' 'male_sadness' 'male_sadness' ... 'female_calm'\n",
            " 'female_sadness' 'female_joy']\n"
          ],
          "name": "stdout"
        }
      ]
    },
    {
      "cell_type": "markdown",
      "metadata": {
        "id": "pRYX3XLu_Fd8"
      },
      "source": [
        "Getting the features of audio files using librosa"
      ]
    },
    {
      "cell_type": "code",
      "metadata": {
        "id": "Ntnk_M9jZlub",
        "colab": {
          "base_uri": "https://localhost:8080/"
        },
        "outputId": "c0f8a0d8-4d3e-4f0b-a8b1-c77083a5b206"
      },
      "source": [
        "def transform_feature(arr, num=20):   # to 20 values per feature\n",
        "  l = len(arr)\n",
        "  r = l%num\n",
        "  if r==0:\n",
        "    arr = np.mean(np.reshape(arr, (num,-1)), axis=1)\n",
        "  elif r%2==0:\n",
        "    arr = arr[int(r/2):-int(r/2)]\n",
        "    arr = np.mean(np.reshape(arr, (num,-1)), axis=1)\n",
        "  else:\n",
        "    arr = arr[int(r/2+1):(len(arr)-int(r/2))]\n",
        "    arr = np.mean(np.reshape(arr, (num,-1)), axis=1)\n",
        "  return arr\n",
        "\n",
        "def extract_feature(current_file, **kwargs):\n",
        "    mfcc = kwargs.get(\"mfcc\")\n",
        "    chroma = kwargs.get(\"chroma\")\n",
        "    mel = kwargs.get(\"mel\")\n",
        "    contrast = kwargs.get(\"contrast\")\n",
        "    tonnetz = kwargs.get(\"tonnetz\")\n",
        "    rolloff = kwargs.get(\"rolloff\")\n",
        "    centroids = kwargs.get(\"centroids\")\n",
        "    rms = kwargs.get(\"rms\")\n",
        "\n",
        "    X, sample_rate = librosa.core.load(current_file)\n",
        "\n",
        "    if chroma or contrast:\n",
        "        stft = np.abs(librosa.stft(X))\n",
        "    result = np.zeros([8,20])\n",
        "    if mfcc:\n",
        "        mfccs = np.mean(librosa.feature.mfcc(y=X, sr=sample_rate, n_mfcc= 20 ), axis=0)\n",
        "        mfccs = transform_feature(mfccs) # (n=20,t) -> 20 values (avg)\n",
        "        result[0] = mfccs\n",
        "    if rms:    \n",
        "        rms = np.mean(librosa.feature.rms(X),axis=0)\n",
        "        rms = transform_feature(rms)      # (1,t) - > 20 values (avg)\n",
        "        result[1] = rms       \n",
        "    if mel:\n",
        "        mel = np.mean(librosa.feature.melspectrogram(X, sr=sample_rate, n_fft = 2048), axis=0) # (128,t) \n",
        "        mel = transform_feature(mel)  # t -> 20 values (avg)\n",
        "        result[2] = mel \n",
        "    if tonnetz:\n",
        "        tonnetz = np.mean(librosa.feature.tonnetz(y=librosa.effects.harmonic(X), sr=sample_rate), axis=0) # (6,t) -> 6 values   \n",
        "        tonnetz = transform_feature(tonnetz)  \n",
        "        result[3] = tonnetz\n",
        "    if chroma:\n",
        "        chroma = np.mean(librosa.feature.chroma_stft(S=stft, n_chroma = 10, sr=sample_rate, n_fft = 2048), axis=0)  # (n=14,t) -> 14 values   \n",
        "        chroma = transform_feature(chroma)     \n",
        "        result[4] = chroma             \n",
        "    if contrast:\n",
        "        contrast = np.mean(librosa.feature.spectral_contrast(S=stft, sr=sample_rate, n_fft=2048), axis=0) # (7,t) -> 7 values\n",
        "        contrast = transform_feature(contrast)\n",
        "        result[5] = contrast\n",
        "    if rolloff:    \n",
        "        rolloff = np.mean(librosa.feature.spectral_rolloff(X + 0.01, sr=sample_rate, n_fft=2048), axis=0)\n",
        "        rolloff = transform_feature(rolloff)    # (1,t) - > 20 values (avg)\n",
        "        result[6] = rolloff\n",
        "    if centroids:    \n",
        "        centroids = np.mean(librosa.feature.spectral_centroid(X, sr=sample_rate, n_fft=2048), axis=0)\n",
        "        centroids = transform_feature(centroids)  # (1,t) - > 20 values (avg)\n",
        "        result[7] = centroids \n",
        "    \n",
        "    return result\n",
        "\n",
        "f = os.fspath(dataset_path + '/1078_MTI_ANG_XX.wav')\n",
        "a = extract_feature(f, mel=True, mfcc=True, contrast=True, chroma=True, tonnetz=True, rolloff=True, centroids=True, rms=True)\n",
        "print(a, a.shape)\n",
        "\n",
        "feature_num_values = a.shape[0]  # number of values per file"
      ],
      "execution_count": 3,
      "outputs": [
        {
          "output_type": "stream",
          "text": [
            "[[-1.40765276e+01 -1.17176304e+01 -1.11633663e+01 -1.10790663e+01\n",
            "  -1.07774687e+01 -1.05370426e+01 -1.03541460e+01 -9.13975620e+00\n",
            "  -9.50955486e+00 -1.00974951e+01 -1.07620468e+01 -1.02513018e+01\n",
            "  -1.00416851e+01 -9.85334873e+00 -1.10257387e+01 -1.21459579e+01\n",
            "  -1.22862349e+01 -1.17299776e+01 -1.31954193e+01 -1.30548735e+01]\n",
            " [ 5.34453709e-03  4.69109006e-02  4.77194898e-02  2.04378311e-02\n",
            "   2.07569897e-02  6.38693422e-02  1.15599774e-01  1.28232926e-01\n",
            "   1.19728044e-01  4.23759073e-02  6.89805821e-02  3.91004011e-02\n",
            "   2.99107432e-02  2.31280867e-02  1.03316210e-01  1.08218350e-01\n",
            "   4.17245924e-02  9.10387840e-03  5.57138817e-03  4.28530062e-03]\n",
            " [ 4.66448301e-03  5.39627373e-01  5.17243147e-01  9.77239087e-02\n",
            "   9.27279145e-02  1.06992722e+00  3.25262403e+00  3.27466846e+00\n",
            "   4.60871553e+00  4.21025276e-01  1.31157303e+00  2.56834269e-01\n",
            "   2.00264901e-01  1.06908917e-01  3.04708433e+00  2.77486229e+00\n",
            "   4.00192797e-01  1.83953121e-02  6.66718464e-03  4.41992190e-03]\n",
            " [-3.15699636e-02 -9.85686683e-03  3.54446220e-03 -4.34637228e-02\n",
            "  -4.02359642e-02 -3.69496113e-02 -5.66609413e-02 -3.00683727e-02\n",
            "  -7.70242461e-02  1.55130923e-02 -2.47390370e-02 -1.55633469e-02\n",
            "  -1.04171704e-02 -5.98859875e-03  3.61405018e-02  3.23736796e-02\n",
            "  -1.19216045e-02  8.12798255e-03 -2.50970024e-02 -2.15479131e-02]\n",
            " [ 8.19034934e-01  5.13230979e-01  6.94233894e-01  6.37181759e-01\n",
            "   6.31591022e-01  4.97156531e-01  5.70850790e-01  4.82882828e-01\n",
            "   3.46225888e-01  5.48369765e-01  2.88708776e-01  5.14678955e-01\n",
            "   4.24115986e-01  6.74993813e-01  5.88520646e-01  5.36132753e-01\n",
            "   4.74234968e-01  6.78241432e-01  7.40570128e-01  7.34518647e-01]\n",
            " [ 2.02178430e+01  2.38502026e+01  2.71384753e+01  2.45004968e+01\n",
            "   2.39633258e+01  2.69604791e+01  2.60101169e+01  2.49972851e+01\n",
            "   2.66300414e+01  2.41998005e+01  2.44717388e+01  2.45573689e+01\n",
            "   2.68064643e+01  2.33109748e+01  2.57265107e+01  2.55195969e+01\n",
            "   2.31324958e+01  2.15594937e+01  2.18355371e+01  2.04278476e+01]\n",
            " [ 1.99182129e+03  2.59259766e+03  3.35056641e+03  4.19897461e+03\n",
            "   4.22481445e+03  1.15202637e+03  1.19509277e+03  1.50732422e+03\n",
            "   1.38889160e+03  2.47847168e+03  6.58916016e+02  2.59259766e+03\n",
            "   3.06632812e+03  3.12016113e+03  1.89707520e+03  9.00087891e+02\n",
            "   6.84755859e+02  2.63351074e+03  3.99010254e+03  2.09518066e+03]\n",
            " [ 1.30898568e+03  1.46654969e+03  1.78312140e+03  2.14571843e+03\n",
            "   2.26612876e+03  9.62398385e+02  1.01429267e+03  9.75582019e+02\n",
            "   8.99051663e+02  1.26891873e+03  6.85233911e+02  1.37958731e+03\n",
            "   1.54847607e+03  1.59184352e+03  1.23087358e+03  8.79027807e+02\n",
            "   6.81188204e+02  1.52805667e+03  1.99038444e+03  1.33738373e+03]] (8, 20)\n"
          ],
          "name": "stdout"
        },
        {
          "output_type": "stream",
          "text": [
            "/usr/local/lib/python3.7/dist-packages/librosa/core/spectrum.py:224: UserWarning: n_fft=1024 is too small for input signal of length=909\n",
            "  n_fft, y.shape[-1]\n"
          ],
          "name": "stderr"
        }
      ]
    },
    {
      "cell_type": "markdown",
      "metadata": {
        "id": "oy_eAVKYnTlW"
      },
      "source": [
        "EXTRACT FEATURES FROM THE FILES IN THE DATASETS"
      ]
    },
    {
      "cell_type": "code",
      "metadata": {
        "id": "8P_P1UCrtEHU",
        "colab": {
          "base_uri": "https://localhost:8080/"
        },
        "outputId": "0d5a5ad9-d9fa-4059-c7ed-54163e655380"
      },
      "source": [
        "data_frame_features = pd.DataFrame(columns=['all_features'])\n",
        "\n",
        "for index,y in enumerate(dataset_files_list):\n",
        "      all_features_ndarray = extract_feature(dataset_path + '/'+ y, mel=True, mfcc=True, contrast=True, chroma=True, tonnetz=True, rolloff=True, centroids=True, rms=True)\n",
        "      data_frame_features.loc[index] = [all_features_ndarray]\n",
        "      if index%1000==0: print(index)\n",
        "\n",
        "print(pd.DataFrame(data_frame_features['all_features']).shape)\n",
        "        "
      ],
      "execution_count": 7,
      "outputs": [
        {
          "output_type": "stream",
          "text": [
            "0\n"
          ],
          "name": "stdout"
        },
        {
          "output_type": "stream",
          "text": [
            "/usr/local/lib/python3.7/dist-packages/librosa/core/spectrum.py:224: UserWarning: n_fft=1024 is too small for input signal of length=892\n",
            "  n_fft, y.shape[-1]\n",
            "/usr/local/lib/python3.7/dist-packages/librosa/core/spectrum.py:224: UserWarning: n_fft=1024 is too small for input signal of length=874\n",
            "  n_fft, y.shape[-1]\n",
            "/usr/local/lib/python3.7/dist-packages/librosa/core/spectrum.py:224: UserWarning: n_fft=1024 is too small for input signal of length=933\n",
            "  n_fft, y.shape[-1]\n",
            "/usr/local/lib/python3.7/dist-packages/librosa/core/spectrum.py:224: UserWarning: n_fft=1024 is too small for input signal of length=932\n",
            "  n_fft, y.shape[-1]\n",
            "/usr/local/lib/python3.7/dist-packages/librosa/core/spectrum.py:224: UserWarning: n_fft=1024 is too small for input signal of length=609\n",
            "  n_fft, y.shape[-1]\n",
            "/usr/local/lib/python3.7/dist-packages/librosa/core/spectrum.py:224: UserWarning: n_fft=1024 is too small for input signal of length=765\n",
            "  n_fft, y.shape[-1]\n",
            "/usr/local/lib/python3.7/dist-packages/librosa/core/spectrum.py:224: UserWarning: n_fft=1024 is too small for input signal of length=835\n",
            "  n_fft, y.shape[-1]\n",
            "/usr/local/lib/python3.7/dist-packages/librosa/core/spectrum.py:224: UserWarning: n_fft=1024 is too small for input signal of length=1004\n",
            "  n_fft, y.shape[-1]\n",
            "/usr/local/lib/python3.7/dist-packages/librosa/core/spectrum.py:224: UserWarning: n_fft=1024 is too small for input signal of length=947\n",
            "  n_fft, y.shape[-1]\n",
            "/usr/local/lib/python3.7/dist-packages/librosa/core/spectrum.py:224: UserWarning: n_fft=1024 is too small for input signal of length=921\n",
            "  n_fft, y.shape[-1]\n",
            "/usr/local/lib/python3.7/dist-packages/librosa/core/spectrum.py:224: UserWarning: n_fft=1024 is too small for input signal of length=1003\n",
            "  n_fft, y.shape[-1]\n",
            "/usr/local/lib/python3.7/dist-packages/librosa/core/spectrum.py:224: UserWarning: n_fft=1024 is too small for input signal of length=976\n",
            "  n_fft, y.shape[-1]\n",
            "/usr/local/lib/python3.7/dist-packages/librosa/core/spectrum.py:224: UserWarning: n_fft=1024 is too small for input signal of length=643\n",
            "  n_fft, y.shape[-1]\n",
            "/usr/local/lib/python3.7/dist-packages/librosa/core/spectrum.py:224: UserWarning: n_fft=1024 is too small for input signal of length=911\n",
            "  n_fft, y.shape[-1]\n",
            "/usr/local/lib/python3.7/dist-packages/librosa/core/spectrum.py:224: UserWarning: n_fft=1024 is too small for input signal of length=1018\n",
            "  n_fft, y.shape[-1]\n",
            "/usr/local/lib/python3.7/dist-packages/librosa/core/spectrum.py:224: UserWarning: n_fft=1024 is too small for input signal of length=987\n",
            "  n_fft, y.shape[-1]\n",
            "/usr/local/lib/python3.7/dist-packages/librosa/core/spectrum.py:224: UserWarning: n_fft=1024 is too small for input signal of length=836\n",
            "  n_fft, y.shape[-1]\n",
            "/usr/local/lib/python3.7/dist-packages/librosa/core/spectrum.py:224: UserWarning: n_fft=1024 is too small for input signal of length=982\n",
            "  n_fft, y.shape[-1]\n",
            "/usr/local/lib/python3.7/dist-packages/librosa/core/spectrum.py:224: UserWarning: n_fft=1024 is too small for input signal of length=935\n",
            "  n_fft, y.shape[-1]\n",
            "/usr/local/lib/python3.7/dist-packages/librosa/core/spectrum.py:224: UserWarning: n_fft=1024 is too small for input signal of length=994\n",
            "  n_fft, y.shape[-1]\n",
            "/usr/local/lib/python3.7/dist-packages/librosa/core/spectrum.py:224: UserWarning: n_fft=1024 is too small for input signal of length=694\n",
            "  n_fft, y.shape[-1]\n",
            "/usr/local/lib/python3.7/dist-packages/librosa/core/spectrum.py:224: UserWarning: n_fft=1024 is too small for input signal of length=819\n",
            "  n_fft, y.shape[-1]\n",
            "/usr/local/lib/python3.7/dist-packages/librosa/core/spectrum.py:224: UserWarning: n_fft=1024 is too small for input signal of length=588\n",
            "  n_fft, y.shape[-1]\n",
            "/usr/local/lib/python3.7/dist-packages/librosa/core/spectrum.py:224: UserWarning: n_fft=1024 is too small for input signal of length=961\n",
            "  n_fft, y.shape[-1]\n",
            "/usr/local/lib/python3.7/dist-packages/librosa/core/spectrum.py:224: UserWarning: n_fft=1024 is too small for input signal of length=708\n",
            "  n_fft, y.shape[-1]\n",
            "/usr/local/lib/python3.7/dist-packages/librosa/core/spectrum.py:224: UserWarning: n_fft=1024 is too small for input signal of length=651\n",
            "  n_fft, y.shape[-1]\n",
            "/usr/local/lib/python3.7/dist-packages/librosa/core/spectrum.py:224: UserWarning: n_fft=1024 is too small for input signal of length=860\n",
            "  n_fft, y.shape[-1]\n",
            "/usr/local/lib/python3.7/dist-packages/librosa/core/spectrum.py:224: UserWarning: n_fft=1024 is too small for input signal of length=777\n",
            "  n_fft, y.shape[-1]\n",
            "/usr/local/lib/python3.7/dist-packages/librosa/core/spectrum.py:224: UserWarning: n_fft=1024 is too small for input signal of length=723\n",
            "  n_fft, y.shape[-1]\n",
            "/usr/local/lib/python3.7/dist-packages/librosa/core/spectrum.py:224: UserWarning: n_fft=1024 is too small for input signal of length=861\n",
            "  n_fft, y.shape[-1]\n",
            "/usr/local/lib/python3.7/dist-packages/librosa/core/spectrum.py:224: UserWarning: n_fft=1024 is too small for input signal of length=716\n",
            "  n_fft, y.shape[-1]\n",
            "/usr/local/lib/python3.7/dist-packages/librosa/core/spectrum.py:224: UserWarning: n_fft=1024 is too small for input signal of length=570\n",
            "  n_fft, y.shape[-1]\n",
            "/usr/local/lib/python3.7/dist-packages/librosa/core/spectrum.py:224: UserWarning: n_fft=1024 is too small for input signal of length=869\n",
            "  n_fft, y.shape[-1]\n",
            "/usr/local/lib/python3.7/dist-packages/librosa/core/spectrum.py:224: UserWarning: n_fft=1024 is too small for input signal of length=946\n",
            "  n_fft, y.shape[-1]\n",
            "/usr/local/lib/python3.7/dist-packages/librosa/core/spectrum.py:224: UserWarning: n_fft=1024 is too small for input signal of length=908\n",
            "  n_fft, y.shape[-1]\n",
            "/usr/local/lib/python3.7/dist-packages/librosa/core/spectrum.py:224: UserWarning: n_fft=1024 is too small for input signal of length=640\n",
            "  n_fft, y.shape[-1]\n",
            "/usr/local/lib/python3.7/dist-packages/librosa/core/spectrum.py:224: UserWarning: n_fft=1024 is too small for input signal of length=899\n",
            "  n_fft, y.shape[-1]\n",
            "/usr/local/lib/python3.7/dist-packages/librosa/core/spectrum.py:224: UserWarning: n_fft=1024 is too small for input signal of length=896\n",
            "  n_fft, y.shape[-1]\n",
            "/usr/local/lib/python3.7/dist-packages/librosa/core/spectrum.py:224: UserWarning: n_fft=1024 is too small for input signal of length=848\n",
            "  n_fft, y.shape[-1]\n",
            "/usr/local/lib/python3.7/dist-packages/librosa/core/spectrum.py:224: UserWarning: n_fft=1024 is too small for input signal of length=838\n",
            "  n_fft, y.shape[-1]\n",
            "/usr/local/lib/python3.7/dist-packages/librosa/core/spectrum.py:224: UserWarning: n_fft=1024 is too small for input signal of length=969\n",
            "  n_fft, y.shape[-1]\n",
            "/usr/local/lib/python3.7/dist-packages/librosa/core/spectrum.py:224: UserWarning: n_fft=1024 is too small for input signal of length=898\n",
            "  n_fft, y.shape[-1]\n",
            "/usr/local/lib/python3.7/dist-packages/librosa/core/spectrum.py:224: UserWarning: n_fft=1024 is too small for input signal of length=956\n",
            "  n_fft, y.shape[-1]\n"
          ],
          "name": "stderr"
        },
        {
          "output_type": "stream",
          "text": [
            "1000\n"
          ],
          "name": "stdout"
        },
        {
          "output_type": "stream",
          "text": [
            "/usr/local/lib/python3.7/dist-packages/librosa/core/spectrum.py:224: UserWarning: n_fft=1024 is too small for input signal of length=867\n",
            "  n_fft, y.shape[-1]\n",
            "/usr/local/lib/python3.7/dist-packages/librosa/core/spectrum.py:224: UserWarning: n_fft=1024 is too small for input signal of length=954\n",
            "  n_fft, y.shape[-1]\n",
            "/usr/local/lib/python3.7/dist-packages/librosa/core/spectrum.py:224: UserWarning: n_fft=1024 is too small for input signal of length=781\n",
            "  n_fft, y.shape[-1]\n",
            "/usr/local/lib/python3.7/dist-packages/librosa/core/spectrum.py:224: UserWarning: n_fft=1024 is too small for input signal of length=883\n",
            "  n_fft, y.shape[-1]\n",
            "/usr/local/lib/python3.7/dist-packages/librosa/core/spectrum.py:224: UserWarning: n_fft=1024 is too small for input signal of length=989\n",
            "  n_fft, y.shape[-1]\n",
            "/usr/local/lib/python3.7/dist-packages/librosa/core/spectrum.py:224: UserWarning: n_fft=1024 is too small for input signal of length=890\n",
            "  n_fft, y.shape[-1]\n",
            "/usr/local/lib/python3.7/dist-packages/librosa/core/spectrum.py:224: UserWarning: n_fft=1024 is too small for input signal of length=903\n",
            "  n_fft, y.shape[-1]\n",
            "/usr/local/lib/python3.7/dist-packages/librosa/core/spectrum.py:224: UserWarning: n_fft=1024 is too small for input signal of length=729\n",
            "  n_fft, y.shape[-1]\n",
            "/usr/local/lib/python3.7/dist-packages/librosa/core/spectrum.py:224: UserWarning: n_fft=1024 is too small for input signal of length=799\n",
            "  n_fft, y.shape[-1]\n",
            "/usr/local/lib/python3.7/dist-packages/librosa/core/spectrum.py:224: UserWarning: n_fft=1024 is too small for input signal of length=829\n",
            "  n_fft, y.shape[-1]\n",
            "/usr/local/lib/python3.7/dist-packages/librosa/core/spectrum.py:224: UserWarning: n_fft=1024 is too small for input signal of length=1014\n",
            "  n_fft, y.shape[-1]\n",
            "/usr/local/lib/python3.7/dist-packages/librosa/core/spectrum.py:224: UserWarning: n_fft=1024 is too small for input signal of length=927\n",
            "  n_fft, y.shape[-1]\n",
            "/usr/local/lib/python3.7/dist-packages/librosa/core/spectrum.py:224: UserWarning: n_fft=1024 is too small for input signal of length=955\n",
            "  n_fft, y.shape[-1]\n",
            "/usr/local/lib/python3.7/dist-packages/librosa/core/spectrum.py:224: UserWarning: n_fft=1024 is too small for input signal of length=562\n",
            "  n_fft, y.shape[-1]\n",
            "/usr/local/lib/python3.7/dist-packages/librosa/core/spectrum.py:224: UserWarning: n_fft=1024 is too small for input signal of length=788\n",
            "  n_fft, y.shape[-1]\n",
            "/usr/local/lib/python3.7/dist-packages/librosa/core/spectrum.py:224: UserWarning: n_fft=1024 is too small for input signal of length=849\n",
            "  n_fft, y.shape[-1]\n",
            "/usr/local/lib/python3.7/dist-packages/librosa/core/spectrum.py:224: UserWarning: n_fft=1024 is too small for input signal of length=1010\n",
            "  n_fft, y.shape[-1]\n",
            "/usr/local/lib/python3.7/dist-packages/librosa/core/spectrum.py:224: UserWarning: n_fft=1024 is too small for input signal of length=654\n",
            "  n_fft, y.shape[-1]\n",
            "/usr/local/lib/python3.7/dist-packages/librosa/core/spectrum.py:224: UserWarning: n_fft=1024 is too small for input signal of length=880\n",
            "  n_fft, y.shape[-1]\n",
            "/usr/local/lib/python3.7/dist-packages/librosa/core/spectrum.py:224: UserWarning: n_fft=1024 is too small for input signal of length=991\n",
            "  n_fft, y.shape[-1]\n",
            "/usr/local/lib/python3.7/dist-packages/librosa/core/spectrum.py:224: UserWarning: n_fft=1024 is too small for input signal of length=822\n",
            "  n_fft, y.shape[-1]\n",
            "/usr/local/lib/python3.7/dist-packages/librosa/core/spectrum.py:224: UserWarning: n_fft=1024 is too small for input signal of length=624\n",
            "  n_fft, y.shape[-1]\n",
            "/usr/local/lib/python3.7/dist-packages/librosa/core/spectrum.py:224: UserWarning: n_fft=1024 is too small for input signal of length=821\n",
            "  n_fft, y.shape[-1]\n",
            "/usr/local/lib/python3.7/dist-packages/librosa/core/spectrum.py:224: UserWarning: n_fft=1024 is too small for input signal of length=925\n",
            "  n_fft, y.shape[-1]\n",
            "/usr/local/lib/python3.7/dist-packages/librosa/core/spectrum.py:224: UserWarning: n_fft=1024 is too small for input signal of length=916\n",
            "  n_fft, y.shape[-1]\n",
            "/usr/local/lib/python3.7/dist-packages/librosa/core/spectrum.py:224: UserWarning: n_fft=1024 is too small for input signal of length=939\n",
            "  n_fft, y.shape[-1]\n",
            "/usr/local/lib/python3.7/dist-packages/librosa/core/spectrum.py:224: UserWarning: n_fft=1024 is too small for input signal of length=759\n",
            "  n_fft, y.shape[-1]\n",
            "/usr/local/lib/python3.7/dist-packages/librosa/core/spectrum.py:224: UserWarning: n_fft=1024 is too small for input signal of length=647\n",
            "  n_fft, y.shape[-1]\n",
            "/usr/local/lib/python3.7/dist-packages/librosa/core/spectrum.py:224: UserWarning: n_fft=1024 is too small for input signal of length=831\n",
            "  n_fft, y.shape[-1]\n"
          ],
          "name": "stderr"
        },
        {
          "output_type": "stream",
          "text": [
            "2000\n"
          ],
          "name": "stdout"
        },
        {
          "output_type": "stream",
          "text": [
            "/usr/local/lib/python3.7/dist-packages/librosa/core/spectrum.py:224: UserWarning: n_fft=1024 is too small for input signal of length=607\n",
            "  n_fft, y.shape[-1]\n",
            "/usr/local/lib/python3.7/dist-packages/librosa/core/spectrum.py:224: UserWarning: n_fft=1024 is too small for input signal of length=853\n",
            "  n_fft, y.shape[-1]\n",
            "/usr/local/lib/python3.7/dist-packages/librosa/core/spectrum.py:224: UserWarning: n_fft=1024 is too small for input signal of length=996\n",
            "  n_fft, y.shape[-1]\n",
            "/usr/local/lib/python3.7/dist-packages/librosa/core/spectrum.py:224: UserWarning: n_fft=1024 is too small for input signal of length=993\n",
            "  n_fft, y.shape[-1]\n",
            "/usr/local/lib/python3.7/dist-packages/librosa/core/spectrum.py:224: UserWarning: n_fft=1024 is too small for input signal of length=930\n",
            "  n_fft, y.shape[-1]\n",
            "/usr/local/lib/python3.7/dist-packages/librosa/core/spectrum.py:224: UserWarning: n_fft=1024 is too small for input signal of length=809\n",
            "  n_fft, y.shape[-1]\n",
            "/usr/local/lib/python3.7/dist-packages/librosa/core/spectrum.py:224: UserWarning: n_fft=1024 is too small for input signal of length=864\n",
            "  n_fft, y.shape[-1]\n",
            "/usr/local/lib/python3.7/dist-packages/librosa/core/spectrum.py:224: UserWarning: n_fft=1024 is too small for input signal of length=638\n",
            "  n_fft, y.shape[-1]\n",
            "/usr/local/lib/python3.7/dist-packages/librosa/core/spectrum.py:224: UserWarning: n_fft=1024 is too small for input signal of length=1006\n",
            "  n_fft, y.shape[-1]\n",
            "/usr/local/lib/python3.7/dist-packages/librosa/core/spectrum.py:224: UserWarning: n_fft=1024 is too small for input signal of length=965\n",
            "  n_fft, y.shape[-1]\n",
            "/usr/local/lib/python3.7/dist-packages/librosa/core/spectrum.py:224: UserWarning: n_fft=1024 is too small for input signal of length=657\n",
            "  n_fft, y.shape[-1]\n",
            "/usr/local/lib/python3.7/dist-packages/librosa/core/spectrum.py:224: UserWarning: n_fft=1024 is too small for input signal of length=966\n",
            "  n_fft, y.shape[-1]\n",
            "/usr/local/lib/python3.7/dist-packages/librosa/core/spectrum.py:224: UserWarning: n_fft=1024 is too small for input signal of length=798\n",
            "  n_fft, y.shape[-1]\n",
            "/usr/local/lib/python3.7/dist-packages/librosa/core/spectrum.py:224: UserWarning: n_fft=1024 is too small for input signal of length=584\n",
            "  n_fft, y.shape[-1]\n",
            "/usr/local/lib/python3.7/dist-packages/librosa/core/spectrum.py:224: UserWarning: n_fft=1024 is too small for input signal of length=776\n",
            "  n_fft, y.shape[-1]\n",
            "/usr/local/lib/python3.7/dist-packages/librosa/core/spectrum.py:224: UserWarning: n_fft=1024 is too small for input signal of length=671\n",
            "  n_fft, y.shape[-1]\n",
            "/usr/local/lib/python3.7/dist-packages/librosa/core/spectrum.py:224: UserWarning: n_fft=1024 is too small for input signal of length=691\n",
            "  n_fft, y.shape[-1]\n",
            "/usr/local/lib/python3.7/dist-packages/librosa/core/spectrum.py:224: UserWarning: n_fft=1024 is too small for input signal of length=768\n",
            "  n_fft, y.shape[-1]\n",
            "/usr/local/lib/python3.7/dist-packages/librosa/core/spectrum.py:224: UserWarning: n_fft=1024 is too small for input signal of length=597\n",
            "  n_fft, y.shape[-1]\n",
            "/usr/local/lib/python3.7/dist-packages/librosa/core/spectrum.py:224: UserWarning: n_fft=1024 is too small for input signal of length=693\n",
            "  n_fft, y.shape[-1]\n",
            "/usr/local/lib/python3.7/dist-packages/librosa/core/spectrum.py:224: UserWarning: n_fft=1024 is too small for input signal of length=697\n",
            "  n_fft, y.shape[-1]\n",
            "/usr/local/lib/python3.7/dist-packages/librosa/core/spectrum.py:224: UserWarning: n_fft=1024 is too small for input signal of length=645\n",
            "  n_fft, y.shape[-1]\n",
            "/usr/local/lib/python3.7/dist-packages/librosa/core/spectrum.py:224: UserWarning: n_fft=1024 is too small for input signal of length=812\n",
            "  n_fft, y.shape[-1]\n",
            "/usr/local/lib/python3.7/dist-packages/librosa/core/spectrum.py:224: UserWarning: n_fft=1024 is too small for input signal of length=718\n",
            "  n_fft, y.shape[-1]\n",
            "/usr/local/lib/python3.7/dist-packages/librosa/core/spectrum.py:224: UserWarning: n_fft=1024 is too small for input signal of length=521\n",
            "  n_fft, y.shape[-1]\n",
            "/usr/local/lib/python3.7/dist-packages/librosa/core/spectrum.py:224: UserWarning: n_fft=1024 is too small for input signal of length=738\n",
            "  n_fft, y.shape[-1]\n",
            "/usr/local/lib/python3.7/dist-packages/librosa/core/spectrum.py:224: UserWarning: n_fft=1024 is too small for input signal of length=813\n",
            "  n_fft, y.shape[-1]\n",
            "/usr/local/lib/python3.7/dist-packages/librosa/core/spectrum.py:224: UserWarning: n_fft=1024 is too small for input signal of length=794\n",
            "  n_fft, y.shape[-1]\n",
            "/usr/local/lib/python3.7/dist-packages/librosa/core/spectrum.py:224: UserWarning: n_fft=1024 is too small for input signal of length=894\n",
            "  n_fft, y.shape[-1]\n",
            "/usr/local/lib/python3.7/dist-packages/librosa/core/spectrum.py:224: UserWarning: n_fft=1024 is too small for input signal of length=703\n",
            "  n_fft, y.shape[-1]\n",
            "/usr/local/lib/python3.7/dist-packages/librosa/core/spectrum.py:224: UserWarning: n_fft=1024 is too small for input signal of length=649\n",
            "  n_fft, y.shape[-1]\n",
            "/usr/local/lib/python3.7/dist-packages/librosa/core/spectrum.py:224: UserWarning: n_fft=1024 is too small for input signal of length=713\n",
            "  n_fft, y.shape[-1]\n",
            "/usr/local/lib/python3.7/dist-packages/librosa/core/spectrum.py:224: UserWarning: n_fft=1024 is too small for input signal of length=606\n",
            "  n_fft, y.shape[-1]\n",
            "/usr/local/lib/python3.7/dist-packages/librosa/core/spectrum.py:224: UserWarning: n_fft=1024 is too small for input signal of length=741\n",
            "  n_fft, y.shape[-1]\n",
            "/usr/local/lib/python3.7/dist-packages/librosa/core/spectrum.py:224: UserWarning: n_fft=1024 is too small for input signal of length=801\n",
            "  n_fft, y.shape[-1]\n",
            "/usr/local/lib/python3.7/dist-packages/librosa/core/spectrum.py:224: UserWarning: n_fft=1024 is too small for input signal of length=635\n",
            "  n_fft, y.shape[-1]\n",
            "/usr/local/lib/python3.7/dist-packages/librosa/core/spectrum.py:224: UserWarning: n_fft=1024 is too small for input signal of length=601\n",
            "  n_fft, y.shape[-1]\n",
            "/usr/local/lib/python3.7/dist-packages/librosa/core/spectrum.py:224: UserWarning: n_fft=1024 is too small for input signal of length=740\n",
            "  n_fft, y.shape[-1]\n",
            "/usr/local/lib/python3.7/dist-packages/librosa/core/spectrum.py:224: UserWarning: n_fft=1024 is too small for input signal of length=715\n",
            "  n_fft, y.shape[-1]\n",
            "/usr/local/lib/python3.7/dist-packages/librosa/core/spectrum.py:224: UserWarning: n_fft=1024 is too small for input signal of length=688\n",
            "  n_fft, y.shape[-1]\n",
            "/usr/local/lib/python3.7/dist-packages/librosa/core/spectrum.py:224: UserWarning: n_fft=1024 is too small for input signal of length=771\n",
            "  n_fft, y.shape[-1]\n",
            "/usr/local/lib/python3.7/dist-packages/librosa/core/spectrum.py:224: UserWarning: n_fft=1024 is too small for input signal of length=655\n",
            "  n_fft, y.shape[-1]\n",
            "/usr/local/lib/python3.7/dist-packages/librosa/core/spectrum.py:224: UserWarning: n_fft=1024 is too small for input signal of length=875\n",
            "  n_fft, y.shape[-1]\n",
            "/usr/local/lib/python3.7/dist-packages/librosa/core/spectrum.py:224: UserWarning: n_fft=1024 is too small for input signal of length=787\n",
            "  n_fft, y.shape[-1]\n",
            "/usr/local/lib/python3.7/dist-packages/librosa/core/spectrum.py:224: UserWarning: n_fft=1024 is too small for input signal of length=736\n",
            "  n_fft, y.shape[-1]\n",
            "/usr/local/lib/python3.7/dist-packages/librosa/core/spectrum.py:224: UserWarning: n_fft=1024 is too small for input signal of length=922\n",
            "  n_fft, y.shape[-1]\n",
            "/usr/local/lib/python3.7/dist-packages/librosa/core/spectrum.py:224: UserWarning: n_fft=1024 is too small for input signal of length=745\n",
            "  n_fft, y.shape[-1]\n",
            "/usr/local/lib/python3.7/dist-packages/librosa/core/spectrum.py:224: UserWarning: n_fft=1024 is too small for input signal of length=719\n",
            "  n_fft, y.shape[-1]\n",
            "/usr/local/lib/python3.7/dist-packages/librosa/core/spectrum.py:224: UserWarning: n_fft=1024 is too small for input signal of length=711\n",
            "  n_fft, y.shape[-1]\n",
            "/usr/local/lib/python3.7/dist-packages/librosa/core/spectrum.py:224: UserWarning: n_fft=1024 is too small for input signal of length=619\n",
            "  n_fft, y.shape[-1]\n",
            "/usr/local/lib/python3.7/dist-packages/librosa/core/spectrum.py:224: UserWarning: n_fft=1024 is too small for input signal of length=702\n",
            "  n_fft, y.shape[-1]\n",
            "/usr/local/lib/python3.7/dist-packages/librosa/core/spectrum.py:224: UserWarning: n_fft=1024 is too small for input signal of length=756\n",
            "  n_fft, y.shape[-1]\n",
            "/usr/local/lib/python3.7/dist-packages/librosa/core/spectrum.py:224: UserWarning: n_fft=1024 is too small for input signal of length=665\n",
            "  n_fft, y.shape[-1]\n",
            "/usr/local/lib/python3.7/dist-packages/librosa/core/spectrum.py:224: UserWarning: n_fft=1024 is too small for input signal of length=661\n",
            "  n_fft, y.shape[-1]\n",
            "/usr/local/lib/python3.7/dist-packages/librosa/core/spectrum.py:224: UserWarning: n_fft=1024 is too small for input signal of length=663\n",
            "  n_fft, y.shape[-1]\n",
            "/usr/local/lib/python3.7/dist-packages/librosa/core/spectrum.py:224: UserWarning: n_fft=1024 is too small for input signal of length=928\n",
            "  n_fft, y.shape[-1]\n",
            "/usr/local/lib/python3.7/dist-packages/librosa/core/spectrum.py:224: UserWarning: n_fft=1024 is too small for input signal of length=792\n",
            "  n_fft, y.shape[-1]\n",
            "/usr/local/lib/python3.7/dist-packages/librosa/core/spectrum.py:224: UserWarning: n_fft=1024 is too small for input signal of length=949\n",
            "  n_fft, y.shape[-1]\n",
            "/usr/local/lib/python3.7/dist-packages/librosa/core/spectrum.py:224: UserWarning: n_fft=1024 is too small for input signal of length=579\n",
            "  n_fft, y.shape[-1]\n",
            "/usr/local/lib/python3.7/dist-packages/librosa/core/spectrum.py:224: UserWarning: n_fft=1024 is too small for input signal of length=803\n",
            "  n_fft, y.shape[-1]\n",
            "/usr/local/lib/python3.7/dist-packages/librosa/core/spectrum.py:224: UserWarning: n_fft=1024 is too small for input signal of length=612\n",
            "  n_fft, y.shape[-1]\n",
            "/usr/local/lib/python3.7/dist-packages/librosa/core/spectrum.py:224: UserWarning: n_fft=1024 is too small for input signal of length=699\n",
            "  n_fft, y.shape[-1]\n",
            "/usr/local/lib/python3.7/dist-packages/librosa/core/spectrum.py:224: UserWarning: n_fft=1024 is too small for input signal of length=561\n",
            "  n_fft, y.shape[-1]\n",
            "/usr/local/lib/python3.7/dist-packages/librosa/core/spectrum.py:224: UserWarning: n_fft=1024 is too small for input signal of length=683\n",
            "  n_fft, y.shape[-1]\n",
            "/usr/local/lib/python3.7/dist-packages/librosa/core/spectrum.py:224: UserWarning: n_fft=1024 is too small for input signal of length=616\n",
            "  n_fft, y.shape[-1]\n",
            "/usr/local/lib/python3.7/dist-packages/librosa/core/spectrum.py:224: UserWarning: n_fft=1024 is too small for input signal of length=632\n",
            "  n_fft, y.shape[-1]\n",
            "/usr/local/lib/python3.7/dist-packages/librosa/core/spectrum.py:224: UserWarning: n_fft=1024 is too small for input signal of length=844\n",
            "  n_fft, y.shape[-1]\n",
            "/usr/local/lib/python3.7/dist-packages/librosa/core/spectrum.py:224: UserWarning: n_fft=1024 is too small for input signal of length=751\n",
            "  n_fft, y.shape[-1]\n",
            "/usr/local/lib/python3.7/dist-packages/librosa/core/spectrum.py:224: UserWarning: n_fft=1024 is too small for input signal of length=728\n",
            "  n_fft, y.shape[-1]\n",
            "/usr/local/lib/python3.7/dist-packages/librosa/core/spectrum.py:224: UserWarning: n_fft=1024 is too small for input signal of length=724\n",
            "  n_fft, y.shape[-1]\n",
            "/usr/local/lib/python3.7/dist-packages/librosa/core/spectrum.py:224: UserWarning: n_fft=1024 is too small for input signal of length=602\n",
            "  n_fft, y.shape[-1]\n",
            "/usr/local/lib/python3.7/dist-packages/librosa/core/spectrum.py:224: UserWarning: n_fft=1024 is too small for input signal of length=743\n",
            "  n_fft, y.shape[-1]\n",
            "/usr/local/lib/python3.7/dist-packages/librosa/core/spectrum.py:224: UserWarning: n_fft=1024 is too small for input signal of length=725\n",
            "  n_fft, y.shape[-1]\n",
            "/usr/local/lib/python3.7/dist-packages/librosa/core/spectrum.py:224: UserWarning: n_fft=1024 is too small for input signal of length=714\n",
            "  n_fft, y.shape[-1]\n",
            "/usr/local/lib/python3.7/dist-packages/librosa/core/spectrum.py:224: UserWarning: n_fft=1024 is too small for input signal of length=648\n",
            "  n_fft, y.shape[-1]\n",
            "/usr/local/lib/python3.7/dist-packages/librosa/core/spectrum.py:224: UserWarning: n_fft=1024 is too small for input signal of length=706\n",
            "  n_fft, y.shape[-1]\n",
            "/usr/local/lib/python3.7/dist-packages/librosa/core/spectrum.py:224: UserWarning: n_fft=1024 is too small for input signal of length=832\n",
            "  n_fft, y.shape[-1]\n",
            "/usr/local/lib/python3.7/dist-packages/librosa/core/spectrum.py:224: UserWarning: n_fft=1024 is too small for input signal of length=779\n",
            "  n_fft, y.shape[-1]\n",
            "/usr/local/lib/python3.7/dist-packages/librosa/core/spectrum.py:224: UserWarning: n_fft=1024 is too small for input signal of length=690\n",
            "  n_fft, y.shape[-1]\n",
            "/usr/local/lib/python3.7/dist-packages/librosa/core/spectrum.py:224: UserWarning: n_fft=1024 is too small for input signal of length=573\n",
            "  n_fft, y.shape[-1]\n",
            "/usr/local/lib/python3.7/dist-packages/librosa/core/spectrum.py:224: UserWarning: n_fft=1024 is too small for input signal of length=712\n",
            "  n_fft, y.shape[-1]\n",
            "/usr/local/lib/python3.7/dist-packages/librosa/core/spectrum.py:224: UserWarning: n_fft=1024 is too small for input signal of length=698\n",
            "  n_fft, y.shape[-1]\n",
            "/usr/local/lib/python3.7/dist-packages/librosa/core/spectrum.py:224: UserWarning: n_fft=1024 is too small for input signal of length=662\n",
            "  n_fft, y.shape[-1]\n",
            "/usr/local/lib/python3.7/dist-packages/librosa/core/spectrum.py:224: UserWarning: n_fft=1024 is too small for input signal of length=575\n",
            "  n_fft, y.shape[-1]\n",
            "/usr/local/lib/python3.7/dist-packages/librosa/core/spectrum.py:224: UserWarning: n_fft=1024 is too small for input signal of length=594\n",
            "  n_fft, y.shape[-1]\n",
            "/usr/local/lib/python3.7/dist-packages/librosa/core/spectrum.py:224: UserWarning: n_fft=1024 is too small for input signal of length=589\n",
            "  n_fft, y.shape[-1]\n",
            "/usr/local/lib/python3.7/dist-packages/librosa/core/spectrum.py:224: UserWarning: n_fft=1024 is too small for input signal of length=730\n",
            "  n_fft, y.shape[-1]\n",
            "/usr/local/lib/python3.7/dist-packages/librosa/core/spectrum.py:224: UserWarning: n_fft=1024 is too small for input signal of length=605\n",
            "  n_fft, y.shape[-1]\n",
            "/usr/local/lib/python3.7/dist-packages/librosa/core/spectrum.py:224: UserWarning: n_fft=1024 is too small for input signal of length=739\n",
            "  n_fft, y.shape[-1]\n",
            "/usr/local/lib/python3.7/dist-packages/librosa/core/spectrum.py:224: UserWarning: n_fft=1024 is too small for input signal of length=767\n",
            "  n_fft, y.shape[-1]\n",
            "/usr/local/lib/python3.7/dist-packages/librosa/core/spectrum.py:224: UserWarning: n_fft=1024 is too small for input signal of length=701\n",
            "  n_fft, y.shape[-1]\n",
            "/usr/local/lib/python3.7/dist-packages/librosa/core/spectrum.py:224: UserWarning: n_fft=1024 is too small for input signal of length=758\n",
            "  n_fft, y.shape[-1]\n",
            "/usr/local/lib/python3.7/dist-packages/librosa/core/spectrum.py:224: UserWarning: n_fft=1024 is too small for input signal of length=622\n",
            "  n_fft, y.shape[-1]\n",
            "/usr/local/lib/python3.7/dist-packages/librosa/core/spectrum.py:224: UserWarning: n_fft=1024 is too small for input signal of length=895\n",
            "  n_fft, y.shape[-1]\n",
            "/usr/local/lib/python3.7/dist-packages/librosa/core/spectrum.py:224: UserWarning: n_fft=1024 is too small for input signal of length=833\n",
            "  n_fft, y.shape[-1]\n",
            "/usr/local/lib/python3.7/dist-packages/librosa/core/spectrum.py:224: UserWarning: n_fft=1024 is too small for input signal of length=980\n",
            "  n_fft, y.shape[-1]\n",
            "/usr/local/lib/python3.7/dist-packages/librosa/core/spectrum.py:224: UserWarning: n_fft=1024 is too small for input signal of length=490\n",
            "  n_fft, y.shape[-1]\n",
            "/usr/local/lib/python3.7/dist-packages/librosa/core/spectrum.py:224: UserWarning: n_fft=1024 is too small for input signal of length=806\n",
            "  n_fft, y.shape[-1]\n",
            "/usr/local/lib/python3.7/dist-packages/librosa/core/spectrum.py:224: UserWarning: n_fft=1024 is too small for input signal of length=667\n",
            "  n_fft, y.shape[-1]\n",
            "/usr/local/lib/python3.7/dist-packages/librosa/core/spectrum.py:224: UserWarning: n_fft=1024 is too small for input signal of length=532\n",
            "  n_fft, y.shape[-1]\n",
            "/usr/local/lib/python3.7/dist-packages/librosa/core/spectrum.py:224: UserWarning: n_fft=1024 is too small for input signal of length=797\n",
            "  n_fft, y.shape[-1]\n",
            "/usr/local/lib/python3.7/dist-packages/librosa/core/spectrum.py:224: UserWarning: n_fft=1024 is too small for input signal of length=678\n",
            "  n_fft, y.shape[-1]\n",
            "/usr/local/lib/python3.7/dist-packages/librosa/core/spectrum.py:224: UserWarning: n_fft=1024 is too small for input signal of length=592\n",
            "  n_fft, y.shape[-1]\n",
            "/usr/local/lib/python3.7/dist-packages/librosa/core/spectrum.py:224: UserWarning: n_fft=1024 is too small for input signal of length=733\n",
            "  n_fft, y.shape[-1]\n",
            "/usr/local/lib/python3.7/dist-packages/librosa/core/spectrum.py:224: UserWarning: n_fft=1024 is too small for input signal of length=884\n",
            "  n_fft, y.shape[-1]\n",
            "/usr/local/lib/python3.7/dist-packages/librosa/core/spectrum.py:224: UserWarning: n_fft=1024 is too small for input signal of length=885\n",
            "  n_fft, y.shape[-1]\n",
            "/usr/local/lib/python3.7/dist-packages/librosa/core/spectrum.py:224: UserWarning: n_fft=1024 is too small for input signal of length=912\n",
            "  n_fft, y.shape[-1]\n",
            "/usr/local/lib/python3.7/dist-packages/librosa/core/spectrum.py:224: UserWarning: n_fft=1024 is too small for input signal of length=692\n",
            "  n_fft, y.shape[-1]\n",
            "/usr/local/lib/python3.7/dist-packages/librosa/core/spectrum.py:224: UserWarning: n_fft=1024 is too small for input signal of length=800\n",
            "  n_fft, y.shape[-1]\n",
            "/usr/local/lib/python3.7/dist-packages/librosa/core/spectrum.py:224: UserWarning: n_fft=1024 is too small for input signal of length=763\n",
            "  n_fft, y.shape[-1]\n",
            "/usr/local/lib/python3.7/dist-packages/librosa/core/spectrum.py:224: UserWarning: n_fft=1024 is too small for input signal of length=613\n",
            "  n_fft, y.shape[-1]\n",
            "/usr/local/lib/python3.7/dist-packages/librosa/core/spectrum.py:224: UserWarning: n_fft=1024 is too small for input signal of length=778\n",
            "  n_fft, y.shape[-1]\n",
            "/usr/local/lib/python3.7/dist-packages/librosa/core/spectrum.py:224: UserWarning: n_fft=1024 is too small for input signal of length=749\n",
            "  n_fft, y.shape[-1]\n",
            "/usr/local/lib/python3.7/dist-packages/librosa/core/spectrum.py:224: UserWarning: n_fft=1024 is too small for input signal of length=805\n",
            "  n_fft, y.shape[-1]\n",
            "/usr/local/lib/python3.7/dist-packages/librosa/core/spectrum.py:224: UserWarning: n_fft=1024 is too small for input signal of length=744\n",
            "  n_fft, y.shape[-1]\n",
            "/usr/local/lib/python3.7/dist-packages/librosa/core/spectrum.py:224: UserWarning: n_fft=1024 is too small for input signal of length=810\n",
            "  n_fft, y.shape[-1]\n",
            "/usr/local/lib/python3.7/dist-packages/librosa/core/spectrum.py:224: UserWarning: n_fft=1024 is too small for input signal of length=614\n",
            "  n_fft, y.shape[-1]\n",
            "/usr/local/lib/python3.7/dist-packages/librosa/core/spectrum.py:224: UserWarning: n_fft=1024 is too small for input signal of length=902\n",
            "  n_fft, y.shape[-1]\n",
            "/usr/local/lib/python3.7/dist-packages/librosa/core/spectrum.py:224: UserWarning: n_fft=1024 is too small for input signal of length=627\n",
            "  n_fft, y.shape[-1]\n",
            "/usr/local/lib/python3.7/dist-packages/librosa/core/spectrum.py:224: UserWarning: n_fft=1024 is too small for input signal of length=707\n",
            "  n_fft, y.shape[-1]\n",
            "/usr/local/lib/python3.7/dist-packages/librosa/core/spectrum.py:224: UserWarning: n_fft=1024 is too small for input signal of length=689\n",
            "  n_fft, y.shape[-1]\n",
            "/usr/local/lib/python3.7/dist-packages/librosa/core/spectrum.py:224: UserWarning: n_fft=1024 is too small for input signal of length=650\n",
            "  n_fft, y.shape[-1]\n",
            "/usr/local/lib/python3.7/dist-packages/librosa/core/spectrum.py:224: UserWarning: n_fft=1024 is too small for input signal of length=815\n",
            "  n_fft, y.shape[-1]\n",
            "/usr/local/lib/python3.7/dist-packages/librosa/core/spectrum.py:224: UserWarning: n_fft=1024 is too small for input signal of length=820\n",
            "  n_fft, y.shape[-1]\n",
            "/usr/local/lib/python3.7/dist-packages/librosa/core/spectrum.py:224: UserWarning: n_fft=1024 is too small for input signal of length=672\n",
            "  n_fft, y.shape[-1]\n",
            "/usr/local/lib/python3.7/dist-packages/librosa/core/spectrum.py:224: UserWarning: n_fft=1024 is too small for input signal of length=641\n",
            "  n_fft, y.shape[-1]\n",
            "/usr/local/lib/python3.7/dist-packages/librosa/core/spectrum.py:224: UserWarning: n_fft=1024 is too small for input signal of length=770\n",
            "  n_fft, y.shape[-1]\n",
            "/usr/local/lib/python3.7/dist-packages/librosa/core/spectrum.py:224: UserWarning: n_fft=1024 is too small for input signal of length=732\n",
            "  n_fft, y.shape[-1]\n",
            "/usr/local/lib/python3.7/dist-packages/librosa/core/spectrum.py:224: UserWarning: n_fft=1024 is too small for input signal of length=670\n",
            "  n_fft, y.shape[-1]\n",
            "/usr/local/lib/python3.7/dist-packages/librosa/core/spectrum.py:224: UserWarning: n_fft=1024 is too small for input signal of length=760\n",
            "  n_fft, y.shape[-1]\n",
            "/usr/local/lib/python3.7/dist-packages/librosa/core/spectrum.py:224: UserWarning: n_fft=1024 is too small for input signal of length=566\n",
            "  n_fft, y.shape[-1]\n",
            "/usr/local/lib/python3.7/dist-packages/librosa/core/spectrum.py:224: UserWarning: n_fft=1024 is too small for input signal of length=593\n",
            "  n_fft, y.shape[-1]\n",
            "/usr/local/lib/python3.7/dist-packages/librosa/core/spectrum.py:224: UserWarning: n_fft=1024 is too small for input signal of length=599\n",
            "  n_fft, y.shape[-1]\n",
            "/usr/local/lib/python3.7/dist-packages/librosa/core/spectrum.py:224: UserWarning: n_fft=1024 is too small for input signal of length=722\n",
            "  n_fft, y.shape[-1]\n",
            "/usr/local/lib/python3.7/dist-packages/librosa/core/spectrum.py:224: UserWarning: n_fft=1024 is too small for input signal of length=863\n",
            "  n_fft, y.shape[-1]\n",
            "/usr/local/lib/python3.7/dist-packages/librosa/core/spectrum.py:224: UserWarning: n_fft=1024 is too small for input signal of length=676\n",
            "  n_fft, y.shape[-1]\n",
            "/usr/local/lib/python3.7/dist-packages/librosa/core/spectrum.py:224: UserWarning: n_fft=1024 is too small for input signal of length=586\n",
            "  n_fft, y.shape[-1]\n",
            "/usr/local/lib/python3.7/dist-packages/librosa/core/spectrum.py:224: UserWarning: n_fft=1024 is too small for input signal of length=604\n",
            "  n_fft, y.shape[-1]\n",
            "/usr/local/lib/python3.7/dist-packages/librosa/core/spectrum.py:224: UserWarning: n_fft=1024 is too small for input signal of length=572\n",
            "  n_fft, y.shape[-1]\n",
            "/usr/local/lib/python3.7/dist-packages/librosa/core/spectrum.py:224: UserWarning: n_fft=1024 is too small for input signal of length=710\n",
            "  n_fft, y.shape[-1]\n",
            "/usr/local/lib/python3.7/dist-packages/librosa/core/spectrum.py:224: UserWarning: n_fft=1024 is too small for input signal of length=826\n",
            "  n_fft, y.shape[-1]\n",
            "/usr/local/lib/python3.7/dist-packages/librosa/core/spectrum.py:224: UserWarning: n_fft=1024 is too small for input signal of length=775\n",
            "  n_fft, y.shape[-1]\n",
            "/usr/local/lib/python3.7/dist-packages/librosa/core/spectrum.py:224: UserWarning: n_fft=1024 is too small for input signal of length=705\n",
            "  n_fft, y.shape[-1]\n",
            "/usr/local/lib/python3.7/dist-packages/librosa/core/spectrum.py:224: UserWarning: n_fft=1024 is too small for input signal of length=879\n",
            "  n_fft, y.shape[-1]\n",
            "/usr/local/lib/python3.7/dist-packages/librosa/core/spectrum.py:224: UserWarning: n_fft=1024 is too small for input signal of length=659\n",
            "  n_fft, y.shape[-1]\n",
            "/usr/local/lib/python3.7/dist-packages/librosa/core/spectrum.py:224: UserWarning: n_fft=1024 is too small for input signal of length=780\n",
            "  n_fft, y.shape[-1]\n",
            "/usr/local/lib/python3.7/dist-packages/librosa/core/spectrum.py:224: UserWarning: n_fft=1024 is too small for input signal of length=825\n",
            "  n_fft, y.shape[-1]\n",
            "/usr/local/lib/python3.7/dist-packages/librosa/core/spectrum.py:224: UserWarning: n_fft=1024 is too small for input signal of length=721\n",
            "  n_fft, y.shape[-1]\n",
            "/usr/local/lib/python3.7/dist-packages/librosa/core/spectrum.py:224: UserWarning: n_fft=1024 is too small for input signal of length=793\n",
            "  n_fft, y.shape[-1]\n",
            "/usr/local/lib/python3.7/dist-packages/librosa/core/spectrum.py:224: UserWarning: n_fft=1024 is too small for input signal of length=646\n",
            "  n_fft, y.shape[-1]\n",
            "/usr/local/lib/python3.7/dist-packages/librosa/core/spectrum.py:224: UserWarning: n_fft=1024 is too small for input signal of length=625\n",
            "  n_fft, y.shape[-1]\n",
            "/usr/local/lib/python3.7/dist-packages/librosa/core/spectrum.py:224: UserWarning: n_fft=1024 is too small for input signal of length=731\n",
            "  n_fft, y.shape[-1]\n",
            "/usr/local/lib/python3.7/dist-packages/librosa/core/spectrum.py:224: UserWarning: n_fft=1024 is too small for input signal of length=603\n",
            "  n_fft, y.shape[-1]\n",
            "/usr/local/lib/python3.7/dist-packages/librosa/core/spectrum.py:224: UserWarning: n_fft=1024 is too small for input signal of length=769\n",
            "  n_fft, y.shape[-1]\n",
            "/usr/local/lib/python3.7/dist-packages/librosa/core/spectrum.py:224: UserWarning: n_fft=1024 is too small for input signal of length=675\n",
            "  n_fft, y.shape[-1]\n",
            "/usr/local/lib/python3.7/dist-packages/librosa/core/spectrum.py:224: UserWarning: n_fft=1024 is too small for input signal of length=856\n",
            "  n_fft, y.shape[-1]\n",
            "/usr/local/lib/python3.7/dist-packages/librosa/core/spectrum.py:224: UserWarning: n_fft=1024 is too small for input signal of length=754\n",
            "  n_fft, y.shape[-1]\n",
            "/usr/local/lib/python3.7/dist-packages/librosa/core/spectrum.py:224: UserWarning: n_fft=1024 is too small for input signal of length=937\n",
            "  n_fft, y.shape[-1]\n",
            "/usr/local/lib/python3.7/dist-packages/librosa/core/spectrum.py:224: UserWarning: n_fft=1024 is too small for input signal of length=764\n",
            "  n_fft, y.shape[-1]\n",
            "/usr/local/lib/python3.7/dist-packages/librosa/core/spectrum.py:224: UserWarning: n_fft=1024 is too small for input signal of length=709\n",
            "  n_fft, y.shape[-1]\n",
            "/usr/local/lib/python3.7/dist-packages/librosa/core/spectrum.py:224: UserWarning: n_fft=1024 is too small for input signal of length=700\n",
            "  n_fft, y.shape[-1]\n",
            "/usr/local/lib/python3.7/dist-packages/librosa/core/spectrum.py:224: UserWarning: n_fft=1024 is too small for input signal of length=720\n",
            "  n_fft, y.shape[-1]\n",
            "/usr/local/lib/python3.7/dist-packages/librosa/core/spectrum.py:224: UserWarning: n_fft=1024 is too small for input signal of length=817\n",
            "  n_fft, y.shape[-1]\n",
            "/usr/local/lib/python3.7/dist-packages/librosa/core/spectrum.py:224: UserWarning: n_fft=1024 is too small for input signal of length=696\n",
            "  n_fft, y.shape[-1]\n",
            "/usr/local/lib/python3.7/dist-packages/librosa/core/spectrum.py:224: UserWarning: n_fft=1024 is too small for input signal of length=574\n",
            "  n_fft, y.shape[-1]\n",
            "/usr/local/lib/python3.7/dist-packages/librosa/core/spectrum.py:224: UserWarning: n_fft=1024 is too small for input signal of length=623\n",
            "  n_fft, y.shape[-1]\n",
            "/usr/local/lib/python3.7/dist-packages/librosa/core/spectrum.py:224: UserWarning: n_fft=1024 is too small for input signal of length=873\n",
            "  n_fft, y.shape[-1]\n",
            "/usr/local/lib/python3.7/dist-packages/librosa/core/spectrum.py:224: UserWarning: n_fft=1024 is too small for input signal of length=948\n",
            "  n_fft, y.shape[-1]\n",
            "/usr/local/lib/python3.7/dist-packages/librosa/core/spectrum.py:224: UserWarning: n_fft=1024 is too small for input signal of length=685\n",
            "  n_fft, y.shape[-1]\n",
            "/usr/local/lib/python3.7/dist-packages/librosa/core/spectrum.py:224: UserWarning: n_fft=1024 is too small for input signal of length=958\n",
            "  n_fft, y.shape[-1]\n",
            "/usr/local/lib/python3.7/dist-packages/librosa/core/spectrum.py:224: UserWarning: n_fft=1024 is too small for input signal of length=620\n",
            "  n_fft, y.shape[-1]\n",
            "/usr/local/lib/python3.7/dist-packages/librosa/core/spectrum.py:224: UserWarning: n_fft=1024 is too small for input signal of length=673\n",
            "  n_fft, y.shape[-1]\n",
            "/usr/local/lib/python3.7/dist-packages/librosa/core/spectrum.py:224: UserWarning: n_fft=1024 is too small for input signal of length=583\n",
            "  n_fft, y.shape[-1]\n",
            "/usr/local/lib/python3.7/dist-packages/librosa/core/spectrum.py:224: UserWarning: n_fft=1024 is too small for input signal of length=626\n",
            "  n_fft, y.shape[-1]\n",
            "/usr/local/lib/python3.7/dist-packages/librosa/core/spectrum.py:224: UserWarning: n_fft=1024 is too small for input signal of length=766\n",
            "  n_fft, y.shape[-1]\n",
            "/usr/local/lib/python3.7/dist-packages/librosa/core/spectrum.py:224: UserWarning: n_fft=1024 is too small for input signal of length=674\n",
            "  n_fft, y.shape[-1]\n",
            "/usr/local/lib/python3.7/dist-packages/librosa/core/spectrum.py:224: UserWarning: n_fft=1024 is too small for input signal of length=891\n",
            "  n_fft, y.shape[-1]\n",
            "/usr/local/lib/python3.7/dist-packages/librosa/core/spectrum.py:224: UserWarning: n_fft=1024 is too small for input signal of length=786\n",
            "  n_fft, y.shape[-1]\n",
            "/usr/local/lib/python3.7/dist-packages/librosa/core/spectrum.py:224: UserWarning: n_fft=1024 is too small for input signal of length=846\n",
            "  n_fft, y.shape[-1]\n",
            "/usr/local/lib/python3.7/dist-packages/librosa/core/spectrum.py:224: UserWarning: n_fft=1024 is too small for input signal of length=742\n",
            "  n_fft, y.shape[-1]\n",
            "/usr/local/lib/python3.7/dist-packages/librosa/core/spectrum.py:224: UserWarning: n_fft=1024 is too small for input signal of length=984\n",
            "  n_fft, y.shape[-1]\n",
            "/usr/local/lib/python3.7/dist-packages/librosa/core/spectrum.py:224: UserWarning: n_fft=1024 is too small for input signal of length=560\n",
            "  n_fft, y.shape[-1]\n",
            "/usr/local/lib/python3.7/dist-packages/librosa/core/spectrum.py:224: UserWarning: n_fft=1024 is too small for input signal of length=915\n",
            "  n_fft, y.shape[-1]\n",
            "/usr/local/lib/python3.7/dist-packages/librosa/core/spectrum.py:224: UserWarning: n_fft=1024 is too small for input signal of length=642\n",
            "  n_fft, y.shape[-1]\n",
            "/usr/local/lib/python3.7/dist-packages/librosa/core/spectrum.py:224: UserWarning: n_fft=1024 is too small for input signal of length=600\n",
            "  n_fft, y.shape[-1]\n",
            "/usr/local/lib/python3.7/dist-packages/librosa/core/spectrum.py:224: UserWarning: n_fft=1024 is too small for input signal of length=850\n",
            "  n_fft, y.shape[-1]\n",
            "/usr/local/lib/python3.7/dist-packages/librosa/core/spectrum.py:224: UserWarning: n_fft=1024 is too small for input signal of length=734\n",
            "  n_fft, y.shape[-1]\n",
            "/usr/local/lib/python3.7/dist-packages/librosa/core/spectrum.py:224: UserWarning: n_fft=1024 is too small for input signal of length=682\n",
            "  n_fft, y.shape[-1]\n",
            "/usr/local/lib/python3.7/dist-packages/librosa/core/spectrum.py:224: UserWarning: n_fft=1024 is too small for input signal of length=920\n",
            "  n_fft, y.shape[-1]\n",
            "/usr/local/lib/python3.7/dist-packages/librosa/core/spectrum.py:224: UserWarning: n_fft=1024 is too small for input signal of length=845\n",
            "  n_fft, y.shape[-1]\n",
            "/usr/local/lib/python3.7/dist-packages/librosa/core/spectrum.py:224: UserWarning: n_fft=1024 is too small for input signal of length=598\n",
            "  n_fft, y.shape[-1]\n",
            "/usr/local/lib/python3.7/dist-packages/librosa/core/spectrum.py:224: UserWarning: n_fft=1024 is too small for input signal of length=681\n",
            "  n_fft, y.shape[-1]\n"
          ],
          "name": "stderr"
        },
        {
          "output_type": "stream",
          "text": [
            "3000\n"
          ],
          "name": "stdout"
        },
        {
          "output_type": "stream",
          "text": [
            "/usr/local/lib/python3.7/dist-packages/librosa/core/spectrum.py:224: UserWarning: n_fft=1024 is too small for input signal of length=660\n",
            "  n_fft, y.shape[-1]\n",
            "/usr/local/lib/python3.7/dist-packages/librosa/core/spectrum.py:224: UserWarning: n_fft=1024 is too small for input signal of length=808\n",
            "  n_fft, y.shape[-1]\n",
            "/usr/local/lib/python3.7/dist-packages/librosa/core/spectrum.py:224: UserWarning: n_fft=1024 is too small for input signal of length=900\n",
            "  n_fft, y.shape[-1]\n",
            "/usr/local/lib/python3.7/dist-packages/librosa/core/spectrum.py:224: UserWarning: n_fft=1024 is too small for input signal of length=549\n",
            "  n_fft, y.shape[-1]\n",
            "/usr/local/lib/python3.7/dist-packages/librosa/core/spectrum.py:224: UserWarning: n_fft=1024 is too small for input signal of length=784\n",
            "  n_fft, y.shape[-1]\n",
            "/usr/local/lib/python3.7/dist-packages/librosa/core/spectrum.py:224: UserWarning: n_fft=1024 is too small for input signal of length=726\n",
            "  n_fft, y.shape[-1]\n",
            "/usr/local/lib/python3.7/dist-packages/librosa/core/spectrum.py:224: UserWarning: n_fft=1024 is too small for input signal of length=658\n",
            "  n_fft, y.shape[-1]\n",
            "/usr/local/lib/python3.7/dist-packages/librosa/core/spectrum.py:224: UserWarning: n_fft=1024 is too small for input signal of length=842\n",
            "  n_fft, y.shape[-1]\n",
            "/usr/local/lib/python3.7/dist-packages/librosa/core/spectrum.py:224: UserWarning: n_fft=1024 is too small for input signal of length=684\n",
            "  n_fft, y.shape[-1]\n",
            "/usr/local/lib/python3.7/dist-packages/librosa/core/spectrum.py:224: UserWarning: n_fft=1024 is too small for input signal of length=761\n",
            "  n_fft, y.shape[-1]\n",
            "/usr/local/lib/python3.7/dist-packages/librosa/core/spectrum.py:224: UserWarning: n_fft=1024 is too small for input signal of length=783\n",
            "  n_fft, y.shape[-1]\n",
            "/usr/local/lib/python3.7/dist-packages/librosa/core/spectrum.py:224: UserWarning: n_fft=1024 is too small for input signal of length=917\n",
            "  n_fft, y.shape[-1]\n",
            "/usr/local/lib/python3.7/dist-packages/librosa/core/spectrum.py:224: UserWarning: n_fft=1024 is too small for input signal of length=753\n",
            "  n_fft, y.shape[-1]\n",
            "/usr/local/lib/python3.7/dist-packages/librosa/core/spectrum.py:224: UserWarning: n_fft=1024 is too small for input signal of length=851\n",
            "  n_fft, y.shape[-1]\n",
            "/usr/local/lib/python3.7/dist-packages/librosa/core/spectrum.py:224: UserWarning: n_fft=1024 is too small for input signal of length=634\n",
            "  n_fft, y.shape[-1]\n",
            "/usr/local/lib/python3.7/dist-packages/librosa/core/spectrum.py:224: UserWarning: n_fft=1024 is too small for input signal of length=591\n",
            "  n_fft, y.shape[-1]\n",
            "/usr/local/lib/python3.7/dist-packages/librosa/core/spectrum.py:224: UserWarning: n_fft=1024 is too small for input signal of length=818\n",
            "  n_fft, y.shape[-1]\n",
            "/usr/local/lib/python3.7/dist-packages/librosa/core/spectrum.py:224: UserWarning: n_fft=1024 is too small for input signal of length=789\n",
            "  n_fft, y.shape[-1]\n",
            "/usr/local/lib/python3.7/dist-packages/librosa/core/spectrum.py:224: UserWarning: n_fft=1024 is too small for input signal of length=802\n",
            "  n_fft, y.shape[-1]\n",
            "/usr/local/lib/python3.7/dist-packages/librosa/core/spectrum.py:224: UserWarning: n_fft=1024 is too small for input signal of length=578\n",
            "  n_fft, y.shape[-1]\n",
            "/usr/local/lib/python3.7/dist-packages/librosa/core/spectrum.py:224: UserWarning: n_fft=1024 is too small for input signal of length=537\n",
            "  n_fft, y.shape[-1]\n",
            "/usr/local/lib/python3.7/dist-packages/librosa/core/spectrum.py:224: UserWarning: n_fft=1024 is too small for input signal of length=557\n",
            "  n_fft, y.shape[-1]\n",
            "/usr/local/lib/python3.7/dist-packages/librosa/core/spectrum.py:224: UserWarning: n_fft=1024 is too small for input signal of length=795\n",
            "  n_fft, y.shape[-1]\n",
            "/usr/local/lib/python3.7/dist-packages/librosa/core/spectrum.py:224: UserWarning: n_fft=1024 is too small for input signal of length=855\n",
            "  n_fft, y.shape[-1]\n",
            "/usr/local/lib/python3.7/dist-packages/librosa/core/spectrum.py:224: UserWarning: n_fft=1024 is too small for input signal of length=735\n",
            "  n_fft, y.shape[-1]\n",
            "/usr/local/lib/python3.7/dist-packages/librosa/core/spectrum.py:224: UserWarning: n_fft=1024 is too small for input signal of length=872\n",
            "  n_fft, y.shape[-1]\n",
            "/usr/local/lib/python3.7/dist-packages/librosa/core/spectrum.py:224: UserWarning: n_fft=1024 is too small for input signal of length=790\n",
            "  n_fft, y.shape[-1]\n",
            "/usr/local/lib/python3.7/dist-packages/librosa/core/spectrum.py:224: UserWarning: n_fft=1024 is too small for input signal of length=807\n",
            "  n_fft, y.shape[-1]\n",
            "/usr/local/lib/python3.7/dist-packages/librosa/core/spectrum.py:224: UserWarning: n_fft=1024 is too small for input signal of length=621\n",
            "  n_fft, y.shape[-1]\n",
            "/usr/local/lib/python3.7/dist-packages/librosa/core/spectrum.py:224: UserWarning: n_fft=1024 is too small for input signal of length=587\n",
            "  n_fft, y.shape[-1]\n",
            "/usr/local/lib/python3.7/dist-packages/librosa/core/spectrum.py:224: UserWarning: n_fft=1024 is too small for input signal of length=882\n",
            "  n_fft, y.shape[-1]\n",
            "/usr/local/lib/python3.7/dist-packages/librosa/core/spectrum.py:224: UserWarning: n_fft=1024 is too small for input signal of length=664\n",
            "  n_fft, y.shape[-1]\n",
            "/usr/local/lib/python3.7/dist-packages/librosa/core/spectrum.py:224: UserWarning: n_fft=1024 is too small for input signal of length=823\n",
            "  n_fft, y.shape[-1]\n",
            "/usr/local/lib/python3.7/dist-packages/librosa/core/spectrum.py:224: UserWarning: n_fft=1024 is too small for input signal of length=750\n",
            "  n_fft, y.shape[-1]\n",
            "/usr/local/lib/python3.7/dist-packages/librosa/core/spectrum.py:224: UserWarning: n_fft=1024 is too small for input signal of length=556\n",
            "  n_fft, y.shape[-1]\n",
            "/usr/local/lib/python3.7/dist-packages/librosa/core/spectrum.py:224: UserWarning: n_fft=1024 is too small for input signal of length=630\n",
            "  n_fft, y.shape[-1]\n",
            "/usr/local/lib/python3.7/dist-packages/librosa/core/spectrum.py:224: UserWarning: n_fft=1024 is too small for input signal of length=680\n",
            "  n_fft, y.shape[-1]\n",
            "/usr/local/lib/python3.7/dist-packages/librosa/core/spectrum.py:224: UserWarning: n_fft=1024 is too small for input signal of length=865\n",
            "  n_fft, y.shape[-1]\n",
            "/usr/local/lib/python3.7/dist-packages/librosa/core/spectrum.py:224: UserWarning: n_fft=1024 is too small for input signal of length=727\n",
            "  n_fft, y.shape[-1]\n",
            "/usr/local/lib/python3.7/dist-packages/librosa/core/spectrum.py:224: UserWarning: n_fft=1024 is too small for input signal of length=618\n",
            "  n_fft, y.shape[-1]\n",
            "/usr/local/lib/python3.7/dist-packages/librosa/core/spectrum.py:224: UserWarning: n_fft=1024 is too small for input signal of length=628\n",
            "  n_fft, y.shape[-1]\n",
            "/usr/local/lib/python3.7/dist-packages/librosa/core/spectrum.py:224: UserWarning: n_fft=1024 is too small for input signal of length=870\n",
            "  n_fft, y.shape[-1]\n",
            "/usr/local/lib/python3.7/dist-packages/librosa/core/spectrum.py:224: UserWarning: n_fft=1024 is too small for input signal of length=617\n",
            "  n_fft, y.shape[-1]\n",
            "/usr/local/lib/python3.7/dist-packages/librosa/core/spectrum.py:224: UserWarning: n_fft=1024 is too small for input signal of length=854\n",
            "  n_fft, y.shape[-1]\n",
            "/usr/local/lib/python3.7/dist-packages/librosa/core/spectrum.py:224: UserWarning: n_fft=1024 is too small for input signal of length=596\n",
            "  n_fft, y.shape[-1]\n",
            "/usr/local/lib/python3.7/dist-packages/librosa/core/spectrum.py:224: UserWarning: n_fft=1024 is too small for input signal of length=748\n",
            "  n_fft, y.shape[-1]\n",
            "/usr/local/lib/python3.7/dist-packages/librosa/core/spectrum.py:224: UserWarning: n_fft=1024 is too small for input signal of length=580\n",
            "  n_fft, y.shape[-1]\n",
            "/usr/local/lib/python3.7/dist-packages/librosa/core/spectrum.py:224: UserWarning: n_fft=1024 is too small for input signal of length=565\n",
            "  n_fft, y.shape[-1]\n",
            "/usr/local/lib/python3.7/dist-packages/librosa/core/spectrum.py:224: UserWarning: n_fft=1024 is too small for input signal of length=862\n",
            "  n_fft, y.shape[-1]\n",
            "/usr/local/lib/python3.7/dist-packages/librosa/core/spectrum.py:224: UserWarning: n_fft=1024 is too small for input signal of length=859\n",
            "  n_fft, y.shape[-1]\n",
            "/usr/local/lib/python3.7/dist-packages/librosa/core/spectrum.py:224: UserWarning: n_fft=1024 is too small for input signal of length=830\n",
            "  n_fft, y.shape[-1]\n",
            "/usr/local/lib/python3.7/dist-packages/librosa/core/spectrum.py:224: UserWarning: n_fft=1024 is too small for input signal of length=633\n",
            "  n_fft, y.shape[-1]\n",
            "/usr/local/lib/python3.7/dist-packages/librosa/core/spectrum.py:224: UserWarning: n_fft=1024 is too small for input signal of length=931\n",
            "  n_fft, y.shape[-1]\n",
            "/usr/local/lib/python3.7/dist-packages/librosa/core/spectrum.py:224: UserWarning: n_fft=1024 is too small for input signal of length=747\n",
            "  n_fft, y.shape[-1]\n",
            "/usr/local/lib/python3.7/dist-packages/librosa/core/spectrum.py:224: UserWarning: n_fft=1024 is too small for input signal of length=755\n",
            "  n_fft, y.shape[-1]\n",
            "/usr/local/lib/python3.7/dist-packages/librosa/core/spectrum.py:224: UserWarning: n_fft=1024 is too small for input signal of length=804\n",
            "  n_fft, y.shape[-1]\n",
            "/usr/local/lib/python3.7/dist-packages/librosa/core/spectrum.py:224: UserWarning: n_fft=1024 is too small for input signal of length=757\n",
            "  n_fft, y.shape[-1]\n",
            "/usr/local/lib/python3.7/dist-packages/librosa/core/spectrum.py:224: UserWarning: n_fft=1024 is too small for input signal of length=695\n",
            "  n_fft, y.shape[-1]\n",
            "/usr/local/lib/python3.7/dist-packages/librosa/core/spectrum.py:224: UserWarning: n_fft=1024 is too small for input signal of length=893\n",
            "  n_fft, y.shape[-1]\n",
            "/usr/local/lib/python3.7/dist-packages/librosa/core/spectrum.py:224: UserWarning: n_fft=1024 is too small for input signal of length=881\n",
            "  n_fft, y.shape[-1]\n",
            "/usr/local/lib/python3.7/dist-packages/librosa/core/spectrum.py:224: UserWarning: n_fft=1024 is too small for input signal of length=677\n",
            "  n_fft, y.shape[-1]\n",
            "/usr/local/lib/python3.7/dist-packages/librosa/core/spectrum.py:224: UserWarning: n_fft=1024 is too small for input signal of length=852\n",
            "  n_fft, y.shape[-1]\n",
            "/usr/local/lib/python3.7/dist-packages/librosa/core/spectrum.py:224: UserWarning: n_fft=1024 is too small for input signal of length=791\n",
            "  n_fft, y.shape[-1]\n",
            "/usr/local/lib/python3.7/dist-packages/librosa/core/spectrum.py:224: UserWarning: n_fft=1024 is too small for input signal of length=636\n",
            "  n_fft, y.shape[-1]\n",
            "/usr/local/lib/python3.7/dist-packages/librosa/core/spectrum.py:224: UserWarning: n_fft=1024 is too small for input signal of length=774\n",
            "  n_fft, y.shape[-1]\n",
            "/usr/local/lib/python3.7/dist-packages/librosa/core/spectrum.py:224: UserWarning: n_fft=1024 is too small for input signal of length=637\n",
            "  n_fft, y.shape[-1]\n",
            "/usr/local/lib/python3.7/dist-packages/librosa/core/spectrum.py:224: UserWarning: n_fft=1024 is too small for input signal of length=656\n",
            "  n_fft, y.shape[-1]\n",
            "/usr/local/lib/python3.7/dist-packages/librosa/core/spectrum.py:224: UserWarning: n_fft=1024 is too small for input signal of length=877\n",
            "  n_fft, y.shape[-1]\n",
            "/usr/local/lib/python3.7/dist-packages/librosa/core/spectrum.py:224: UserWarning: n_fft=1024 is too small for input signal of length=772\n",
            "  n_fft, y.shape[-1]\n",
            "/usr/local/lib/python3.7/dist-packages/librosa/core/spectrum.py:224: UserWarning: n_fft=1024 is too small for input signal of length=544\n",
            "  n_fft, y.shape[-1]\n",
            "/usr/local/lib/python3.7/dist-packages/librosa/core/spectrum.py:224: UserWarning: n_fft=1024 is too small for input signal of length=843\n",
            "  n_fft, y.shape[-1]\n",
            "/usr/local/lib/python3.7/dist-packages/librosa/core/spectrum.py:224: UserWarning: n_fft=1024 is too small for input signal of length=746\n",
            "  n_fft, y.shape[-1]\n",
            "/usr/local/lib/python3.7/dist-packages/librosa/core/spectrum.py:224: UserWarning: n_fft=1024 is too small for input signal of length=610\n",
            "  n_fft, y.shape[-1]\n",
            "/usr/local/lib/python3.7/dist-packages/librosa/core/spectrum.py:224: UserWarning: n_fft=1024 is too small for input signal of length=679\n",
            "  n_fft, y.shape[-1]\n",
            "/usr/local/lib/python3.7/dist-packages/librosa/core/spectrum.py:224: UserWarning: n_fft=1024 is too small for input signal of length=631\n",
            "  n_fft, y.shape[-1]\n",
            "/usr/local/lib/python3.7/dist-packages/librosa/core/spectrum.py:224: UserWarning: n_fft=1024 is too small for input signal of length=964\n",
            "  n_fft, y.shape[-1]\n",
            "/usr/local/lib/python3.7/dist-packages/librosa/core/spectrum.py:224: UserWarning: n_fft=1024 is too small for input signal of length=482\n",
            "  n_fft, y.shape[-1]\n",
            "/usr/local/lib/python3.7/dist-packages/librosa/core/spectrum.py:224: UserWarning: n_fft=1024 is too small for input signal of length=523\n",
            "  n_fft, y.shape[-1]\n",
            "/usr/local/lib/python3.7/dist-packages/librosa/core/spectrum.py:224: UserWarning: n_fft=1024 is too small for input signal of length=953\n",
            "  n_fft, y.shape[-1]\n",
            "/usr/local/lib/python3.7/dist-packages/librosa/core/spectrum.py:224: UserWarning: n_fft=1024 is too small for input signal of length=477\n",
            "  n_fft, y.shape[-1]\n",
            "/usr/local/lib/python3.7/dist-packages/librosa/core/spectrum.py:224: UserWarning: n_fft=1024 is too small for input signal of length=997\n",
            "  n_fft, y.shape[-1]\n",
            "/usr/local/lib/python3.7/dist-packages/librosa/core/spectrum.py:224: UserWarning: n_fft=1024 is too small for input signal of length=499\n",
            "  n_fft, y.shape[-1]\n",
            "/usr/local/lib/python3.7/dist-packages/librosa/core/spectrum.py:224: UserWarning: n_fft=1024 is too small for input signal of length=717\n",
            "  n_fft, y.shape[-1]\n",
            "/usr/local/lib/python3.7/dist-packages/librosa/core/spectrum.py:224: UserWarning: n_fft=1024 is too small for input signal of length=530\n",
            "  n_fft, y.shape[-1]\n",
            "/usr/local/lib/python3.7/dist-packages/librosa/core/spectrum.py:224: UserWarning: n_fft=1024 is too small for input signal of length=652\n",
            "  n_fft, y.shape[-1]\n",
            "/usr/local/lib/python3.7/dist-packages/librosa/core/spectrum.py:224: UserWarning: n_fft=1024 is too small for input signal of length=687\n",
            "  n_fft, y.shape[-1]\n",
            "/usr/local/lib/python3.7/dist-packages/librosa/core/spectrum.py:224: UserWarning: n_fft=1024 is too small for input signal of length=514\n",
            "  n_fft, y.shape[-1]\n",
            "/usr/local/lib/python3.7/dist-packages/librosa/core/spectrum.py:224: UserWarning: n_fft=1024 is too small for input signal of length=796\n",
            "  n_fft, y.shape[-1]\n",
            "/usr/local/lib/python3.7/dist-packages/librosa/core/spectrum.py:224: UserWarning: n_fft=1024 is too small for input signal of length=876\n",
            "  n_fft, y.shape[-1]\n",
            "/usr/local/lib/python3.7/dist-packages/librosa/core/spectrum.py:224: UserWarning: n_fft=1024 is too small for input signal of length=752\n",
            "  n_fft, y.shape[-1]\n",
            "/usr/local/lib/python3.7/dist-packages/librosa/core/spectrum.py:224: UserWarning: n_fft=1024 is too small for input signal of length=639\n",
            "  n_fft, y.shape[-1]\n",
            "/usr/local/lib/python3.7/dist-packages/librosa/core/spectrum.py:224: UserWarning: n_fft=1024 is too small for input signal of length=785\n",
            "  n_fft, y.shape[-1]\n",
            "/usr/local/lib/python3.7/dist-packages/librosa/core/spectrum.py:224: UserWarning: n_fft=1024 is too small for input signal of length=918\n",
            "  n_fft, y.shape[-1]\n",
            "/usr/local/lib/python3.7/dist-packages/librosa/core/spectrum.py:224: UserWarning: n_fft=1024 is too small for input signal of length=782\n",
            "  n_fft, y.shape[-1]\n",
            "/usr/local/lib/python3.7/dist-packages/librosa/core/spectrum.py:224: UserWarning: n_fft=1024 is too small for input signal of length=522\n",
            "  n_fft, y.shape[-1]\n",
            "/usr/local/lib/python3.7/dist-packages/librosa/core/spectrum.py:224: UserWarning: n_fft=1024 is too small for input signal of length=595\n",
            "  n_fft, y.shape[-1]\n",
            "/usr/local/lib/python3.7/dist-packages/librosa/core/spectrum.py:224: UserWarning: n_fft=1024 is too small for input signal of length=590\n",
            "  n_fft, y.shape[-1]\n",
            "/usr/local/lib/python3.7/dist-packages/librosa/core/spectrum.py:224: UserWarning: n_fft=1024 is too small for input signal of length=704\n",
            "  n_fft, y.shape[-1]\n",
            "/usr/local/lib/python3.7/dist-packages/librosa/core/spectrum.py:224: UserWarning: n_fft=1024 is too small for input signal of length=577\n",
            "  n_fft, y.shape[-1]\n",
            "/usr/local/lib/python3.7/dist-packages/librosa/core/spectrum.py:224: UserWarning: n_fft=1024 is too small for input signal of length=909\n",
            "  n_fft, y.shape[-1]\n",
            "/usr/local/lib/python3.7/dist-packages/librosa/core/spectrum.py:224: UserWarning: n_fft=1024 is too small for input signal of length=629\n",
            "  n_fft, y.shape[-1]\n",
            "/usr/local/lib/python3.7/dist-packages/librosa/core/spectrum.py:224: UserWarning: n_fft=1024 is too small for input signal of length=985\n",
            "  n_fft, y.shape[-1]\n",
            "/usr/local/lib/python3.7/dist-packages/librosa/core/spectrum.py:224: UserWarning: n_fft=1024 is too small for input signal of length=493\n",
            "  n_fft, y.shape[-1]\n",
            "/usr/local/lib/python3.7/dist-packages/librosa/core/spectrum.py:224: UserWarning: n_fft=1024 is too small for input signal of length=839\n",
            "  n_fft, y.shape[-1]\n",
            "/usr/local/lib/python3.7/dist-packages/librosa/core/spectrum.py:224: UserWarning: n_fft=1024 is too small for input signal of length=773\n",
            "  n_fft, y.shape[-1]\n",
            "/usr/local/lib/python3.7/dist-packages/librosa/core/spectrum.py:224: UserWarning: n_fft=1024 is too small for input signal of length=857\n",
            "  n_fft, y.shape[-1]\n",
            "/usr/local/lib/python3.7/dist-packages/librosa/core/spectrum.py:224: UserWarning: n_fft=1024 is too small for input signal of length=816\n",
            "  n_fft, y.shape[-1]\n",
            "/usr/local/lib/python3.7/dist-packages/librosa/core/spectrum.py:224: UserWarning: n_fft=1024 is too small for input signal of length=1013\n",
            "  n_fft, y.shape[-1]\n",
            "/usr/local/lib/python3.7/dist-packages/librosa/core/spectrum.py:224: UserWarning: n_fft=1024 is too small for input signal of length=507\n",
            "  n_fft, y.shape[-1]\n",
            "/usr/local/lib/python3.7/dist-packages/librosa/core/spectrum.py:224: UserWarning: n_fft=1024 is too small for input signal of length=669\n",
            "  n_fft, y.shape[-1]\n",
            "/usr/local/lib/python3.7/dist-packages/librosa/core/spectrum.py:224: UserWarning: n_fft=1024 is too small for input signal of length=814\n",
            "  n_fft, y.shape[-1]\n",
            "/usr/local/lib/python3.7/dist-packages/librosa/core/spectrum.py:224: UserWarning: n_fft=1024 is too small for input signal of length=858\n",
            "  n_fft, y.shape[-1]\n",
            "/usr/local/lib/python3.7/dist-packages/librosa/core/spectrum.py:224: UserWarning: n_fft=1024 is too small for input signal of length=897\n",
            "  n_fft, y.shape[-1]\n",
            "/usr/local/lib/python3.7/dist-packages/librosa/core/spectrum.py:224: UserWarning: n_fft=1024 is too small for input signal of length=515\n",
            "  n_fft, y.shape[-1]\n",
            "/usr/local/lib/python3.7/dist-packages/librosa/core/spectrum.py:224: UserWarning: n_fft=1024 is too small for input signal of length=974\n",
            "  n_fft, y.shape[-1]\n",
            "/usr/local/lib/python3.7/dist-packages/librosa/core/spectrum.py:224: UserWarning: n_fft=1024 is too small for input signal of length=905\n",
            "  n_fft, y.shape[-1]\n",
            "/usr/local/lib/python3.7/dist-packages/librosa/core/spectrum.py:224: UserWarning: n_fft=1024 is too small for input signal of length=491\n",
            "  n_fft, y.shape[-1]\n",
            "/usr/local/lib/python3.7/dist-packages/librosa/core/spectrum.py:224: UserWarning: n_fft=1024 is too small for input signal of length=611\n",
            "  n_fft, y.shape[-1]\n",
            "/usr/local/lib/python3.7/dist-packages/librosa/core/spectrum.py:224: UserWarning: n_fft=1024 is too small for input signal of length=828\n",
            "  n_fft, y.shape[-1]\n",
            "/usr/local/lib/python3.7/dist-packages/librosa/core/spectrum.py:224: UserWarning: n_fft=1024 is too small for input signal of length=827\n",
            "  n_fft, y.shape[-1]\n",
            "/usr/local/lib/python3.7/dist-packages/librosa/core/spectrum.py:224: UserWarning: n_fft=1024 is too small for input signal of length=526\n",
            "  n_fft, y.shape[-1]\n",
            "/usr/local/lib/python3.7/dist-packages/librosa/core/spectrum.py:224: UserWarning: n_fft=1024 is too small for input signal of length=936\n",
            "  n_fft, y.shape[-1]\n",
            "/usr/local/lib/python3.7/dist-packages/librosa/core/spectrum.py:224: UserWarning: n_fft=1024 is too small for input signal of length=531\n",
            "  n_fft, y.shape[-1]\n",
            "/usr/local/lib/python3.7/dist-packages/librosa/core/spectrum.py:224: UserWarning: n_fft=1024 is too small for input signal of length=555\n",
            "  n_fft, y.shape[-1]\n",
            "/usr/local/lib/python3.7/dist-packages/librosa/core/spectrum.py:224: UserWarning: n_fft=1024 is too small for input signal of length=497\n",
            "  n_fft, y.shape[-1]\n",
            "/usr/local/lib/python3.7/dist-packages/librosa/core/spectrum.py:224: UserWarning: n_fft=1024 is too small for input signal of length=615\n",
            "  n_fft, y.shape[-1]\n",
            "/usr/local/lib/python3.7/dist-packages/librosa/core/spectrum.py:224: UserWarning: n_fft=1024 is too small for input signal of length=533\n",
            "  n_fft, y.shape[-1]\n",
            "/usr/local/lib/python3.7/dist-packages/librosa/core/spectrum.py:224: UserWarning: n_fft=1024 is too small for input signal of length=929\n",
            "  n_fft, y.shape[-1]\n",
            "/usr/local/lib/python3.7/dist-packages/librosa/core/spectrum.py:224: UserWarning: n_fft=1024 is too small for input signal of length=871\n",
            "  n_fft, y.shape[-1]\n",
            "/usr/local/lib/python3.7/dist-packages/librosa/core/spectrum.py:224: UserWarning: n_fft=1024 is too small for input signal of length=585\n",
            "  n_fft, y.shape[-1]\n",
            "/usr/local/lib/python3.7/dist-packages/librosa/core/spectrum.py:224: UserWarning: n_fft=1024 is too small for input signal of length=552\n",
            "  n_fft, y.shape[-1]\n",
            "/usr/local/lib/python3.7/dist-packages/librosa/core/spectrum.py:224: UserWarning: n_fft=1024 is too small for input signal of length=567\n",
            "  n_fft, y.shape[-1]\n",
            "/usr/local/lib/python3.7/dist-packages/librosa/core/spectrum.py:224: UserWarning: n_fft=1024 is too small for input signal of length=910\n",
            "  n_fft, y.shape[-1]\n",
            "/usr/local/lib/python3.7/dist-packages/librosa/core/spectrum.py:224: UserWarning: n_fft=1024 is too small for input signal of length=569\n",
            "  n_fft, y.shape[-1]\n",
            "/usr/local/lib/python3.7/dist-packages/librosa/core/spectrum.py:224: UserWarning: n_fft=1024 is too small for input signal of length=564\n",
            "  n_fft, y.shape[-1]\n",
            "/usr/local/lib/python3.7/dist-packages/librosa/core/spectrum.py:224: UserWarning: n_fft=1024 is too small for input signal of length=979\n",
            "  n_fft, y.shape[-1]\n",
            "/usr/local/lib/python3.7/dist-packages/librosa/core/spectrum.py:224: UserWarning: n_fft=1024 is too small for input signal of length=959\n",
            "  n_fft, y.shape[-1]\n",
            "/usr/local/lib/python3.7/dist-packages/librosa/core/spectrum.py:224: UserWarning: n_fft=1024 is too small for input signal of length=841\n",
            "  n_fft, y.shape[-1]\n",
            "/usr/local/lib/python3.7/dist-packages/librosa/core/spectrum.py:224: UserWarning: n_fft=1024 is too small for input signal of length=553\n",
            "  n_fft, y.shape[-1]\n",
            "/usr/local/lib/python3.7/dist-packages/librosa/core/spectrum.py:224: UserWarning: n_fft=1024 is too small for input signal of length=644\n",
            "  n_fft, y.shape[-1]\n",
            "/usr/local/lib/python3.7/dist-packages/librosa/core/spectrum.py:224: UserWarning: n_fft=1024 is too small for input signal of length=983\n",
            "  n_fft, y.shape[-1]\n",
            "/usr/local/lib/python3.7/dist-packages/librosa/core/spectrum.py:224: UserWarning: n_fft=1024 is too small for input signal of length=492\n",
            "  n_fft, y.shape[-1]\n",
            "/usr/local/lib/python3.7/dist-packages/librosa/core/spectrum.py:224: UserWarning: n_fft=1024 is too small for input signal of length=543\n",
            "  n_fft, y.shape[-1]\n",
            "/usr/local/lib/python3.7/dist-packages/librosa/core/spectrum.py:224: UserWarning: n_fft=1024 is too small for input signal of length=888\n",
            "  n_fft, y.shape[-1]\n",
            "/usr/local/lib/python3.7/dist-packages/librosa/core/spectrum.py:224: UserWarning: n_fft=1024 is too small for input signal of length=444\n",
            "  n_fft, y.shape[-1]\n",
            "/usr/local/lib/python3.7/dist-packages/librosa/core/spectrum.py:224: UserWarning: n_fft=1024 is too small for input signal of length=528\n",
            "  n_fft, y.shape[-1]\n",
            "/usr/local/lib/python3.7/dist-packages/librosa/core/spectrum.py:224: UserWarning: n_fft=1024 is too small for input signal of length=550\n",
            "  n_fft, y.shape[-1]\n",
            "/usr/local/lib/python3.7/dist-packages/librosa/core/spectrum.py:224: UserWarning: n_fft=1024 is too small for input signal of length=509\n",
            "  n_fft, y.shape[-1]\n",
            "/usr/local/lib/python3.7/dist-packages/librosa/core/spectrum.py:224: UserWarning: n_fft=1024 is too small for input signal of length=668\n",
            "  n_fft, y.shape[-1]\n",
            "/usr/local/lib/python3.7/dist-packages/librosa/core/spectrum.py:224: UserWarning: n_fft=1024 is too small for input signal of length=548\n",
            "  n_fft, y.shape[-1]\n",
            "/usr/local/lib/python3.7/dist-packages/librosa/core/spectrum.py:224: UserWarning: n_fft=1024 is too small for input signal of length=962\n",
            "  n_fft, y.shape[-1]\n",
            "/usr/local/lib/python3.7/dist-packages/librosa/core/spectrum.py:224: UserWarning: n_fft=1024 is too small for input signal of length=481\n",
            "  n_fft, y.shape[-1]\n",
            "/usr/local/lib/python3.7/dist-packages/librosa/core/spectrum.py:224: UserWarning: n_fft=1024 is too small for input signal of length=546\n",
            "  n_fft, y.shape[-1]\n",
            "/usr/local/lib/python3.7/dist-packages/librosa/core/spectrum.py:224: UserWarning: n_fft=1024 is too small for input signal of length=653\n",
            "  n_fft, y.shape[-1]\n",
            "/usr/local/lib/python3.7/dist-packages/librosa/core/spectrum.py:224: UserWarning: n_fft=1024 is too small for input signal of length=513\n",
            "  n_fft, y.shape[-1]\n",
            "/usr/local/lib/python3.7/dist-packages/librosa/core/spectrum.py:224: UserWarning: n_fft=1024 is too small for input signal of length=686\n",
            "  n_fft, y.shape[-1]\n",
            "/usr/local/lib/python3.7/dist-packages/librosa/core/spectrum.py:224: UserWarning: n_fft=1024 is too small for input signal of length=576\n",
            "  n_fft, y.shape[-1]\n",
            "/usr/local/lib/python3.7/dist-packages/librosa/core/spectrum.py:224: UserWarning: n_fft=1024 is too small for input signal of length=524\n",
            "  n_fft, y.shape[-1]\n",
            "/usr/local/lib/python3.7/dist-packages/librosa/core/spectrum.py:224: UserWarning: n_fft=1024 is too small for input signal of length=811\n",
            "  n_fft, y.shape[-1]\n",
            "/usr/local/lib/python3.7/dist-packages/librosa/core/spectrum.py:224: UserWarning: n_fft=1024 is too small for input signal of length=551\n",
            "  n_fft, y.shape[-1]\n",
            "/usr/local/lib/python3.7/dist-packages/librosa/core/spectrum.py:224: UserWarning: n_fft=1024 is too small for input signal of length=455\n",
            "  n_fft, y.shape[-1]\n",
            "/usr/local/lib/python3.7/dist-packages/librosa/core/spectrum.py:224: UserWarning: n_fft=1024 is too small for input signal of length=563\n",
            "  n_fft, y.shape[-1]\n",
            "/usr/local/lib/python3.7/dist-packages/librosa/core/spectrum.py:224: UserWarning: n_fft=1024 is too small for input signal of length=762\n",
            "  n_fft, y.shape[-1]\n",
            "/usr/local/lib/python3.7/dist-packages/librosa/core/spectrum.py:224: UserWarning: n_fft=1024 is too small for input signal of length=878\n",
            "  n_fft, y.shape[-1]\n",
            "/usr/local/lib/python3.7/dist-packages/librosa/core/spectrum.py:224: UserWarning: n_fft=1024 is too small for input signal of length=941\n",
            "  n_fft, y.shape[-1]\n",
            "/usr/local/lib/python3.7/dist-packages/librosa/core/spectrum.py:224: UserWarning: n_fft=1024 is too small for input signal of length=460\n",
            "  n_fft, y.shape[-1]\n",
            "/usr/local/lib/python3.7/dist-packages/librosa/core/spectrum.py:224: UserWarning: n_fft=1024 is too small for input signal of length=834\n",
            "  n_fft, y.shape[-1]\n",
            "/usr/local/lib/python3.7/dist-packages/librosa/core/spectrum.py:224: UserWarning: n_fft=1024 is too small for input signal of length=433\n",
            "  n_fft, y.shape[-1]\n",
            "/usr/local/lib/python3.7/dist-packages/librosa/core/spectrum.py:224: UserWarning: n_fft=1024 is too small for input signal of length=529\n",
            "  n_fft, y.shape[-1]\n",
            "/usr/local/lib/python3.7/dist-packages/librosa/core/spectrum.py:224: UserWarning: n_fft=1024 is too small for input signal of length=837\n",
            "  n_fft, y.shape[-1]\n",
            "/usr/local/lib/python3.7/dist-packages/librosa/core/spectrum.py:224: UserWarning: n_fft=1024 is too small for input signal of length=906\n",
            "  n_fft, y.shape[-1]\n",
            "/usr/local/lib/python3.7/dist-packages/librosa/core/spectrum.py:224: UserWarning: n_fft=1024 is too small for input signal of length=453\n",
            "  n_fft, y.shape[-1]\n",
            "/usr/local/lib/python3.7/dist-packages/librosa/core/spectrum.py:224: UserWarning: n_fft=1024 is too small for input signal of length=904\n",
            "  n_fft, y.shape[-1]\n",
            "/usr/local/lib/python3.7/dist-packages/librosa/core/spectrum.py:224: UserWarning: n_fft=1024 is too small for input signal of length=452\n",
            "  n_fft, y.shape[-1]\n",
            "/usr/local/lib/python3.7/dist-packages/librosa/core/spectrum.py:224: UserWarning: n_fft=1024 is too small for input signal of length=934\n",
            "  n_fft, y.shape[-1]\n",
            "/usr/local/lib/python3.7/dist-packages/librosa/core/spectrum.py:224: UserWarning: n_fft=1024 is too small for input signal of length=988\n",
            "  n_fft, y.shape[-1]\n",
            "/usr/local/lib/python3.7/dist-packages/librosa/core/spectrum.py:224: UserWarning: n_fft=1024 is too small for input signal of length=494\n",
            "  n_fft, y.shape[-1]\n",
            "/usr/local/lib/python3.7/dist-packages/librosa/core/spectrum.py:224: UserWarning: n_fft=1024 is too small for input signal of length=901\n",
            "  n_fft, y.shape[-1]\n"
          ],
          "name": "stderr"
        },
        {
          "output_type": "stream",
          "text": [
            "4000\n"
          ],
          "name": "stdout"
        },
        {
          "output_type": "stream",
          "text": [
            "/usr/local/lib/python3.7/dist-packages/librosa/core/spectrum.py:224: UserWarning: n_fft=1024 is too small for input signal of length=469\n",
            "  n_fft, y.shape[-1]\n",
            "/usr/local/lib/python3.7/dist-packages/librosa/core/spectrum.py:224: UserWarning: n_fft=1024 is too small for input signal of length=1020\n",
            "  n_fft, y.shape[-1]\n",
            "/usr/local/lib/python3.7/dist-packages/librosa/core/spectrum.py:224: UserWarning: n_fft=1024 is too small for input signal of length=510\n",
            "  n_fft, y.shape[-1]\n",
            "/usr/local/lib/python3.7/dist-packages/librosa/core/spectrum.py:224: UserWarning: n_fft=1024 is too small for input signal of length=942\n",
            "  n_fft, y.shape[-1]\n",
            "/usr/local/lib/python3.7/dist-packages/librosa/core/spectrum.py:224: UserWarning: n_fft=1024 is too small for input signal of length=840\n",
            "  n_fft, y.shape[-1]\n",
            "/usr/local/lib/python3.7/dist-packages/librosa/core/spectrum.py:224: UserWarning: n_fft=1024 is too small for input signal of length=824\n",
            "  n_fft, y.shape[-1]\n",
            "/usr/local/lib/python3.7/dist-packages/librosa/core/spectrum.py:224: UserWarning: n_fft=1024 is too small for input signal of length=926\n",
            "  n_fft, y.shape[-1]\n",
            "/usr/local/lib/python3.7/dist-packages/librosa/core/spectrum.py:224: UserWarning: n_fft=1024 is too small for input signal of length=1022\n",
            "  n_fft, y.shape[-1]\n",
            "/usr/local/lib/python3.7/dist-packages/librosa/core/spectrum.py:224: UserWarning: n_fft=1024 is too small for input signal of length=511\n",
            "  n_fft, y.shape[-1]\n",
            "/usr/local/lib/python3.7/dist-packages/librosa/core/spectrum.py:224: UserWarning: n_fft=1024 is too small for input signal of length=545\n",
            "  n_fft, y.shape[-1]\n",
            "/usr/local/lib/python3.7/dist-packages/librosa/core/spectrum.py:224: UserWarning: n_fft=1024 is too small for input signal of length=541\n",
            "  n_fft, y.shape[-1]\n",
            "/usr/local/lib/python3.7/dist-packages/librosa/core/spectrum.py:224: UserWarning: n_fft=1024 is too small for input signal of length=866\n",
            "  n_fft, y.shape[-1]\n",
            "/usr/local/lib/python3.7/dist-packages/librosa/core/spectrum.py:224: UserWarning: n_fft=1024 is too small for input signal of length=538\n",
            "  n_fft, y.shape[-1]\n",
            "/usr/local/lib/python3.7/dist-packages/librosa/core/spectrum.py:224: UserWarning: n_fft=1024 is too small for input signal of length=519\n",
            "  n_fft, y.shape[-1]\n",
            "/usr/local/lib/python3.7/dist-packages/librosa/core/spectrum.py:224: UserWarning: n_fft=1024 is too small for input signal of length=542\n",
            "  n_fft, y.shape[-1]\n",
            "/usr/local/lib/python3.7/dist-packages/librosa/core/spectrum.py:224: UserWarning: n_fft=1024 is too small for input signal of length=527\n",
            "  n_fft, y.shape[-1]\n",
            "/usr/local/lib/python3.7/dist-packages/librosa/core/spectrum.py:224: UserWarning: n_fft=1024 is too small for input signal of length=924\n",
            "  n_fft, y.shape[-1]\n",
            "/usr/local/lib/python3.7/dist-packages/librosa/core/spectrum.py:224: UserWarning: n_fft=1024 is too small for input signal of length=1002\n",
            "  n_fft, y.shape[-1]\n",
            "/usr/local/lib/python3.7/dist-packages/librosa/core/spectrum.py:224: UserWarning: n_fft=1024 is too small for input signal of length=501\n",
            "  n_fft, y.shape[-1]\n",
            "/usr/local/lib/python3.7/dist-packages/librosa/core/spectrum.py:224: UserWarning: n_fft=1024 is too small for input signal of length=914\n",
            "  n_fft, y.shape[-1]\n",
            "/usr/local/lib/python3.7/dist-packages/librosa/core/spectrum.py:224: UserWarning: n_fft=1024 is too small for input signal of length=473\n",
            "  n_fft, y.shape[-1]\n",
            "/usr/local/lib/python3.7/dist-packages/librosa/core/spectrum.py:224: UserWarning: n_fft=1024 is too small for input signal of length=547\n",
            "  n_fft, y.shape[-1]\n",
            "/usr/local/lib/python3.7/dist-packages/librosa/core/spectrum.py:224: UserWarning: n_fft=1024 is too small for input signal of length=559\n",
            "  n_fft, y.shape[-1]\n",
            "/usr/local/lib/python3.7/dist-packages/librosa/core/spectrum.py:224: UserWarning: n_fft=1024 is too small for input signal of length=919\n",
            "  n_fft, y.shape[-1]\n",
            "/usr/local/lib/python3.7/dist-packages/librosa/core/spectrum.py:224: UserWarning: n_fft=1024 is too small for input signal of length=1011\n",
            "  n_fft, y.shape[-1]\n",
            "/usr/local/lib/python3.7/dist-packages/librosa/core/spectrum.py:224: UserWarning: n_fft=1024 is too small for input signal of length=506\n",
            "  n_fft, y.shape[-1]\n",
            "/usr/local/lib/python3.7/dist-packages/librosa/core/spectrum.py:224: UserWarning: n_fft=1024 is too small for input signal of length=975\n",
            "  n_fft, y.shape[-1]\n",
            "/usr/local/lib/python3.7/dist-packages/librosa/core/spectrum.py:224: UserWarning: n_fft=1024 is too small for input signal of length=488\n",
            "  n_fft, y.shape[-1]\n",
            "/usr/local/lib/python3.7/dist-packages/librosa/core/spectrum.py:224: UserWarning: n_fft=1024 is too small for input signal of length=539\n",
            "  n_fft, y.shape[-1]\n",
            "/usr/local/lib/python3.7/dist-packages/librosa/core/spectrum.py:224: UserWarning: n_fft=1024 is too small for input signal of length=447\n",
            "  n_fft, y.shape[-1]\n",
            "/usr/local/lib/python3.7/dist-packages/librosa/core/spectrum.py:224: UserWarning: n_fft=1024 is too small for input signal of length=868\n",
            "  n_fft, y.shape[-1]\n",
            "/usr/local/lib/python3.7/dist-packages/librosa/core/spectrum.py:224: UserWarning: n_fft=1024 is too small for input signal of length=666\n",
            "  n_fft, y.shape[-1]\n",
            "/usr/local/lib/python3.7/dist-packages/librosa/core/spectrum.py:224: UserWarning: n_fft=1024 is too small for input signal of length=554\n",
            "  n_fft, y.shape[-1]\n",
            "/usr/local/lib/python3.7/dist-packages/librosa/core/spectrum.py:224: UserWarning: n_fft=1024 is too small for input signal of length=1012\n",
            "  n_fft, y.shape[-1]\n",
            "/usr/local/lib/python3.7/dist-packages/librosa/core/spectrum.py:224: UserWarning: n_fft=1024 is too small for input signal of length=944\n",
            "  n_fft, y.shape[-1]\n",
            "/usr/local/lib/python3.7/dist-packages/librosa/core/spectrum.py:224: UserWarning: n_fft=1024 is too small for input signal of length=938\n",
            "  n_fft, y.shape[-1]\n",
            "/usr/local/lib/python3.7/dist-packages/librosa/core/spectrum.py:224: UserWarning: n_fft=1024 is too small for input signal of length=889\n",
            "  n_fft, y.shape[-1]\n",
            "/usr/local/lib/python3.7/dist-packages/librosa/core/spectrum.py:224: UserWarning: n_fft=1024 is too small for input signal of length=474\n",
            "  n_fft, y.shape[-1]\n",
            "/usr/local/lib/python3.7/dist-packages/librosa/core/spectrum.py:224: UserWarning: n_fft=1024 is too small for input signal of length=540\n",
            "  n_fft, y.shape[-1]\n",
            "/usr/local/lib/python3.7/dist-packages/librosa/core/spectrum.py:224: UserWarning: n_fft=1024 is too small for input signal of length=503\n",
            "  n_fft, y.shape[-1]\n",
            "/usr/local/lib/python3.7/dist-packages/librosa/core/spectrum.py:224: UserWarning: n_fft=1024 is too small for input signal of length=581\n",
            "  n_fft, y.shape[-1]\n",
            "/usr/local/lib/python3.7/dist-packages/librosa/core/spectrum.py:224: UserWarning: n_fft=1024 is too small for input signal of length=907\n",
            "  n_fft, y.shape[-1]\n",
            "/usr/local/lib/python3.7/dist-packages/librosa/core/spectrum.py:224: UserWarning: n_fft=1024 is too small for input signal of length=568\n",
            "  n_fft, y.shape[-1]\n",
            "/usr/local/lib/python3.7/dist-packages/librosa/core/spectrum.py:224: UserWarning: n_fft=1024 is too small for input signal of length=950\n",
            "  n_fft, y.shape[-1]\n",
            "/usr/local/lib/python3.7/dist-packages/librosa/core/spectrum.py:224: UserWarning: n_fft=1024 is too small for input signal of length=475\n",
            "  n_fft, y.shape[-1]\n",
            "/usr/local/lib/python3.7/dist-packages/librosa/core/spectrum.py:224: UserWarning: n_fft=1024 is too small for input signal of length=1008\n",
            "  n_fft, y.shape[-1]\n",
            "/usr/local/lib/python3.7/dist-packages/librosa/core/spectrum.py:224: UserWarning: n_fft=1024 is too small for input signal of length=504\n",
            "  n_fft, y.shape[-1]\n",
            "/usr/local/lib/python3.7/dist-packages/librosa/core/spectrum.py:224: UserWarning: n_fft=1024 is too small for input signal of length=520\n",
            "  n_fft, y.shape[-1]\n",
            "/usr/local/lib/python3.7/dist-packages/librosa/core/spectrum.py:224: UserWarning: n_fft=1024 is too small for input signal of length=940\n",
            "  n_fft, y.shape[-1]\n",
            "/usr/local/lib/python3.7/dist-packages/librosa/core/spectrum.py:224: UserWarning: n_fft=1024 is too small for input signal of length=534\n",
            "  n_fft, y.shape[-1]\n",
            "/usr/local/lib/python3.7/dist-packages/librosa/core/spectrum.py:224: UserWarning: n_fft=1024 is too small for input signal of length=517\n",
            "  n_fft, y.shape[-1]\n",
            "/usr/local/lib/python3.7/dist-packages/librosa/core/spectrum.py:224: UserWarning: n_fft=1024 is too small for input signal of length=887\n",
            "  n_fft, y.shape[-1]\n",
            "/usr/local/lib/python3.7/dist-packages/librosa/core/spectrum.py:224: UserWarning: n_fft=1024 is too small for input signal of length=847\n",
            "  n_fft, y.shape[-1]\n",
            "/usr/local/lib/python3.7/dist-packages/librosa/core/spectrum.py:224: UserWarning: n_fft=1024 is too small for input signal of length=471\n",
            "  n_fft, y.shape[-1]\n",
            "/usr/local/lib/python3.7/dist-packages/librosa/core/spectrum.py:224: UserWarning: n_fft=1024 is too small for input signal of length=1015\n",
            "  n_fft, y.shape[-1]\n",
            "/usr/local/lib/python3.7/dist-packages/librosa/core/spectrum.py:224: UserWarning: n_fft=1024 is too small for input signal of length=508\n",
            "  n_fft, y.shape[-1]\n",
            "/usr/local/lib/python3.7/dist-packages/librosa/core/spectrum.py:224: UserWarning: n_fft=1024 is too small for input signal of length=571\n",
            "  n_fft, y.shape[-1]\n",
            "/usr/local/lib/python3.7/dist-packages/librosa/core/spectrum.py:224: UserWarning: n_fft=1024 is too small for input signal of length=943\n",
            "  n_fft, y.shape[-1]\n",
            "/usr/local/lib/python3.7/dist-packages/librosa/core/spectrum.py:224: UserWarning: n_fft=1024 is too small for input signal of length=886\n",
            "  n_fft, y.shape[-1]\n",
            "/usr/local/lib/python3.7/dist-packages/librosa/core/spectrum.py:224: UserWarning: n_fft=1024 is too small for input signal of length=986\n",
            "  n_fft, y.shape[-1]\n",
            "/usr/local/lib/python3.7/dist-packages/librosa/core/spectrum.py:224: UserWarning: n_fft=1024 is too small for input signal of length=451\n",
            "  n_fft, y.shape[-1]\n",
            "/usr/local/lib/python3.7/dist-packages/librosa/core/spectrum.py:224: UserWarning: n_fft=1024 is too small for input signal of length=458\n",
            "  n_fft, y.shape[-1]\n",
            "/usr/local/lib/python3.7/dist-packages/librosa/core/spectrum.py:224: UserWarning: n_fft=1024 is too small for input signal of length=536\n",
            "  n_fft, y.shape[-1]\n",
            "/usr/local/lib/python3.7/dist-packages/librosa/core/spectrum.py:224: UserWarning: n_fft=1024 is too small for input signal of length=1007\n",
            "  n_fft, y.shape[-1]\n",
            "/usr/local/lib/python3.7/dist-packages/librosa/core/spectrum.py:224: UserWarning: n_fft=1024 is too small for input signal of length=505\n",
            "  n_fft, y.shape[-1]\n",
            "/usr/local/lib/python3.7/dist-packages/librosa/core/spectrum.py:224: UserWarning: n_fft=1024 is too small for input signal of length=516\n",
            "  n_fft, y.shape[-1]\n",
            "/usr/local/lib/python3.7/dist-packages/librosa/core/spectrum.py:224: UserWarning: n_fft=1024 is too small for input signal of length=945\n",
            "  n_fft, y.shape[-1]\n",
            "/usr/local/lib/python3.7/dist-packages/librosa/core/spectrum.py:224: UserWarning: n_fft=1024 is too small for input signal of length=1017\n",
            "  n_fft, y.shape[-1]\n",
            "/usr/local/lib/python3.7/dist-packages/librosa/core/spectrum.py:224: UserWarning: n_fft=1024 is too small for input signal of length=478\n",
            "  n_fft, y.shape[-1]\n",
            "/usr/local/lib/python3.7/dist-packages/librosa/core/spectrum.py:224: UserWarning: n_fft=1024 is too small for input signal of length=479\n",
            "  n_fft, y.shape[-1]\n",
            "/usr/local/lib/python3.7/dist-packages/librosa/core/spectrum.py:224: UserWarning: n_fft=1024 is too small for input signal of length=737\n",
            "  n_fft, y.shape[-1]\n",
            "/usr/local/lib/python3.7/dist-packages/librosa/core/spectrum.py:224: UserWarning: n_fft=1024 is too small for input signal of length=485\n",
            "  n_fft, y.shape[-1]\n",
            "/usr/local/lib/python3.7/dist-packages/librosa/core/spectrum.py:224: UserWarning: n_fft=1024 is too small for input signal of length=1016\n",
            "  n_fft, y.shape[-1]\n"
          ],
          "name": "stderr"
        },
        {
          "output_type": "stream",
          "text": [
            "5000\n"
          ],
          "name": "stdout"
        },
        {
          "output_type": "stream",
          "text": [
            "/usr/local/lib/python3.7/dist-packages/librosa/core/spectrum.py:224: UserWarning: n_fft=1024 is too small for input signal of length=967\n",
            "  n_fft, y.shape[-1]\n",
            "/usr/local/lib/python3.7/dist-packages/librosa/core/spectrum.py:224: UserWarning: n_fft=1024 is too small for input signal of length=502\n",
            "  n_fft, y.shape[-1]\n",
            "/usr/local/lib/python3.7/dist-packages/librosa/core/spectrum.py:224: UserWarning: n_fft=1024 is too small for input signal of length=582\n",
            "  n_fft, y.shape[-1]\n",
            "/usr/local/lib/python3.7/dist-packages/librosa/core/spectrum.py:224: UserWarning: n_fft=1024 is too small for input signal of length=998\n",
            "  n_fft, y.shape[-1]\n",
            "/usr/local/lib/python3.7/dist-packages/librosa/core/spectrum.py:224: UserWarning: n_fft=1024 is too small for input signal of length=484\n",
            "  n_fft, y.shape[-1]\n",
            "/usr/local/lib/python3.7/dist-packages/librosa/core/spectrum.py:224: UserWarning: n_fft=1024 is too small for input signal of length=1005\n",
            "  n_fft, y.shape[-1]\n",
            "/usr/local/lib/python3.7/dist-packages/librosa/core/spectrum.py:224: UserWarning: n_fft=1024 is too small for input signal of length=1009\n",
            "  n_fft, y.shape[-1]\n",
            "/usr/local/lib/python3.7/dist-packages/librosa/core/spectrum.py:224: UserWarning: n_fft=1024 is too small for input signal of length=1001\n",
            "  n_fft, y.shape[-1]\n",
            "/usr/local/lib/python3.7/dist-packages/librosa/core/spectrum.py:224: UserWarning: n_fft=1024 is too small for input signal of length=992\n",
            "  n_fft, y.shape[-1]\n",
            "/usr/local/lib/python3.7/dist-packages/librosa/core/spectrum.py:224: UserWarning: n_fft=1024 is too small for input signal of length=518\n",
            "  n_fft, y.shape[-1]\n",
            "/usr/local/lib/python3.7/dist-packages/librosa/core/spectrum.py:224: UserWarning: n_fft=1024 is too small for input signal of length=963\n",
            "  n_fft, y.shape[-1]\n",
            "/usr/local/lib/python3.7/dist-packages/librosa/core/spectrum.py:224: UserWarning: n_fft=1024 is too small for input signal of length=448\n",
            "  n_fft, y.shape[-1]\n",
            "/usr/local/lib/python3.7/dist-packages/librosa/core/spectrum.py:224: UserWarning: n_fft=1024 is too small for input signal of length=1021\n",
            "  n_fft, y.shape[-1]\n",
            "/usr/local/lib/python3.7/dist-packages/librosa/core/spectrum.py:224: UserWarning: n_fft=1024 is too small for input signal of length=480\n",
            "  n_fft, y.shape[-1]\n",
            "/usr/local/lib/python3.7/dist-packages/librosa/core/spectrum.py:224: UserWarning: n_fft=1024 is too small for input signal of length=1023\n",
            "  n_fft, y.shape[-1]\n",
            "/usr/local/lib/python3.7/dist-packages/librosa/core/spectrum.py:224: UserWarning: n_fft=1024 is too small for input signal of length=512\n",
            "  n_fft, y.shape[-1]\n",
            "/usr/local/lib/python3.7/dist-packages/librosa/core/spectrum.py:224: UserWarning: n_fft=1024 is too small for input signal of length=498\n",
            "  n_fft, y.shape[-1]\n",
            "/usr/local/lib/python3.7/dist-packages/librosa/core/spectrum.py:224: UserWarning: n_fft=1024 is too small for input signal of length=468\n",
            "  n_fft, y.shape[-1]\n",
            "/usr/local/lib/python3.7/dist-packages/librosa/core/spectrum.py:224: UserWarning: n_fft=1024 is too small for input signal of length=960\n",
            "  n_fft, y.shape[-1]\n",
            "/usr/local/lib/python3.7/dist-packages/librosa/core/spectrum.py:224: UserWarning: n_fft=1024 is too small for input signal of length=981\n",
            "  n_fft, y.shape[-1]\n"
          ],
          "name": "stderr"
        },
        {
          "output_type": "stream",
          "text": [
            "6000\n",
            "7000\n",
            "(7198, 1)\n"
          ],
          "name": "stdout"
        }
      ]
    },
    {
      "cell_type": "code",
      "metadata": {
        "id": "hR-qAHPe_W6J",
        "colab": {
          "base_uri": "https://localhost:8080/",
          "height": 402
        },
        "outputId": "74ec9686-157c-47bb-fb02-6a21f009c4c9"
      },
      "source": [
        "data_frame_features = pd.DataFrame(data_frame_features['all_features'])\n",
        "data_frame_labels = pd.concat([data_frame_features,labels], axis=1)\n",
        "data_frame_labels = data_frame_labels.rename(index=str, columns={\"0\": \"label\"})\n",
        "data_frame_labels  "
      ],
      "execution_count": 12,
      "outputs": [
        {
          "output_type": "execute_result",
          "data": {
            "text/html": [
              "<div>\n",
              "<style scoped>\n",
              "    .dataframe tbody tr th:only-of-type {\n",
              "        vertical-align: middle;\n",
              "    }\n",
              "\n",
              "    .dataframe tbody tr th {\n",
              "        vertical-align: top;\n",
              "    }\n",
              "\n",
              "    .dataframe thead th {\n",
              "        text-align: right;\n",
              "    }\n",
              "</style>\n",
              "<table border=\"1\" class=\"dataframe\">\n",
              "  <thead>\n",
              "    <tr style=\"text-align: right;\">\n",
              "      <th></th>\n",
              "      <th>all_features</th>\n",
              "      <th>0</th>\n",
              "    </tr>\n",
              "  </thead>\n",
              "  <tbody>\n",
              "    <tr>\n",
              "      <th>0</th>\n",
              "      <td>[[-38.91777038574219, -36.885902404785156, -36...</td>\n",
              "      <td>male_sadness</td>\n",
              "    </tr>\n",
              "    <tr>\n",
              "      <th>1</th>\n",
              "      <td>[[-36.91215896606445, -36.90217590332031, -33....</td>\n",
              "      <td>male_sadness</td>\n",
              "    </tr>\n",
              "    <tr>\n",
              "      <th>2</th>\n",
              "      <td>[[-42.30324935913086, -42.30324935913086, -42....</td>\n",
              "      <td>male_sadness</td>\n",
              "    </tr>\n",
              "    <tr>\n",
              "      <th>3</th>\n",
              "      <td>[[-35.22417449951172, -34.31071472167969, -34....</td>\n",
              "      <td>female_sadness</td>\n",
              "    </tr>\n",
              "    <tr>\n",
              "      <th>4</th>\n",
              "      <td>[[-39.61149978637695, -39.59251022338867, -39....</td>\n",
              "      <td>male_sadness</td>\n",
              "    </tr>\n",
              "    <tr>\n",
              "      <th>...</th>\n",
              "      <td>...</td>\n",
              "      <td>...</td>\n",
              "    </tr>\n",
              "    <tr>\n",
              "      <th>7193</th>\n",
              "      <td>[[-37.4224967956543, -36.9178581237793, -36.90...</td>\n",
              "      <td>male_fear</td>\n",
              "    </tr>\n",
              "    <tr>\n",
              "      <th>7194</th>\n",
              "      <td>[[-36.548248291015625, -36.69108963012695, -35...</td>\n",
              "      <td>male_anger</td>\n",
              "    </tr>\n",
              "    <tr>\n",
              "      <th>7195</th>\n",
              "      <td>[[-46.47096633911133, -46.47096633911133, -46....</td>\n",
              "      <td>female_calm</td>\n",
              "    </tr>\n",
              "    <tr>\n",
              "      <th>7196</th>\n",
              "      <td>[[-43.943607330322266, -43.93301773071289, -43...</td>\n",
              "      <td>female_sadness</td>\n",
              "    </tr>\n",
              "    <tr>\n",
              "      <th>7197</th>\n",
              "      <td>[[-37.49090576171875, -32.932254791259766, -33...</td>\n",
              "      <td>female_joy</td>\n",
              "    </tr>\n",
              "  </tbody>\n",
              "</table>\n",
              "<p>7198 rows × 2 columns</p>\n",
              "</div>"
            ],
            "text/plain": [
              "                                           all_features               0\n",
              "0     [[-38.91777038574219, -36.885902404785156, -36...    male_sadness\n",
              "1     [[-36.91215896606445, -36.90217590332031, -33....    male_sadness\n",
              "2     [[-42.30324935913086, -42.30324935913086, -42....    male_sadness\n",
              "3     [[-35.22417449951172, -34.31071472167969, -34....  female_sadness\n",
              "4     [[-39.61149978637695, -39.59251022338867, -39....    male_sadness\n",
              "...                                                 ...             ...\n",
              "7193  [[-37.4224967956543, -36.9178581237793, -36.90...       male_fear\n",
              "7194  [[-36.548248291015625, -36.69108963012695, -35...      male_anger\n",
              "7195  [[-46.47096633911133, -46.47096633911133, -46....     female_calm\n",
              "7196  [[-43.943607330322266, -43.93301773071289, -43...  female_sadness\n",
              "7197  [[-37.49090576171875, -32.932254791259766, -33...      female_joy\n",
              "\n",
              "[7198 rows x 2 columns]"
            ]
          },
          "metadata": {
            "tags": []
          },
          "execution_count": 12
        }
      ]
    },
    {
      "cell_type": "code",
      "metadata": {
        "colab": {
          "base_uri": "https://localhost:8080/"
        },
        "id": "OkaldNv9IB-x",
        "outputId": "73a694b9-70d6-4bf0-b76f-bde57b779481"
      },
      "source": [
        "features_array_2d = data_frame_features['all_features'].to_numpy()\r\n",
        "features_array_2d = np.vstack(features_array_2d).reshape((7198,8,20))\r\n",
        "print(features_array_2d[0], features_array_2d[0].shape)"
      ],
      "execution_count": 27,
      "outputs": [
        {
          "output_type": "stream",
          "text": [
            "[[-3.89177704e+01 -3.68859024e+01 -3.63584328e+01 -3.74193916e+01\n",
            "  -2.83406963e+01 -2.87459278e+01 -2.79423904e+01 -2.69776630e+01\n",
            "  -2.70889626e+01 -3.13372803e+01 -2.92532997e+01 -2.85650234e+01\n",
            "  -2.75980797e+01 -2.87370262e+01 -2.97208729e+01 -3.06429844e+01\n",
            "  -3.39568291e+01 -3.83484116e+01 -3.77469292e+01 -3.36466141e+01]\n",
            " [ 1.04389555e-05  1.56468668e-05  1.76005342e-05  5.68504656e-05\n",
            "   2.00775755e-03  4.07104380e-03  7.69216893e-03  8.03639088e-03\n",
            "   6.36524707e-03  5.57981245e-03  8.34166259e-03  7.53696356e-03\n",
            "   4.40457975e-03  6.90991990e-03  7.42966123e-03  3.59069230e-03\n",
            "   3.53443786e-04  3.02281442e-05  1.53825258e-05  8.11256177e-05]\n",
            " [ 1.96594723e-08  4.94978920e-08  5.39034026e-08  9.93848346e-08\n",
            "   1.35009049e-03  4.58268635e-03  1.82337146e-02  2.19561327e-02\n",
            "   1.27984593e-02  7.16360984e-03  1.66460052e-02  1.39170922e-02\n",
            "   6.13671774e-03  1.22508239e-02  1.31954197e-02  3.65859433e-03\n",
            "   3.86528118e-05  2.42626243e-07  4.55703848e-08  1.36563756e-06]\n",
            " [-3.27509131e-02 -2.40284847e-02  3.78941580e-03  1.92347781e-03\n",
            "  -1.38999492e-02 -2.45195298e-02  6.49858055e-03  3.36204123e-02\n",
            "   1.12182730e-02  3.08461828e-02  2.53948043e-03  4.87329743e-02\n",
            "   5.83788638e-02  2.26876640e-02  3.92664095e-02  6.14051342e-03\n",
            "   2.35180905e-02 -5.77647916e-03 -2.52619801e-02 -2.51707407e-02]\n",
            " [ 8.80446374e-01  8.71131480e-01  8.53958428e-01  8.30641806e-01\n",
            "   5.51811159e-01  4.93523806e-01  4.54297423e-01  4.56146091e-01\n",
            "   5.40574074e-01  4.13397968e-01  4.14303213e-01  4.97656971e-01\n",
            "   4.68585342e-01  3.88059556e-01  3.54395539e-01  3.95027936e-01\n",
            "   4.65087742e-01  8.44090462e-01  8.71297598e-01  8.78263950e-01]\n",
            " [ 1.48291347e+01  1.46577857e+01  1.49051106e+01  1.56126335e+01\n",
            "   2.01772714e+01  2.18924408e+01  2.54209177e+01  2.42110704e+01\n",
            "   2.16055553e+01  2.69780736e+01  2.61478803e+01  2.73683345e+01\n",
            "   2.49773556e+01  2.71252564e+01  2.77995266e+01  2.59972760e+01\n",
            "   1.80855780e+01  1.54960447e+01  1.47755064e+01  1.62933174e+01]\n",
            " [ 1.07666016e+01  1.07666016e+01  1.07666016e+01  1.07666016e+01\n",
            "   3.21801758e+03  3.71567383e+03  2.27175293e+03  2.76940918e+03\n",
            "   2.26577148e+03  2.37583008e+03  1.10776367e+03  1.67958984e+03\n",
            "   1.13647461e+03  9.68994141e+02  6.91455078e+02  6.34033203e+02\n",
            "   1.07666016e+01  1.07666016e+01  1.07666016e+01  1.07666016e+01]\n",
            " [ 4.20668494e+03  3.83192504e+03  3.99138927e+03  4.07158101e+03\n",
            "   3.12266222e+03  2.80236234e+03  1.74791575e+03  2.24135304e+03\n",
            "   1.80429781e+03  1.70486273e+03  1.07805112e+03  1.46553274e+03\n",
            "   1.32837565e+03  9.30408398e+02  7.28643955e+02  9.39274323e+02\n",
            "   1.83389618e+03  3.52246928e+03  3.91677648e+03  3.15914972e+03]] (8, 20)\n"
          ],
          "name": "stdout"
        }
      ]
    },
    {
      "cell_type": "markdown",
      "metadata": {
        "id": "dhJQHkJqcC3Q"
      },
      "source": [
        "# SAVE DATASET FEATURES AND LABELS "
      ]
    },
    {
      "cell_type": "code",
      "metadata": {
        "id": "LZeGuW5hYJb7"
      },
      "source": [
        "with open((model_path + model_name + '_features_array_2D.pkl'), 'wb') as f:\n",
        "  pickle.dump(features_array_2d, f)\n",
        "with open((model_path + model_name + '_labels_array.pkl'), 'wb') as f:\n",
        "  pickle.dump(emo_labels_array, f)"
      ],
      "execution_count": 32,
      "outputs": []
    },
    {
      "cell_type": "markdown",
      "metadata": {
        "id": "-wpyrupTca8V"
      },
      "source": [
        "# LOAD DATASET FEATURES AND LABELS "
      ]
    },
    {
      "cell_type": "code",
      "metadata": {
        "id": "1ZEReIvDcRfS",
        "colab": {
          "base_uri": "https://localhost:8080/"
        },
        "outputId": "bfec3ed0-56e4-48ac-bd9d-469aae7d8ec6"
      },
      "source": [
        "with open((model_path + model_name + '_features_array_2D.pkl'), 'rb') as f:\n",
        "  features_array_2d = pickle.load(f)\n",
        "with open((model_path + model_name + '_labels_array.pkl'), 'rb') as f:\n",
        "  emo_labels_array = pickle.load(f)\n",
        "\n",
        "print(features_array_2d.shape)\n",
        "print(emo_labels_array.shape)"
      ],
      "execution_count": 42,
      "outputs": [
        {
          "output_type": "stream",
          "text": [
            "(7198, 8, 20)\n",
            "(7198,)\n"
          ],
          "name": "stdout"
        }
      ]
    },
    {
      "cell_type": "code",
      "metadata": {
        "colab": {
          "base_uri": "https://localhost:8080/"
        },
        "id": "JM3hka_mM9SG",
        "outputId": "21ab7704-a310-4407-9206-358c1430e297"
      },
      "source": [
        "np.reshape(features_array_2d, (8,), order= 'C' or 'F' or 'A')"
      ],
      "execution_count": 43,
      "outputs": [
        {
          "output_type": "execute_result",
          "data": {
            "text/plain": [
              "-39.563934326171875"
            ]
          },
          "metadata": {
            "tags": []
          },
          "execution_count": 43
        }
      ]
    },
    {
      "cell_type": "code",
      "metadata": {
        "colab": {
          "base_uri": "https://localhost:8080/"
        },
        "id": "o95p4uvYM46C",
        "outputId": "9baf1cd6-da9c-472b-ce28-72ab761bf77e"
      },
      "source": [
        "features_array_2d.T.shape"
      ],
      "execution_count": 40,
      "outputs": [
        {
          "output_type": "execute_result",
          "data": {
            "text/plain": [
              "(20, 8, 7198)"
            ]
          },
          "metadata": {
            "tags": []
          },
          "execution_count": 40
        }
      ]
    },
    {
      "cell_type": "code",
      "metadata": {
        "colab": {
          "base_uri": "https://localhost:8080/"
        },
        "id": "jrFyZhtFTVaO",
        "outputId": "f4cbfc62-0162-46aa-b8c7-f16ca9b45d20"
      },
      "source": [
        "from sklearn.base import TransformerMixin\r\n",
        "from sklearn.preprocessing import StandardScaler\r\n",
        "\r\n",
        "\r\n",
        "class NDStandardScaler(TransformerMixin):\r\n",
        "    def __init__(self, **kwargs):\r\n",
        "        self._scaler = StandardScaler(copy=True, **kwargs)\r\n",
        "        self._orig_shape = None\r\n",
        "\r\n",
        "    def fit(self, X, **kwargs):\r\n",
        "        X = np.array(X)\r\n",
        "        # Save the original shape to reshape the flattened X later\r\n",
        "        # back to its original shape\r\n",
        "        if len(X.shape) > 1:\r\n",
        "            self._orig_shape = X.shape[1:]\r\n",
        "        X = self._flatten(X)\r\n",
        "        self._scaler.fit(X, **kwargs)\r\n",
        "        return self\r\n",
        "\r\n",
        "    def transform(self, X, **kwargs):\r\n",
        "        X = np.array(X)\r\n",
        "        X = self._flatten(X)\r\n",
        "        X = self._scaler.transform(X, **kwargs)\r\n",
        "        X = self._reshape(X)\r\n",
        "        return X\r\n",
        "\r\n",
        "    def _flatten(self, X):\r\n",
        "        # Reshape X to <= 2 dimensions\r\n",
        "        if len(X.shape) > 2:\r\n",
        "            n_dims = np.prod(self._orig_shape)\r\n",
        "            X = X.reshape(-1, n_dims)\r\n",
        "        return X\r\n",
        "\r\n",
        "    def _reshape(self, X):\r\n",
        "        # Reshape X back to it's original shape\r\n",
        "        if len(X.shape) >= 2:\r\n",
        "            X = X.reshape(-1, *self._orig_shape)\r\n",
        "        return X\r\n",
        "\r\n",
        "scaler = NDStandardScaler()\r\n",
        "print(scaler.fit_transform(features_array_2d).shape)\r\n",
        "pickle.dump(scaler, open(model_path + model_name + '_SCALER.sav', 'wb'))"
      ],
      "execution_count": 46,
      "outputs": [
        {
          "output_type": "stream",
          "text": [
            "(7198, 8, 20)\n"
          ],
          "name": "stdout"
        }
      ]
    },
    {
      "cell_type": "markdown",
      "metadata": {
        "id": "LCpt-JtNbDeV"
      },
      "source": [
        "# **PREPROCESSING - SCALING**\r\n",
        "\r\n",
        "\r\n"
      ]
    },
    {
      "cell_type": "code",
      "metadata": {
        "id": "jv1xkI41W54u"
      },
      "source": [
        "'''scaler = MinMaxScaler()\r\n",
        "features_array_scaled = scaler.fit_transform(features_array_2d)\r\n",
        "\r\n",
        "pickle.dump(scaler, open(model_path + model_name + '_SCALER.sav', 'wb'))\r\n",
        "\r\n",
        "features_array_scaled'''"
      ],
      "execution_count": null,
      "outputs": []
    },
    {
      "cell_type": "code",
      "metadata": {
        "id": "gViBcEvPcn4t",
        "colab": {
          "base_uri": "https://localhost:8080/"
        },
        "outputId": "8ab6a26b-b04f-4a28-c0ee-af0761deef45"
      },
      "source": [
        "scaler = pickle.load(open(model_path + model_name + '_SCALER.sav', 'rb'))\r\n",
        "features_array_scaled = scaler.transform(features_array_2d)\r\n",
        "features_array_scaled.shape"
      ],
      "execution_count": 48,
      "outputs": [
        {
          "output_type": "execute_result",
          "data": {
            "text/plain": [
              "(7198, 8, 20)"
            ]
          },
          "metadata": {
            "tags": []
          },
          "execution_count": 48
        }
      ]
    },
    {
      "cell_type": "markdown",
      "metadata": {
        "id": "TkOFpVilk8FJ"
      },
      "source": [
        "# **SAVE SCALED ARRAY AND LABELS**\r\n",
        "\r\n",
        "\r\n",
        "\r\n",
        "\r\n"
      ]
    },
    {
      "cell_type": "code",
      "metadata": {
        "id": "u5u9RU1Tknon"
      },
      "source": [
        "with open((model_path + model_name + '_SCALED_featuresArray.pkl'), 'wb') as f:\n",
        "  pickle.dump(features_array_scaled, f)\n",
        "\n",
        "with open((model_path + model_name + '_labelsArray.pkl'), 'wb') as f:\n",
        "  pickle.dump(labels_array, f)"
      ],
      "execution_count": 49,
      "outputs": []
    },
    {
      "cell_type": "markdown",
      "metadata": {
        "id": "7giDAG7Lk0Of"
      },
      "source": [
        "# LOAD LABELS AND SCALED FEATURES"
      ]
    },
    {
      "cell_type": "code",
      "metadata": {
        "id": "MAoy2IdVkzjK"
      },
      "source": [
        "with open((model_path + model_name + '_SCALED_featuresArray.pkl'), 'rb') as f:\n",
        "  features_array_scaled = pickle.load(f)\n",
        "\n",
        "with open((model_path + model_name + '_labelsArray.pkl'), 'rb') as f:\n",
        "  labels_array = pickle.load(f)"
      ],
      "execution_count": 4,
      "outputs": []
    },
    {
      "cell_type": "code",
      "metadata": {
        "id": "dgkcxx774qAI",
        "colab": {
          "base_uri": "https://localhost:8080/"
        },
        "outputId": "1d3af673-78db-459a-8d77-b15422e34c4e"
      },
      "source": [
        "def takeMaleData(labels_array, features_array_scaled):\r\n",
        "  labels_filtered_array = []\r\n",
        "  features_filtered_array =  []\r\n",
        "\r\n",
        "  for index, i in enumerate(labels_array):\r\n",
        "    if 'female' not in i[0]:  \r\n",
        "      labels_filtered_array.append(labels_array[index])\r\n",
        "      features_filtered_array.append(features_array_scaled[index])\r\n",
        "  return np.array(labels_filtered_array), np.array(features_filtered_array)\r\n",
        "\r\n",
        "def takeFemaleData(labels_array, features_array_scaled):\r\n",
        "  labels_filtered_array = []\r\n",
        "  features_filtered_array =  []\r\n",
        "\r\n",
        "  for index, i in enumerate(labels_array):\r\n",
        "    if 'female' in i[0]:  \r\n",
        "      labels_filtered_array.append(labels_array[index])\r\n",
        "      features_filtered_array.append(features_array_scaled[index])\r\n",
        "  return np.array(labels_filtered_array), np.array(features_filtered_array)\r\n",
        "\r\n",
        "if gender.lower() == 'female':\r\n",
        "  labels_filtered_array, features_filtered_array = takeFemaleData(labels_array, features_array_scaled)  \r\n",
        "elif gender.lower() == 'male':\r\n",
        "  labels_filtered_array, features_filtered_array = takeMaleData(labels_array, features_array_scaled) \r\n",
        "  \r\n",
        "print(labels_filtered_array)\r\n",
        "print(features_filtered_array.shape)"
      ],
      "execution_count": 5,
      "outputs": [
        {
          "output_type": "stream",
          "text": [
            "[['female_sadness']\n",
            " ['female_sadness']\n",
            " ['female_sadness']\n",
            " ...\n",
            " ['female_calm']\n",
            " ['female_sadness']\n",
            " ['female_joy']]\n",
            "(4745, 8, 20)\n"
          ],
          "name": "stdout"
        }
      ]
    },
    {
      "cell_type": "markdown",
      "metadata": {
        "id": "0FVJkPVJKoF3"
      },
      "source": [
        "SAVE LABEL ENCODER CLASSES"
      ]
    },
    {
      "cell_type": "code",
      "metadata": {
        "id": "nbCYKuzu3Amq",
        "colab": {
          "base_uri": "https://localhost:8080/"
        },
        "outputId": "7f2c1760-fa0e-44f8-86f6-d94598c9b31f"
      },
      "source": [
        "lb = LabelEncoder()\r\n",
        "lb.fit(labels_filtered_array)\r\n",
        "print(lb.classes_)\r\n",
        "with open((model_path + gender + '_classes_emotions.pkl'), 'wb') as f:\r\n",
        "  pickle.dump(lb.classes_, f)  "
      ],
      "execution_count": 6,
      "outputs": [
        {
          "output_type": "stream",
          "text": [
            "['female_anger' 'female_calm' 'female_disgust' 'female_fear' 'female_joy'\n",
            " 'female_neutral' 'female_sadness' 'female_surprise']\n"
          ],
          "name": "stdout"
        },
        {
          "output_type": "stream",
          "text": [
            "/usr/local/lib/python3.7/dist-packages/sklearn/preprocessing/_label.py:235: DataConversionWarning: A column-vector y was passed when a 1d array was expected. Please change the shape of y to (n_samples, ), for example using ravel().\n",
            "  y = column_or_1d(y, warn=True)\n"
          ],
          "name": "stderr"
        }
      ]
    },
    {
      "cell_type": "markdown",
      "metadata": {
        "id": "Ih45BlqgKtyr"
      },
      "source": [
        "LOAD LABEL ENCODER CLASSES"
      ]
    },
    {
      "cell_type": "code",
      "metadata": {
        "id": "tEJcUCJVKwz9",
        "colab": {
          "base_uri": "https://localhost:8080/"
        },
        "outputId": "f28b7d89-f862-49cf-e71a-bdd8264d170a"
      },
      "source": [
        "lb = LabelEncoder()\r\n",
        "with open((model_path + gender + '_classes_emotions.pkl'), 'rb') as f:\r\n",
        "  lb.classes_ = pickle.load(f)\r\n",
        "print(lb.classes_)"
      ],
      "execution_count": 7,
      "outputs": [
        {
          "output_type": "stream",
          "text": [
            "['female_anger' 'female_calm' 'female_disgust' 'female_fear' 'female_joy'\n",
            " 'female_neutral' 'female_sadness' 'female_surprise']\n"
          ],
          "name": "stdout"
        }
      ]
    },
    {
      "cell_type": "markdown",
      "metadata": {
        "id": "L9PphbfOl-kc"
      },
      "source": [
        "SHUFFLE FILES AND LABELS "
      ]
    },
    {
      "cell_type": "code",
      "metadata": {
        "id": "M8TgNuNt0c8b",
        "colab": {
          "base_uri": "https://localhost:8080/"
        },
        "outputId": "0459f3c1-cd9c-4320-aef5-ae1364ad389a"
      },
      "source": [
        "features_filt_shuff_array, labels_filt_shuff_array = shuffle(features_filtered_array, labels_filtered_array)\r\n",
        "\r\n",
        "print(labels_filt_shuff_array)"
      ],
      "execution_count": 8,
      "outputs": [
        {
          "output_type": "stream",
          "text": [
            "[['female_sadness']\n",
            " ['female_surprise']\n",
            " ['female_disgust']\n",
            " ...\n",
            " ['female_sadness']\n",
            " ['female_surprise']\n",
            " ['female_anger']]\n"
          ],
          "name": "stdout"
        }
      ]
    },
    {
      "cell_type": "markdown",
      "metadata": {
        "id": "PJpwFs_b5Ps3"
      },
      "source": [
        "\n",
        "# Dividing the data into test and train"
      ]
    },
    {
      "cell_type": "code",
      "metadata": {
        "id": "2pNznFkU_kjc"
      },
      "source": [
        "train_samples_num = round(len(labels_filtered_array)*0.8)\n",
        "\n",
        "X_train = np.array(features_filt_shuff_array[:train_samples_num]) #train_features_array\n",
        "y_train = np.array(labels_filt_shuff_array[:train_samples_num]) #train_label_array\n",
        "X_test = np.array(features_filt_shuff_array[train_samples_num:]) #test_features_array\n",
        "y_test = np.array(labels_filt_shuff_array[train_samples_num:]) #test_label_array"
      ],
      "execution_count": 9,
      "outputs": []
    },
    {
      "cell_type": "markdown",
      "metadata": {
        "id": "HC5pVMZgBOKT"
      },
      "source": [
        "TRANSFORM LABELS"
      ]
    },
    {
      "cell_type": "code",
      "metadata": {
        "id": "1YwvIzsI5nU4",
        "colab": {
          "base_uri": "https://localhost:8080/"
        },
        "outputId": "6d0afbe2-63de-4184-8723-d21801d04d75"
      },
      "source": [
        "y_train = np_utils.to_categorical(lb.transform(y_train))\n",
        "y_test = np_utils.to_categorical(lb.transform(y_test))"
      ],
      "execution_count": 10,
      "outputs": [
        {
          "output_type": "stream",
          "text": [
            "/usr/local/lib/python3.7/dist-packages/sklearn/preprocessing/_label.py:268: DataConversionWarning: A column-vector y was passed when a 1d array was expected. Please change the shape of y to (n_samples, ), for example using ravel().\n",
            "  y = column_or_1d(y, warn=True)\n"
          ],
          "name": "stderr"
        }
      ]
    },
    {
      "cell_type": "code",
      "metadata": {
        "colab": {
          "base_uri": "https://localhost:8080/"
        },
        "id": "xHC9cWgaVS06",
        "outputId": "50f06892-57be-4744-b0c2-420c47d6aa28"
      },
      "source": [
        "x_traincnn = np.expand_dims(X_train, axis=3)\r\n",
        "x_testcnn = np.expand_dims(X_test, axis=3)\r\n",
        "print(x_testcnn.shape)"
      ],
      "execution_count": 11,
      "outputs": [
        {
          "output_type": "stream",
          "text": [
            "(949, 8, 20, 1)\n"
          ],
          "name": "stdout"
        }
      ]
    },
    {
      "cell_type": "markdown",
      "metadata": {
        "id": "DDphwJbR7ABj"
      },
      "source": [
        "# **MODEL**"
      ]
    },
    {
      "cell_type": "code",
      "metadata": {
        "id": "7CO4IkGp52Rn"
      },
      "source": [
        "input_shape = x_traincnn.shape[1:]\n",
        "num_classes = 8  \n",
        "model = Sequential()\n",
        "\n",
        "model.add(Conv2D(64,kernel_size=(1,1),padding='same', activation='tanh', input_shape=input_shape))\n",
        "\n",
        "model.add(Conv2D(64, kernel_size=(2,2),padding='same', activation='tanh'))\n",
        "model.add(Dropout(0.2))\n",
        "\n",
        "model.add(Conv2D(32, kernel_size=(4,4),padding='same', activation='tanh'))\n",
        "model.add(Dropout(0.2))\n",
        "\n",
        "model.add(Conv2D(32, kernel_size=(2,2),padding='same', activation='tanh'))\n",
        "\n",
        "model.add(Flatten())\n",
        "model.add(Dense(64, activation='tanh'))\n",
        "model.add(Dense(num_classes, activation='softmax'))\n",
        "\n",
        "opt = tf.keras.optimizers.Adam(learning_rate=0.0001) "
      ],
      "execution_count": 12,
      "outputs": []
    },
    {
      "cell_type": "code",
      "metadata": {
        "id": "fThlzaPU5_ui",
        "colab": {
          "base_uri": "https://localhost:8080/"
        },
        "outputId": "847c500d-2a90-4011-d9e6-af43354bd0d9"
      },
      "source": [
        "model.summary()"
      ],
      "execution_count": 13,
      "outputs": [
        {
          "output_type": "stream",
          "text": [
            "Model: \"sequential\"\n",
            "_________________________________________________________________\n",
            "Layer (type)                 Output Shape              Param #   \n",
            "=================================================================\n",
            "conv2d (Conv2D)              (None, 8, 20, 64)         128       \n",
            "_________________________________________________________________\n",
            "conv2d_1 (Conv2D)            (None, 8, 20, 64)         16448     \n",
            "_________________________________________________________________\n",
            "dropout (Dropout)            (None, 8, 20, 64)         0         \n",
            "_________________________________________________________________\n",
            "conv2d_2 (Conv2D)            (None, 8, 20, 32)         32800     \n",
            "_________________________________________________________________\n",
            "dropout_1 (Dropout)          (None, 8, 20, 32)         0         \n",
            "_________________________________________________________________\n",
            "conv2d_3 (Conv2D)            (None, 8, 20, 32)         4128      \n",
            "_________________________________________________________________\n",
            "flatten (Flatten)            (None, 5120)              0         \n",
            "_________________________________________________________________\n",
            "dense (Dense)                (None, 64)                327744    \n",
            "_________________________________________________________________\n",
            "dense_1 (Dense)              (None, 8)                 520       \n",
            "=================================================================\n",
            "Total params: 381,768\n",
            "Trainable params: 381,768\n",
            "Non-trainable params: 0\n",
            "_________________________________________________________________\n"
          ],
          "name": "stdout"
        }
      ]
    },
    {
      "cell_type": "code",
      "metadata": {
        "id": "-J_L_NQb6C9b"
      },
      "source": [
        "model.compile(loss= 'categorical_crossentropy', optimizer = opt, metrics=['accuracy'])"
      ],
      "execution_count": 14,
      "outputs": []
    },
    {
      "cell_type": "code",
      "metadata": {
        "id": "3jpf-3Zh6IxI",
        "colab": {
          "base_uri": "https://localhost:8080/"
        },
        "outputId": "b79614e6-9120-4a0a-8d64-a06fc466c2a0"
      },
      "source": [
        "cnnhistory = model.fit(x_traincnn, y_train, batch_size = 32, epochs = 100, validation_data = (x_testcnn, y_test))"
      ],
      "execution_count": 15,
      "outputs": [
        {
          "output_type": "stream",
          "text": [
            "Epoch 1/100\n",
            "119/119 [==============================] - 11s 90ms/step - loss: 1.7640 - accuracy: 0.3577 - val_loss: 1.2492 - val_accuracy: 0.5543\n",
            "Epoch 2/100\n",
            "119/119 [==============================] - 10s 86ms/step - loss: 1.1551 - accuracy: 0.5961 - val_loss: 1.0634 - val_accuracy: 0.6417\n",
            "Epoch 3/100\n",
            "119/119 [==============================] - 10s 86ms/step - loss: 0.9840 - accuracy: 0.6671 - val_loss: 0.9433 - val_accuracy: 0.6902\n",
            "Epoch 4/100\n",
            "119/119 [==============================] - 10s 87ms/step - loss: 0.8833 - accuracy: 0.7069 - val_loss: 0.8481 - val_accuracy: 0.7113\n",
            "Epoch 5/100\n",
            "119/119 [==============================] - 10s 86ms/step - loss: 0.7730 - accuracy: 0.7449 - val_loss: 0.7901 - val_accuracy: 0.7313\n",
            "Epoch 6/100\n",
            "119/119 [==============================] - 10s 86ms/step - loss: 0.7042 - accuracy: 0.7669 - val_loss: 0.7463 - val_accuracy: 0.7492\n",
            "Epoch 7/100\n",
            "119/119 [==============================] - 10s 86ms/step - loss: 0.6422 - accuracy: 0.7918 - val_loss: 0.6994 - val_accuracy: 0.7671\n",
            "Epoch 8/100\n",
            "119/119 [==============================] - 10s 86ms/step - loss: 0.5779 - accuracy: 0.8149 - val_loss: 0.6849 - val_accuracy: 0.7703\n",
            "Epoch 9/100\n",
            "119/119 [==============================] - 10s 86ms/step - loss: 0.5580 - accuracy: 0.8136 - val_loss: 0.6425 - val_accuracy: 0.7840\n",
            "Epoch 10/100\n",
            "119/119 [==============================] - 10s 87ms/step - loss: 0.4971 - accuracy: 0.8485 - val_loss: 0.6409 - val_accuracy: 0.7819\n",
            "Epoch 11/100\n",
            "119/119 [==============================] - 10s 86ms/step - loss: 0.4814 - accuracy: 0.8557 - val_loss: 0.6085 - val_accuracy: 0.7977\n",
            "Epoch 12/100\n",
            "119/119 [==============================] - 10s 86ms/step - loss: 0.4296 - accuracy: 0.8824 - val_loss: 0.6169 - val_accuracy: 0.7808\n",
            "Epoch 13/100\n",
            "119/119 [==============================] - 10s 86ms/step - loss: 0.4100 - accuracy: 0.8799 - val_loss: 0.5975 - val_accuracy: 0.8008\n",
            "Epoch 14/100\n",
            "119/119 [==============================] - 10s 86ms/step - loss: 0.3829 - accuracy: 0.9012 - val_loss: 0.5805 - val_accuracy: 0.7977\n",
            "Epoch 15/100\n",
            "119/119 [==============================] - 10s 86ms/step - loss: 0.3661 - accuracy: 0.8979 - val_loss: 0.5692 - val_accuracy: 0.8103\n",
            "Epoch 16/100\n",
            "119/119 [==============================] - 10s 87ms/step - loss: 0.3369 - accuracy: 0.9109 - val_loss: 0.5553 - val_accuracy: 0.8156\n",
            "Epoch 17/100\n",
            "119/119 [==============================] - 10s 86ms/step - loss: 0.3233 - accuracy: 0.9163 - val_loss: 0.5414 - val_accuracy: 0.8145\n",
            "Epoch 18/100\n",
            "119/119 [==============================] - 10s 86ms/step - loss: 0.3153 - accuracy: 0.9233 - val_loss: 0.5346 - val_accuracy: 0.8240\n",
            "Epoch 19/100\n",
            "119/119 [==============================] - 10s 86ms/step - loss: 0.2767 - accuracy: 0.9368 - val_loss: 0.5213 - val_accuracy: 0.8261\n",
            "Epoch 20/100\n",
            "119/119 [==============================] - 10s 86ms/step - loss: 0.2803 - accuracy: 0.9341 - val_loss: 0.5206 - val_accuracy: 0.8209\n",
            "Epoch 21/100\n",
            "119/119 [==============================] - 10s 86ms/step - loss: 0.2554 - accuracy: 0.9460 - val_loss: 0.5089 - val_accuracy: 0.8272\n",
            "Epoch 22/100\n",
            "119/119 [==============================] - 10s 86ms/step - loss: 0.2409 - accuracy: 0.9488 - val_loss: 0.4994 - val_accuracy: 0.8346\n",
            "Epoch 23/100\n",
            "119/119 [==============================] - 10s 86ms/step - loss: 0.2183 - accuracy: 0.9564 - val_loss: 0.4925 - val_accuracy: 0.8356\n",
            "Epoch 24/100\n",
            "119/119 [==============================] - 10s 86ms/step - loss: 0.2255 - accuracy: 0.9553 - val_loss: 0.4823 - val_accuracy: 0.8430\n",
            "Epoch 25/100\n",
            "119/119 [==============================] - 10s 86ms/step - loss: 0.2064 - accuracy: 0.9643 - val_loss: 0.4810 - val_accuracy: 0.8504\n",
            "Epoch 26/100\n",
            "119/119 [==============================] - 10s 86ms/step - loss: 0.1865 - accuracy: 0.9670 - val_loss: 0.4805 - val_accuracy: 0.8356\n",
            "Epoch 27/100\n",
            "119/119 [==============================] - 10s 86ms/step - loss: 0.1809 - accuracy: 0.9721 - val_loss: 0.4640 - val_accuracy: 0.8525\n",
            "Epoch 28/100\n",
            "119/119 [==============================] - 10s 86ms/step - loss: 0.1682 - accuracy: 0.9747 - val_loss: 0.4610 - val_accuracy: 0.8535\n",
            "Epoch 29/100\n",
            "119/119 [==============================] - 10s 86ms/step - loss: 0.1626 - accuracy: 0.9772 - val_loss: 0.4560 - val_accuracy: 0.8493\n",
            "Epoch 30/100\n",
            "119/119 [==============================] - 10s 86ms/step - loss: 0.1558 - accuracy: 0.9746 - val_loss: 0.4539 - val_accuracy: 0.8535\n",
            "Epoch 31/100\n",
            "119/119 [==============================] - 10s 86ms/step - loss: 0.1432 - accuracy: 0.9808 - val_loss: 0.4583 - val_accuracy: 0.8472\n",
            "Epoch 32/100\n",
            "119/119 [==============================] - 10s 86ms/step - loss: 0.1429 - accuracy: 0.9830 - val_loss: 0.4458 - val_accuracy: 0.8588\n",
            "Epoch 33/100\n",
            "119/119 [==============================] - 10s 86ms/step - loss: 0.1312 - accuracy: 0.9882 - val_loss: 0.4342 - val_accuracy: 0.8599\n",
            "Epoch 34/100\n",
            "119/119 [==============================] - 10s 86ms/step - loss: 0.1318 - accuracy: 0.9822 - val_loss: 0.4361 - val_accuracy: 0.8641\n",
            "Epoch 35/100\n",
            "119/119 [==============================] - 10s 86ms/step - loss: 0.1223 - accuracy: 0.9883 - val_loss: 0.4424 - val_accuracy: 0.8609\n",
            "Epoch 36/100\n",
            "119/119 [==============================] - 10s 86ms/step - loss: 0.1102 - accuracy: 0.9897 - val_loss: 0.4370 - val_accuracy: 0.8641\n",
            "Epoch 37/100\n",
            "119/119 [==============================] - 10s 86ms/step - loss: 0.1098 - accuracy: 0.9921 - val_loss: 0.4348 - val_accuracy: 0.8630\n",
            "Epoch 38/100\n",
            "119/119 [==============================] - 10s 86ms/step - loss: 0.0977 - accuracy: 0.9934 - val_loss: 0.4295 - val_accuracy: 0.8620\n",
            "Epoch 39/100\n",
            "119/119 [==============================] - 10s 86ms/step - loss: 0.0968 - accuracy: 0.9924 - val_loss: 0.4270 - val_accuracy: 0.8651\n",
            "Epoch 40/100\n",
            "119/119 [==============================] - 10s 86ms/step - loss: 0.0855 - accuracy: 0.9934 - val_loss: 0.4215 - val_accuracy: 0.8630\n",
            "Epoch 41/100\n",
            "119/119 [==============================] - 10s 85ms/step - loss: 0.0868 - accuracy: 0.9953 - val_loss: 0.4132 - val_accuracy: 0.8683\n",
            "Epoch 42/100\n",
            "119/119 [==============================] - 10s 86ms/step - loss: 0.0806 - accuracy: 0.9949 - val_loss: 0.4201 - val_accuracy: 0.8609\n",
            "Epoch 43/100\n",
            "119/119 [==============================] - 10s 86ms/step - loss: 0.0737 - accuracy: 0.9976 - val_loss: 0.4232 - val_accuracy: 0.8662\n",
            "Epoch 44/100\n",
            "119/119 [==============================] - 10s 86ms/step - loss: 0.0676 - accuracy: 0.9979 - val_loss: 0.4137 - val_accuracy: 0.8704\n",
            "Epoch 45/100\n",
            "119/119 [==============================] - 10s 86ms/step - loss: 0.0704 - accuracy: 0.9980 - val_loss: 0.4173 - val_accuracy: 0.8620\n",
            "Epoch 46/100\n",
            "119/119 [==============================] - 10s 86ms/step - loss: 0.0643 - accuracy: 0.9970 - val_loss: 0.4125 - val_accuracy: 0.8714\n",
            "Epoch 47/100\n",
            "119/119 [==============================] - 10s 86ms/step - loss: 0.0644 - accuracy: 0.9966 - val_loss: 0.4209 - val_accuracy: 0.8620\n",
            "Epoch 48/100\n",
            "119/119 [==============================] - 10s 86ms/step - loss: 0.0589 - accuracy: 0.9984 - val_loss: 0.4086 - val_accuracy: 0.8683\n",
            "Epoch 49/100\n",
            "119/119 [==============================] - 10s 86ms/step - loss: 0.0557 - accuracy: 0.9994 - val_loss: 0.4120 - val_accuracy: 0.8651\n",
            "Epoch 50/100\n",
            "119/119 [==============================] - 10s 86ms/step - loss: 0.0515 - accuracy: 0.9991 - val_loss: 0.4073 - val_accuracy: 0.8662\n",
            "Epoch 51/100\n",
            "119/119 [==============================] - 10s 86ms/step - loss: 0.0507 - accuracy: 0.9981 - val_loss: 0.4190 - val_accuracy: 0.8704\n",
            "Epoch 52/100\n",
            "119/119 [==============================] - 10s 86ms/step - loss: 0.0456 - accuracy: 0.9995 - val_loss: 0.4109 - val_accuracy: 0.8683\n",
            "Epoch 53/100\n",
            "119/119 [==============================] - 10s 86ms/step - loss: 0.0440 - accuracy: 0.9990 - val_loss: 0.4204 - val_accuracy: 0.8630\n",
            "Epoch 54/100\n",
            "119/119 [==============================] - 10s 86ms/step - loss: 0.0418 - accuracy: 0.9982 - val_loss: 0.4108 - val_accuracy: 0.8672\n",
            "Epoch 55/100\n",
            "119/119 [==============================] - 10s 86ms/step - loss: 0.0408 - accuracy: 0.9999 - val_loss: 0.4049 - val_accuracy: 0.8672\n",
            "Epoch 56/100\n",
            "119/119 [==============================] - 10s 86ms/step - loss: 0.0411 - accuracy: 0.9997 - val_loss: 0.4014 - val_accuracy: 0.8725\n",
            "Epoch 57/100\n",
            "119/119 [==============================] - 10s 86ms/step - loss: 0.0388 - accuracy: 0.9988 - val_loss: 0.4079 - val_accuracy: 0.8693\n",
            "Epoch 58/100\n",
            "119/119 [==============================] - 10s 86ms/step - loss: 0.0339 - accuracy: 0.9999 - val_loss: 0.4122 - val_accuracy: 0.8672\n",
            "Epoch 59/100\n",
            "119/119 [==============================] - 10s 86ms/step - loss: 0.0328 - accuracy: 0.9993 - val_loss: 0.4050 - val_accuracy: 0.8725\n",
            "Epoch 60/100\n",
            "119/119 [==============================] - 10s 87ms/step - loss: 0.0300 - accuracy: 1.0000 - val_loss: 0.4091 - val_accuracy: 0.8693\n",
            "Epoch 61/100\n",
            "119/119 [==============================] - 10s 86ms/step - loss: 0.0310 - accuracy: 0.9985 - val_loss: 0.4125 - val_accuracy: 0.8714\n",
            "Epoch 62/100\n",
            "119/119 [==============================] - 10s 86ms/step - loss: 0.0276 - accuracy: 0.9997 - val_loss: 0.4155 - val_accuracy: 0.8683\n",
            "Epoch 63/100\n",
            "119/119 [==============================] - 10s 86ms/step - loss: 0.0258 - accuracy: 1.0000 - val_loss: 0.4104 - val_accuracy: 0.8788\n",
            "Epoch 64/100\n",
            "119/119 [==============================] - 10s 85ms/step - loss: 0.0264 - accuracy: 0.9992 - val_loss: 0.4057 - val_accuracy: 0.8725\n",
            "Epoch 65/100\n",
            "119/119 [==============================] - 10s 85ms/step - loss: 0.0254 - accuracy: 0.9999 - val_loss: 0.4123 - val_accuracy: 0.8683\n",
            "Epoch 66/100\n",
            "119/119 [==============================] - 10s 85ms/step - loss: 0.0233 - accuracy: 1.0000 - val_loss: 0.4222 - val_accuracy: 0.8820\n",
            "Epoch 67/100\n",
            "119/119 [==============================] - 10s 85ms/step - loss: 0.0228 - accuracy: 0.9997 - val_loss: 0.4122 - val_accuracy: 0.8736\n",
            "Epoch 68/100\n",
            "119/119 [==============================] - 10s 86ms/step - loss: 0.0202 - accuracy: 0.9996 - val_loss: 0.4257 - val_accuracy: 0.8704\n",
            "Epoch 69/100\n",
            "119/119 [==============================] - 10s 86ms/step - loss: 0.0200 - accuracy: 1.0000 - val_loss: 0.4204 - val_accuracy: 0.8736\n",
            "Epoch 70/100\n",
            "119/119 [==============================] - 10s 86ms/step - loss: 0.0200 - accuracy: 0.9994 - val_loss: 0.4190 - val_accuracy: 0.8736\n",
            "Epoch 71/100\n",
            "119/119 [==============================] - 10s 86ms/step - loss: 0.0177 - accuracy: 0.9999 - val_loss: 0.4153 - val_accuracy: 0.8757\n",
            "Epoch 72/100\n",
            "119/119 [==============================] - 10s 86ms/step - loss: 0.0166 - accuracy: 1.0000 - val_loss: 0.4156 - val_accuracy: 0.8757\n",
            "Epoch 73/100\n",
            "119/119 [==============================] - 10s 86ms/step - loss: 0.0156 - accuracy: 0.9997 - val_loss: 0.4111 - val_accuracy: 0.8767\n",
            "Epoch 74/100\n",
            "119/119 [==============================] - 10s 86ms/step - loss: 0.0153 - accuracy: 1.0000 - val_loss: 0.4169 - val_accuracy: 0.8767\n",
            "Epoch 75/100\n",
            "119/119 [==============================] - 10s 86ms/step - loss: 0.0144 - accuracy: 1.0000 - val_loss: 0.4122 - val_accuracy: 0.8767\n",
            "Epoch 76/100\n",
            "119/119 [==============================] - 10s 86ms/step - loss: 0.0134 - accuracy: 1.0000 - val_loss: 0.4255 - val_accuracy: 0.8736\n",
            "Epoch 77/100\n",
            "119/119 [==============================] - 10s 87ms/step - loss: 0.0130 - accuracy: 1.0000 - val_loss: 0.4115 - val_accuracy: 0.8714\n",
            "Epoch 78/100\n",
            "119/119 [==============================] - 10s 87ms/step - loss: 0.0132 - accuracy: 1.0000 - val_loss: 0.4227 - val_accuracy: 0.8725\n",
            "Epoch 79/100\n",
            "119/119 [==============================] - 10s 86ms/step - loss: 0.0123 - accuracy: 1.0000 - val_loss: 0.4336 - val_accuracy: 0.8736\n",
            "Epoch 80/100\n",
            "119/119 [==============================] - 10s 86ms/step - loss: 0.0125 - accuracy: 1.0000 - val_loss: 0.4198 - val_accuracy: 0.8746\n",
            "Epoch 81/100\n",
            "119/119 [==============================] - 10s 86ms/step - loss: 0.0117 - accuracy: 1.0000 - val_loss: 0.4153 - val_accuracy: 0.8820\n",
            "Epoch 82/100\n",
            "119/119 [==============================] - 10s 86ms/step - loss: 0.0102 - accuracy: 1.0000 - val_loss: 0.4159 - val_accuracy: 0.8778\n",
            "Epoch 83/100\n",
            "119/119 [==============================] - 10s 86ms/step - loss: 0.0104 - accuracy: 1.0000 - val_loss: 0.4205 - val_accuracy: 0.8809\n",
            "Epoch 84/100\n",
            "119/119 [==============================] - 10s 86ms/step - loss: 0.0107 - accuracy: 1.0000 - val_loss: 0.4167 - val_accuracy: 0.8809\n",
            "Epoch 85/100\n",
            "119/119 [==============================] - 10s 86ms/step - loss: 0.0093 - accuracy: 1.0000 - val_loss: 0.4233 - val_accuracy: 0.8767\n",
            "Epoch 86/100\n",
            "119/119 [==============================] - 10s 86ms/step - loss: 0.0086 - accuracy: 1.0000 - val_loss: 0.4303 - val_accuracy: 0.8746\n",
            "Epoch 87/100\n",
            "119/119 [==============================] - 10s 86ms/step - loss: 0.0082 - accuracy: 1.0000 - val_loss: 0.4344 - val_accuracy: 0.8725\n",
            "Epoch 88/100\n",
            "119/119 [==============================] - 10s 86ms/step - loss: 0.0075 - accuracy: 1.0000 - val_loss: 0.4169 - val_accuracy: 0.8809\n",
            "Epoch 89/100\n",
            "119/119 [==============================] - 10s 85ms/step - loss: 0.0081 - accuracy: 1.0000 - val_loss: 0.4224 - val_accuracy: 0.8809\n",
            "Epoch 90/100\n",
            "119/119 [==============================] - 10s 87ms/step - loss: 0.0075 - accuracy: 1.0000 - val_loss: 0.4213 - val_accuracy: 0.8757\n",
            "Epoch 91/100\n",
            "119/119 [==============================] - 10s 86ms/step - loss: 0.0080 - accuracy: 1.0000 - val_loss: 0.4377 - val_accuracy: 0.8767\n",
            "Epoch 92/100\n",
            "119/119 [==============================] - 10s 86ms/step - loss: 0.0070 - accuracy: 1.0000 - val_loss: 0.4263 - val_accuracy: 0.8778\n",
            "Epoch 93/100\n",
            "119/119 [==============================] - 10s 86ms/step - loss: 0.0066 - accuracy: 1.0000 - val_loss: 0.4305 - val_accuracy: 0.8746\n",
            "Epoch 94/100\n",
            "119/119 [==============================] - 10s 86ms/step - loss: 0.0065 - accuracy: 1.0000 - val_loss: 0.4205 - val_accuracy: 0.8820\n",
            "Epoch 95/100\n",
            "119/119 [==============================] - 10s 86ms/step - loss: 0.0054 - accuracy: 1.0000 - val_loss: 0.4346 - val_accuracy: 0.8693\n",
            "Epoch 96/100\n",
            "119/119 [==============================] - 10s 87ms/step - loss: 0.0052 - accuracy: 1.0000 - val_loss: 0.4304 - val_accuracy: 0.8778\n",
            "Epoch 97/100\n",
            "119/119 [==============================] - 10s 86ms/step - loss: 0.0058 - accuracy: 1.0000 - val_loss: 0.4360 - val_accuracy: 0.8788\n",
            "Epoch 98/100\n",
            "119/119 [==============================] - 10s 86ms/step - loss: 0.0064 - accuracy: 1.0000 - val_loss: 0.4307 - val_accuracy: 0.8757\n",
            "Epoch 99/100\n",
            "119/119 [==============================] - 10s 86ms/step - loss: 0.0051 - accuracy: 1.0000 - val_loss: 0.4414 - val_accuracy: 0.8704\n",
            "Epoch 100/100\n",
            "119/119 [==============================] - 10s 86ms/step - loss: 0.0047 - accuracy: 1.0000 - val_loss: 0.4347 - val_accuracy: 0.8799\n"
          ],
          "name": "stdout"
        }
      ]
    },
    {
      "cell_type": "markdown",
      "metadata": {
        "id": "R0JRLnly58lj"
      },
      "source": [
        "# **PLOTTING**"
      ]
    },
    {
      "cell_type": "code",
      "metadata": {
        "id": "1Mi2Q7VO9xwW",
        "colab": {
          "base_uri": "https://localhost:8080/",
          "height": 389
        },
        "outputId": "bd836c0a-5b42-4831-b3b2-d74cf653b33e"
      },
      "source": [
        "plt.figure(figsize=(10,6))\n",
        "plt.plot(cnnhistory.history['loss'], 'm', linewidth=3)\n",
        "plt.plot(cnnhistory.history['val_loss'], 'b', linewidth=3)\n",
        "plt.legend(['Loss', 'Validation Loss'], fontsize=13)\n",
        "plt.xlabel('epochs')\n",
        "plt.ylabel('loss', fontsize=12)\n",
        "plt.grid(True)\n",
        "plt.show()"
      ],
      "execution_count": 16,
      "outputs": [
        {
          "output_type": "display_data",
          "data": {
            "image/png": "[encoded data removed]",
            "text/plain": [
              "<Figure size 720x432 with 1 Axes>"
            ]
          },
          "metadata": {
            "tags": [],
            "needs_background": "light"
          }
        }
      ]
    },
    {
      "cell_type": "code",
      "metadata": {
        "id": "FtxMkeGaKYYs",
        "colab": {
          "base_uri": "https://localhost:8080/",
          "height": 404
        },
        "outputId": "5e13b86b-715c-4b7d-a6fb-a2448b1d2d89"
      },
      "source": [
        "plt.figure(figsize=(10,6), frameon=True)\n",
        "plt.plot(cnnhistory.history['accuracy'], 'g', linewidth=3)\n",
        "plt.plot(cnnhistory.history['val_accuracy'], 'r', linewidth=3)\n",
        "plt.title('Model Accuracy')\n",
        "plt.xlabel('Epochs')\n",
        "plt.ylabel('Accuracy', fontsize=12)\n",
        "plt.legend(['Accuracy', 'Validation Accuracy'], loc = 'upper left', fontsize=13)\n",
        "plt.grid(True)\n",
        "plt.show()"
      ],
      "execution_count": 17,
      "outputs": [
        {
          "output_type": "display_data",
          "data": {
            "image/png": "[encoded data removed]",
            "text/plain": [
              "<Figure size 720x432 with 1 Axes>"
            ]
          },
          "metadata": {
            "tags": [],
            "needs_background": "light"
          }
        }
      ]
    },
    {
      "cell_type": "code",
      "metadata": {
        "id": "Bcx0kn54SrWo",
        "colab": {
          "base_uri": "https://localhost:8080/",
          "height": 1000
        },
        "outputId": "d95b2b16-6de2-4607-a1f4-3e10fca512d2"
      },
      "source": [
        "tf.keras.utils.plot_model(\n",
        "    model,\n",
        "    to_file=\"img_model.png\",\n",
        "    show_shapes=False,\n",
        "    show_layer_names=True,\n",
        "    rankdir=\"TB\",\n",
        "    expand_nested=False,\n",
        "    dpi=96,\n",
        ")\n",
        "\n",
        "dot_img_file = (model_path + 'img_cnn_model_' + model_name + '.png')\n",
        "tf.keras.utils.plot_model(model, to_file = dot_img_file, show_shapes=True)\n"
      ],
      "execution_count": 18,
      "outputs": [
        {
          "output_type": "execute_result",
          "data": {
            "image/png": "[encoded data removed]",
            "text/plain": [
              "<IPython.core.display.Image object>"
            ]
          },
          "metadata": {
            "tags": []
          },
          "execution_count": 18
        }
      ]
    },
    {
      "cell_type": "markdown",
      "metadata": {
        "id": "TgoIRnXx5Kwj"
      },
      "source": [
        "# **SAVING THE MODEL**"
      ]
    },
    {
      "cell_type": "code",
      "metadata": {
        "id": "k10VeAGW5KKl",
        "colab": {
          "base_uri": "https://localhost:8080/"
        },
        "outputId": "e6784cc6-b360-483a-c0c7-9ecd4ec604b3"
      },
      "source": [
        "model.save(os.path.join(model_path, (model_name + '_MODEL.h5')))\n",
        "print('Saved trained model at %s ' % model_path)\n",
        "\n",
        "model_json = model.to_json()\n",
        "with open((model_path + model_name + '_MODEL.json'), \"w\") as json_file:\n",
        "    json_file.write(model_json)"
      ],
      "execution_count": 19,
      "outputs": [
        {
          "output_type": "stream",
          "text": [
            "Saved trained model at /content/drive/MyDrive/My_AI/EmoRec/ \n"
          ],
          "name": "stdout"
        }
      ]
    },
    {
      "cell_type": "markdown",
      "metadata": {
        "id": "cAXCT5O15bl1"
      },
      "source": [
        "# **LOADING THE MODEL**"
      ]
    },
    {
      "cell_type": "code",
      "metadata": {
        "id": "iBPoY_-45agM",
        "colab": {
          "base_uri": "https://localhost:8080/"
        },
        "outputId": "ba52bb9b-ca0c-41fa-e38c-772b21551e7c"
      },
      "source": [
        "json_file = open(model_path + model_name + '_MODEL.json', 'r')\n",
        "loaded_model_json = json_file.read()\n",
        "json_file.close()\n",
        "loaded_model = model_from_json(loaded_model_json)\n",
        "loaded_model.load_weights(model_path + model_name + '_MODEL.h5')\n",
        "print(\"Loaded model from disk\")\n",
        "\n",
        "opt = tf.keras.optimizers.Adam(learning_rate=0.0001) \n",
        "loaded_model.compile(loss='categorical_crossentropy', optimizer=opt, metrics=['accuracy'])\n",
        "score = loaded_model.evaluate(x_testcnn, y_test, verbose=0)\n",
        "print(\"%s: %.2f%%\" % (loaded_model.metrics_names[1], score[1]*100))"
      ],
      "execution_count": 20,
      "outputs": [
        {
          "output_type": "stream",
          "text": [
            "Loaded model from disk\n",
            "accuracy: 87.99%\n"
          ],
          "name": "stdout"
        }
      ]
    },
    {
      "cell_type": "markdown",
      "metadata": {
        "id": "qoFefCox6jRe"
      },
      "source": [
        "# **Predicting emotions on the test data**\n"
      ]
    },
    {
      "cell_type": "code",
      "metadata": {
        "id": "soFuVUkh6kbW",
        "colab": {
          "base_uri": "https://localhost:8080/",
          "height": 394
        },
        "outputId": "69611b3d-e98e-47dc-b717-ad6ce3c7a186"
      },
      "source": [
        "lb = LabelEncoder()\n",
        "with open((model_path + gender + '_classes_emotions.pkl'), 'rb') as f:\n",
        "  lb.classes_ = pickle.load(f)\n",
        "print(lb.classes_)\n",
        "\n",
        "predicted = loaded_model.predict(x_testcnn, batch_size=32, verbose=1)\n",
        "predicted = predicted.argmax(axis=1)\n",
        "predicted = predicted.astype(int).flatten()\n",
        "\n",
        "predictions = (lb.inverse_transform((predicted)))\n",
        "predictions_df = pd.DataFrame({'predictedvalues': predictions})\n",
        "\n",
        "actual = y_test.argmax(axis=1)\n",
        "actual = actual.astype(int).flatten()\n",
        "\n",
        "actual_labels = (lb.inverse_transform((actual)))\n",
        "\n",
        "actual_labels = pd.DataFrame({'actualvalues': actual_labels})\n",
        "actual_pred_df = actual_labels.join(predictions_df)\n",
        "\n",
        "actual_pred_df[40:50]"
      ],
      "execution_count": 21,
      "outputs": [
        {
          "output_type": "stream",
          "text": [
            "['female_anger' 'female_calm' 'female_disgust' 'female_fear' 'female_joy'\n",
            " 'female_neutral' 'female_sadness' 'female_surprise']\n",
            "30/30 [==============================] - 1s 19ms/step\n"
          ],
          "name": "stdout"
        },
        {
          "output_type": "execute_result",
          "data": {
            "text/html": [
              "<div>\n",
              "<style scoped>\n",
              "    .dataframe tbody tr th:only-of-type {\n",
              "        vertical-align: middle;\n",
              "    }\n",
              "\n",
              "    .dataframe tbody tr th {\n",
              "        vertical-align: top;\n",
              "    }\n",
              "\n",
              "    .dataframe thead th {\n",
              "        text-align: right;\n",
              "    }\n",
              "</style>\n",
              "<table border=\"1\" class=\"dataframe\">\n",
              "  <thead>\n",
              "    <tr style=\"text-align: right;\">\n",
              "      <th></th>\n",
              "      <th>actualvalues</th>\n",
              "      <th>predictedvalues</th>\n",
              "    </tr>\n",
              "  </thead>\n",
              "  <tbody>\n",
              "    <tr>\n",
              "      <th>40</th>\n",
              "      <td>female_disgust</td>\n",
              "      <td>female_disgust</td>\n",
              "    </tr>\n",
              "    <tr>\n",
              "      <th>41</th>\n",
              "      <td>female_surprise</td>\n",
              "      <td>female_surprise</td>\n",
              "    </tr>\n",
              "    <tr>\n",
              "      <th>42</th>\n",
              "      <td>female_sadness</td>\n",
              "      <td>female_sadness</td>\n",
              "    </tr>\n",
              "    <tr>\n",
              "      <th>43</th>\n",
              "      <td>female_disgust</td>\n",
              "      <td>female_disgust</td>\n",
              "    </tr>\n",
              "    <tr>\n",
              "      <th>44</th>\n",
              "      <td>female_surprise</td>\n",
              "      <td>female_surprise</td>\n",
              "    </tr>\n",
              "    <tr>\n",
              "      <th>45</th>\n",
              "      <td>female_fear</td>\n",
              "      <td>female_fear</td>\n",
              "    </tr>\n",
              "    <tr>\n",
              "      <th>46</th>\n",
              "      <td>female_neutral</td>\n",
              "      <td>female_neutral</td>\n",
              "    </tr>\n",
              "    <tr>\n",
              "      <th>47</th>\n",
              "      <td>female_fear</td>\n",
              "      <td>female_fear</td>\n",
              "    </tr>\n",
              "    <tr>\n",
              "      <th>48</th>\n",
              "      <td>female_anger</td>\n",
              "      <td>female_anger</td>\n",
              "    </tr>\n",
              "    <tr>\n",
              "      <th>49</th>\n",
              "      <td>female_surprise</td>\n",
              "      <td>female_surprise</td>\n",
              "    </tr>\n",
              "  </tbody>\n",
              "</table>\n",
              "</div>"
            ],
            "text/plain": [
              "       actualvalues  predictedvalues\n",
              "40   female_disgust   female_disgust\n",
              "41  female_surprise  female_surprise\n",
              "42   female_sadness   female_sadness\n",
              "43   female_disgust   female_disgust\n",
              "44  female_surprise  female_surprise\n",
              "45      female_fear      female_fear\n",
              "46   female_neutral   female_neutral\n",
              "47      female_fear      female_fear\n",
              "48     female_anger     female_anger\n",
              "49  female_surprise  female_surprise"
            ]
          },
          "metadata": {
            "tags": []
          },
          "execution_count": 21
        }
      ]
    },
    {
      "cell_type": "code",
      "metadata": {
        "id": "QjtRhwAxeZ2j",
        "colab": {
          "base_uri": "https://localhost:8080/",
          "height": 314
        },
        "outputId": "96b0c46f-7a2f-4d5c-d084-5774392a1695"
      },
      "source": [
        "actual_pred_df.groupby('actualvalues').count()"
      ],
      "execution_count": 22,
      "outputs": [
        {
          "output_type": "execute_result",
          "data": {
            "text/html": [
              "<div>\n",
              "<style scoped>\n",
              "    .dataframe tbody tr th:only-of-type {\n",
              "        vertical-align: middle;\n",
              "    }\n",
              "\n",
              "    .dataframe tbody tr th {\n",
              "        vertical-align: top;\n",
              "    }\n",
              "\n",
              "    .dataframe thead th {\n",
              "        text-align: right;\n",
              "    }\n",
              "</style>\n",
              "<table border=\"1\" class=\"dataframe\">\n",
              "  <thead>\n",
              "    <tr style=\"text-align: right;\">\n",
              "      <th></th>\n",
              "      <th>predictedvalues</th>\n",
              "    </tr>\n",
              "    <tr>\n",
              "      <th>actualvalues</th>\n",
              "      <th></th>\n",
              "    </tr>\n",
              "  </thead>\n",
              "  <tbody>\n",
              "    <tr>\n",
              "      <th>female_anger</th>\n",
              "      <td>141</td>\n",
              "    </tr>\n",
              "    <tr>\n",
              "      <th>female_calm</th>\n",
              "      <td>19</td>\n",
              "    </tr>\n",
              "    <tr>\n",
              "      <th>female_disgust</th>\n",
              "      <td>111</td>\n",
              "    </tr>\n",
              "    <tr>\n",
              "      <th>female_fear</th>\n",
              "      <td>147</td>\n",
              "    </tr>\n",
              "    <tr>\n",
              "      <th>female_joy</th>\n",
              "      <td>136</td>\n",
              "    </tr>\n",
              "    <tr>\n",
              "      <th>female_neutral</th>\n",
              "      <td>125</td>\n",
              "    </tr>\n",
              "    <tr>\n",
              "      <th>female_sadness</th>\n",
              "      <td>129</td>\n",
              "    </tr>\n",
              "    <tr>\n",
              "      <th>female_surprise</th>\n",
              "      <td>141</td>\n",
              "    </tr>\n",
              "  </tbody>\n",
              "</table>\n",
              "</div>"
            ],
            "text/plain": [
              "                 predictedvalues\n",
              "actualvalues                    \n",
              "female_anger                 141\n",
              "female_calm                   19\n",
              "female_disgust               111\n",
              "female_fear                  147\n",
              "female_joy                   136\n",
              "female_neutral               125\n",
              "female_sadness               129\n",
              "female_surprise              141"
            ]
          },
          "metadata": {
            "tags": []
          },
          "execution_count": 22
        }
      ]
    },
    {
      "cell_type": "code",
      "metadata": {
        "id": "QZsfui1hwknw",
        "colab": {
          "base_uri": "https://localhost:8080/",
          "height": 314
        },
        "outputId": "f47e932b-93dc-4fc7-f0ff-206604425734"
      },
      "source": [
        "actual_pred_df.groupby('predictedvalues').count()"
      ],
      "execution_count": 23,
      "outputs": [
        {
          "output_type": "execute_result",
          "data": {
            "text/html": [
              "<div>\n",
              "<style scoped>\n",
              "    .dataframe tbody tr th:only-of-type {\n",
              "        vertical-align: middle;\n",
              "    }\n",
              "\n",
              "    .dataframe tbody tr th {\n",
              "        vertical-align: top;\n",
              "    }\n",
              "\n",
              "    .dataframe thead th {\n",
              "        text-align: right;\n",
              "    }\n",
              "</style>\n",
              "<table border=\"1\" class=\"dataframe\">\n",
              "  <thead>\n",
              "    <tr style=\"text-align: right;\">\n",
              "      <th></th>\n",
              "      <th>actualvalues</th>\n",
              "    </tr>\n",
              "    <tr>\n",
              "      <th>predictedvalues</th>\n",
              "      <th></th>\n",
              "    </tr>\n",
              "  </thead>\n",
              "  <tbody>\n",
              "    <tr>\n",
              "      <th>female_anger</th>\n",
              "      <td>144</td>\n",
              "    </tr>\n",
              "    <tr>\n",
              "      <th>female_calm</th>\n",
              "      <td>18</td>\n",
              "    </tr>\n",
              "    <tr>\n",
              "      <th>female_disgust</th>\n",
              "      <td>118</td>\n",
              "    </tr>\n",
              "    <tr>\n",
              "      <th>female_fear</th>\n",
              "      <td>141</td>\n",
              "    </tr>\n",
              "    <tr>\n",
              "      <th>female_joy</th>\n",
              "      <td>131</td>\n",
              "    </tr>\n",
              "    <tr>\n",
              "      <th>female_neutral</th>\n",
              "      <td>128</td>\n",
              "    </tr>\n",
              "    <tr>\n",
              "      <th>female_sadness</th>\n",
              "      <td>135</td>\n",
              "    </tr>\n",
              "    <tr>\n",
              "      <th>female_surprise</th>\n",
              "      <td>134</td>\n",
              "    </tr>\n",
              "  </tbody>\n",
              "</table>\n",
              "</div>"
            ],
            "text/plain": [
              "                 actualvalues\n",
              "predictedvalues              \n",
              "female_anger              144\n",
              "female_calm                18\n",
              "female_disgust            118\n",
              "female_fear               141\n",
              "female_joy                131\n",
              "female_neutral            128\n",
              "female_sadness            135\n",
              "female_surprise           134"
            ]
          },
          "metadata": {
            "tags": []
          },
          "execution_count": 23
        }
      ]
    },
    {
      "cell_type": "code",
      "metadata": {
        "id": "QOUJILZuQEd2"
      },
      "source": [
        "actual_pred_df.to_csv(model_path + model_name + '_PREDICTIONS' + '.csv', index=False)"
      ],
      "execution_count": 24,
      "outputs": []
    },
    {
      "cell_type": "code",
      "metadata": {
        "id": "GtgQgNenNibM",
        "colab": {
          "base_uri": "https://localhost:8080/"
        },
        "outputId": "bb277b9c-20c2-441e-8c4b-61970013541f"
      },
      "source": [
        "from sklearn.metrics import confusion_matrix, accuracy_score, classification_report\n",
        "\n",
        "classes = actual_pred_df.actualvalues.unique()\n",
        "classes.sort()    \n",
        "print(classification_report(actual_pred_df.actualvalues, actual_pred_df.predictedvalues, target_names=classes))\n"
      ],
      "execution_count": 25,
      "outputs": [
        {
          "output_type": "stream",
          "text": [
            "                 precision    recall  f1-score   support\n",
            "\n",
            "   female_anger       0.89      0.91      0.90       141\n",
            "    female_calm       0.67      0.63      0.65        19\n",
            " female_disgust       0.89      0.95      0.92       111\n",
            "    female_fear       0.87      0.84      0.85       147\n",
            "     female_joy       0.87      0.84      0.85       136\n",
            " female_neutral       0.91      0.93      0.92       125\n",
            " female_sadness       0.85      0.89      0.87       129\n",
            "female_surprise       0.91      0.87      0.89       141\n",
            "\n",
            "       accuracy                           0.88       949\n",
            "      macro avg       0.86      0.86      0.86       949\n",
            "   weighted avg       0.88      0.88      0.88       949\n",
            "\n"
          ],
          "name": "stdout"
        }
      ]
    },
    {
      "cell_type": "code",
      "metadata": {
        "id": "4oxiuYySN2JK",
        "colab": {
          "base_uri": "https://localhost:8080/",
          "height": 539
        },
        "outputId": "3220567e-fcf0-4cb8-b908-fe4bee0a4243"
      },
      "source": [
        "def print_confusion_matrix(confusion_matrix, class_names, figsize = (10,7), fontsize=14):\n",
        "    df_cm = pd.DataFrame(\n",
        "        confusion_matrix, index=class_names, columns=class_names, \n",
        "    )\n",
        "    fig = plt.figure(figsize=figsize)\n",
        "    try:\n",
        "        heatmap = sns.heatmap(df_cm, annot=True, fmt=\"d\")\n",
        "    except ValueError:\n",
        "        raise ValueError(\"Confusion matrix values must be integers.\")\n",
        "        \n",
        "    heatmap.yaxis.set_ticklabels(heatmap.yaxis.get_ticklabels(), rotation=0, ha='right', fontsize=fontsize)\n",
        "    heatmap.xaxis.set_ticklabels(heatmap.xaxis.get_ticklabels(), rotation=45, ha='right', fontsize=fontsize)\n",
        "    plt.ylabel('True label')\n",
        "    plt.xlabel('Predicted label')\n",
        "\n",
        "def gender(row):\n",
        "    if row == 'female_disgust' or 'female_fear' or 'female_joy' or 'female_sadness' or 'female_surprise' or 'female_neutral' or 'female_anger' or 'female_calm':\n",
        "        return 'female'\n",
        "\n",
        "actual_pred_df = pd.read_csv(model_path + model_name + '_PREDICTIONS' + '.csv')\n",
        "classes = actual_pred_df.actualvalues.unique()\n",
        "classes.sort()    \n",
        "\n",
        "c = confusion_matrix(actual_pred_df.actualvalues, actual_pred_df.predictedvalues)\n",
        "print(accuracy_score(actual_pred_df.actualvalues, actual_pred_df.predictedvalues))\n",
        "print_confusion_matrix(c, class_names = classes)"
      ],
      "execution_count": 26,
      "outputs": [
        {
          "output_type": "stream",
          "text": [
            "0.8798735511064278\n"
          ],
          "name": "stdout"
        },
        {
          "output_type": "display_data",
          "data": {
            "image/png": "[encoded data removed]",
            "text/plain": [
              "<Figure size 720x504 with 2 Axes>"
            ]
          },
          "metadata": {
            "tags": [],
            "needs_background": "light"
          }
        }
      ]
    }
  ]
}