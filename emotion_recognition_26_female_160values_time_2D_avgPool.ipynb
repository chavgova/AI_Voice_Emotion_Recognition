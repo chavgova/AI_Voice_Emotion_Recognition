{
  "nbformat": 4,
  "nbformat_minor": 0,
  "metadata": {
    "colab": {
      "name": "emotion_recognition_26_female_160values-time-2D-avgPool.ipynb",
      "provenance": [],
      "collapsed_sections": [],
      "mount_file_id": "1tBVJg2OUiZYlKALbbw4X6YIjhvv-zi7_",
      "authorship_tag": "ABX9TyOMp5swntonunTSHsdPqOft",
      "include_colab_link": true
    },
    "kernelspec": {
      "display_name": "Python 3",
      "name": "python3"
    }
  },
  "cells": [
    {
      "cell_type": "markdown",
      "metadata": {
        "id": "view-in-github",
        "colab_type": "text"
      },
      "source": [
        "<a href=\"https://colab.research.google.com/github/chavgova/My-AI/blob/master/emotion_recognition_26_female_160values_time_2D_avgPool.ipynb\" target=\"_parent\"><img src=\"https://colab.research.google.com/assets/colab-badge.svg\" alt=\"Open In Colab\"/></a>"
      ]
    },
    {
      "cell_type": "markdown",
      "metadata": {
        "id": "eFA7SmfR-yKp"
      },
      "source": [
        "**Voice Emotion Recognition**\n",
        "\n",
        "\n",
        "\n"
      ]
    },
    {
      "cell_type": "code",
      "metadata": {
        "id": "8-N_FynR2O4E"
      },
      "source": [
        "import librosa\n",
        "import librosa.display\n",
        "import numpy as np\n",
        "import matplotlib.pyplot as plt\n",
        "import tensorflow as tf\n",
        "from keras.models import model_from_json\n",
        "from matplotlib.pyplot import specgram\n",
        "from matplotlib.axis import Axis\n",
        "import keras\n",
        "from keras.preprocessing import sequence\n",
        "from keras.models import Sequential\n",
        "from keras.layers import Dense, Embedding\n",
        "from keras.layers import LSTM\n",
        "from keras.preprocessing.text import Tokenizer\n",
        "from keras.preprocessing.sequence import pad_sequences\n",
        "from keras.utils import to_categorical\n",
        "from keras.layers import Input, Flatten, Dropout, Activation\n",
        "from keras.layers import Conv1D, Conv2D, MaxPooling1D, MaxPooling2D, AveragePooling1D, AveragePooling2D\n",
        "from keras.models import Model\n",
        "from keras.callbacks import ModelCheckpoint\n",
        "from sklearn.metrics import confusion_matrix\n",
        "from keras import regularizers\n",
        "import os\n",
        "import pandas as pd\n",
        "from google.colab import drive\n",
        "from sklearn.preprocessing import MinMaxScaler\n",
        "from sklearn.utils import shuffle\n",
        "from array import *\n",
        "import re\n",
        "from sklearn.preprocessing import MinMaxScaler\n",
        "from keras.utils import np_utils\n",
        "from sklearn.preprocessing import LabelEncoder\n",
        "import seaborn as sns\n",
        "import pickle"
      ],
      "execution_count": 1,
      "outputs": []
    },
    {
      "cell_type": "code",
      "metadata": {
        "id": "WYBSS6hKWZua"
      },
      "source": [
        "dataset_path = '/content/drive/My Drive/My_AI/RawData'  # https://drive.google.com/drive/folders/19vC20XHt-_yhsobePchy7K3PcBHD1oCu?usp=sharing\r\n",
        "model_path = '/content/drive/MyDrive/My_AI/EmoRec/'      #'/content/drive/My Drive/My_AI/MY MODELS/'\r\n",
        "\r\n",
        "model_name = 'EmotionRecognition_CNN_model_25_FEMALE_160values-time-2D-maxPool'\r\n",
        "gender = 'female'  # female/male"
      ],
      "execution_count": 2,
      "outputs": []
    },
    {
      "cell_type": "markdown",
      "metadata": {
        "id": "ERpg_GG5--ee"
      },
      "source": [
        "# LABLES & FEATURES"
      ]
    },
    {
      "cell_type": "code",
      "metadata": {
        "id": "ACpe5DYcCxWD",
        "colab": {
          "base_uri": "https://localhost:8080/"
        },
        "outputId": "3d2d4376-cb24-49d3-b32b-553a50009ce4"
      },
      "source": [
        "dataset_files_list = [] \n",
        "dataset_files_list = os.listdir(dataset_path)\n",
        "\n",
        "print(len(dataset_files_list))"
      ],
      "execution_count": null,
      "outputs": [
        {
          "output_type": "stream",
          "text": [
            "7198\n"
          ],
          "name": "stdout"
        }
      ]
    },
    {
      "cell_type": "code",
      "metadata": {
        "id": "L4vr7Ssh-jrl"
      },
      "source": [
        "emo_labels_list=[] \n",
        "dataset = ''\n",
        "count = 0\n",
        "for item in dataset_files_list:\n",
        "    file_label = item[6:-16]\n",
        "    try:\n",
        "      file_label = int(file_label)\n",
        "      dataset = 'RAVDESS'\n",
        "    except:\n",
        "      if (item[:1] == 'Y') or (item[:1] == 'O'):\n",
        "        file_label = re.split('_|\\.', item)[2]\n",
        "        dataset = 'TESS'\n",
        "      else: \n",
        "        try:\n",
        "          item = item[:-4]\n",
        "          int(item[-3:])  \n",
        "          dataset = 'SER_v4'\n",
        "        except:\n",
        "          dataset = 'SAVEE'\n",
        "\n",
        "    if dataset == 'RAVDESS':\n",
        "      if int(item[18:-4])%2==0:  #female\n",
        "          if file_label == 1:\n",
        "            emo_labels_list.append('female_neutral')\n",
        "          elif file_label == 2:\n",
        "            emo_labels_list.append('female_calm')\n",
        "          elif file_label == 3:\n",
        "            emo_labels_list.append('female_joy')\n",
        "          elif file_label == 4:\n",
        "            emo_labels_list.append('female_sadness')\n",
        "          elif file_label == 5:\n",
        "            emo_labels_list.append('female_anger')\n",
        "          elif file_label == 6:\n",
        "            emo_labels_list.append('female_fear')\n",
        "          elif file_label == 7:\n",
        "            emo_labels_list.append('female_disgust')\n",
        "          elif file_label == 8:\n",
        "            emo_labels_list.append('female_surprise')\n",
        "      else:\n",
        "          if file_label== 1:\n",
        "            emo_labels_list.append('male_neutral')\n",
        "          elif file_label == 2:\n",
        "            emo_labels_list.append('male_calm')\n",
        "          elif file_label == 3:\n",
        "            emo_labels_list.append('male_joy')\n",
        "          elif file_label == 4:\n",
        "            emo_labels_list.append('male_sadness')\n",
        "          elif file_label == 5:\n",
        "            emo_labels_list.append('male_anger')\n",
        "          elif file_label == 6:\n",
        "            emo_labels_list.append('male_fear')\n",
        "          elif file_label == 7:\n",
        "            emo_labels_list.append('male_disgust')\n",
        "          elif file_label == 8:\n",
        "            emo_labels_list.append('male_surprise')\n",
        "\n",
        "    elif dataset == 'TESS':\n",
        "      if file_label == 'neutral': emo_labels_list.append('female_neutral')\n",
        "      elif file_label == 'angry': emo_labels_list.append('female_anger')\n",
        "      elif file_label == 'disgust': emo_labels_list.append('female_disgust')\n",
        "      elif file_label == 'ps': emo_labels_list.append('female_surprise')\n",
        "      elif file_label == 'happy': emo_labels_list.append('female_joy')\n",
        "      elif file_label == 'sad': emo_labels_list.append('female_sadness')\n",
        "      elif file_label == 'fear': emo_labels_list.append('female_fear')\n",
        "\n",
        "    elif dataset == 'SER_v4':\n",
        "      if int(item[-3:])%2 == 1: \n",
        "        file_label = item[:-3]\n",
        "        if file_label == 'neutral': emo_labels_list.append('male_neutral')\n",
        "        elif file_label == 'anger': emo_labels_list.append('male_anger')\n",
        "        elif file_label == 'disgust': emo_labels_list.append('male_disgust')\n",
        "        elif file_label == 'surprise': emo_labels_list.append('male_surprise')\n",
        "        elif file_label == 'happy': emo_labels_list.append('male_joy')\n",
        "        elif file_label == 'sad': emo_labels_list.append('male_sadness')\n",
        "        elif file_label == 'fear': emo_labels_list.append('male_fear')\n",
        "      else:\n",
        "        file_label = item[:-3]\n",
        "        if file_label == 'neutral': emo_labels_list.append('female_neutral')\n",
        "        elif file_label == 'anger': emo_labels_list.append('female_anger')\n",
        "        elif file_label == 'disgust': emo_labels_list.append('female_disgust')\n",
        "        elif file_label == 'surprise': emo_labels_list.append('female_surprise')\n",
        "        elif file_label == 'happy': emo_labels_list.append('female_joy')\n",
        "        elif file_label == 'sad': emo_labels_list.append('female_sadness')\n",
        "        elif file_label == 'fear': emo_labels_list.append('female_fear')\n",
        "      \n",
        "    elif dataset == 'SAVEE':\n",
        "      if item[:1]=='a':\n",
        "        emo_labels_list.append('male_anger')\n",
        "      elif item[:1]=='f':\n",
        "        emo_labels_list.append('male_fear')\n",
        "      elif item[:1]=='h':\n",
        "        emo_labels_list.append('male_joy')\n",
        "      elif item[:1]=='n':\n",
        "        emo_labels_list.append('male_neutral')\n",
        "      elif item[:2]=='sa':\n",
        "        emo_labels_list.append('male_sadness')\n",
        "      elif item[:2]=='su':\n",
        "        emo_labels_list.append('male_surprise')\n",
        "      elif item[:1]=='d':\n",
        "        emo_labels_list.append('male_disgust')\n"
      ],
      "execution_count": null,
      "outputs": []
    },
    {
      "cell_type": "code",
      "metadata": {
        "colab": {
          "base_uri": "https://localhost:8080/"
        },
        "id": "tZ6gQ3v1KlnN",
        "outputId": "d8feb25c-53e7-47bc-c998-74fc3ed4ed5b"
      },
      "source": [
        "emo_labels_array = np.array(emo_labels_list)\r\n",
        "print(emo_labels_array.shape, emo_labels_array)"
      ],
      "execution_count": null,
      "outputs": [
        {
          "output_type": "stream",
          "text": [
            "(7198,) ['male_sadness' 'male_sadness' 'male_sadness' ... 'female_calm'\n",
            " 'female_sadness' 'female_joy']\n"
          ],
          "name": "stdout"
        }
      ]
    },
    {
      "cell_type": "markdown",
      "metadata": {
        "id": "pRYX3XLu_Fd8"
      },
      "source": [
        "Getting the features of audio files using librosa"
      ]
    },
    {
      "cell_type": "code",
      "metadata": {
        "id": "Ntnk_M9jZlub",
        "colab": {
          "base_uri": "https://localhost:8080/"
        },
        "outputId": "20fe6485-f642-4972-d753-b1ecdf4bc85e"
      },
      "source": [
        "def transform_feature(arr, num=20):   # to 20 values per feature\n",
        "  l = len(arr)\n",
        "  r = l%num\n",
        "  if r==0:\n",
        "    arr = np.mean(np.reshape(arr, (num,-1)), axis=1)\n",
        "  elif r%2==0:\n",
        "    arr = arr[int(r/2):-int(r/2)]\n",
        "    arr = np.mean(np.reshape(arr, (num,-1)), axis=1)\n",
        "  else:\n",
        "    arr = arr[int(r/2+1):(len(arr)-int(r/2))]\n",
        "    arr = np.mean(np.reshape(arr, (num,-1)), axis=1)\n",
        "  return arr\n",
        "\n",
        "def extract_feature(current_file, **kwargs):\n",
        "    mfcc = kwargs.get(\"mfcc\")\n",
        "    chroma = kwargs.get(\"chroma\")\n",
        "    mel = kwargs.get(\"mel\")\n",
        "    contrast = kwargs.get(\"contrast\")\n",
        "    tonnetz = kwargs.get(\"tonnetz\")\n",
        "    rolloff = kwargs.get(\"rolloff\")\n",
        "    centroids = kwargs.get(\"centroids\")\n",
        "    rms = kwargs.get(\"rms\")\n",
        "\n",
        "    X, sample_rate = librosa.core.load(current_file)\n",
        "\n",
        "    if chroma or contrast:\n",
        "        stft = np.abs(librosa.stft(X))\n",
        "    result = np.zeros([8,20])\n",
        "    if mfcc:\n",
        "        mfccs = np.mean(librosa.feature.mfcc(y=X, sr=sample_rate, n_mfcc= 20 ), axis=0)\n",
        "        mfccs = transform_feature(mfccs) # (n=20,t) -> 20 values (avg)\n",
        "        result[0] = mfccs\n",
        "    if rms:    \n",
        "        rms = np.mean(librosa.feature.rms(X),axis=0)\n",
        "        rms = transform_feature(rms)      # (1,t) - > 20 values (avg)\n",
        "        result[1] = rms       \n",
        "    if mel:\n",
        "        mel = np.mean(librosa.feature.melspectrogram(X, sr=sample_rate, n_fft = 2048), axis=0) # (128,t) \n",
        "        mel = transform_feature(mel)  # t -> 20 values (avg)\n",
        "        result[2] = mel \n",
        "    if tonnetz:\n",
        "        tonnetz = np.mean(librosa.feature.tonnetz(y=librosa.effects.harmonic(X), sr=sample_rate), axis=0) # (6,t) -> 6 values   \n",
        "        tonnetz = transform_feature(tonnetz)  \n",
        "        result[3] = tonnetz\n",
        "    if chroma:\n",
        "        chroma = np.mean(librosa.feature.chroma_stft(S=stft, n_chroma = 10, sr=sample_rate, n_fft = 2048), axis=0)  # (n=14,t) -> 14 values   \n",
        "        chroma = transform_feature(chroma)     \n",
        "        result[4] = chroma             \n",
        "    if contrast:\n",
        "        contrast = np.mean(librosa.feature.spectral_contrast(S=stft, sr=sample_rate, n_fft=2048), axis=0) # (7,t) -> 7 values\n",
        "        contrast = transform_feature(contrast)\n",
        "        result[5] = contrast\n",
        "    if rolloff:    \n",
        "        rolloff = np.mean(librosa.feature.spectral_rolloff(X + 0.01, sr=sample_rate, n_fft=2048), axis=0)\n",
        "        rolloff = transform_feature(rolloff)    # (1,t) - > 20 values (avg)\n",
        "        result[6] = rolloff\n",
        "    if centroids:    \n",
        "        centroids = np.mean(librosa.feature.spectral_centroid(X, sr=sample_rate, n_fft=2048), axis=0)\n",
        "        centroids = transform_feature(centroids)  # (1,t) - > 20 values (avg)\n",
        "        result[7] = centroids \n",
        "    \n",
        "    return result\n",
        "\n",
        "f = os.fspath(dataset_path + '/1078_MTI_ANG_XX.wav')\n",
        "a = extract_feature(f, mel=True, mfcc=True, contrast=True, chroma=True, tonnetz=True, rolloff=True, centroids=True, rms=True)\n",
        "print(a, a.shape)\n",
        "\n",
        "feature_num_values = a.shape[0]  # number of values per file"
      ],
      "execution_count": 3,
      "outputs": [
        {
          "output_type": "stream",
          "text": [
            "[[-1.40765276e+01 -1.17176304e+01 -1.11633663e+01 -1.10790663e+01\n",
            "  -1.07774687e+01 -1.05370426e+01 -1.03541460e+01 -9.13975620e+00\n",
            "  -9.50955486e+00 -1.00974951e+01 -1.07620468e+01 -1.02513018e+01\n",
            "  -1.00416851e+01 -9.85334873e+00 -1.10257387e+01 -1.21459579e+01\n",
            "  -1.22862349e+01 -1.17299776e+01 -1.31954193e+01 -1.30548735e+01]\n",
            " [ 5.34453709e-03  4.69109006e-02  4.77194898e-02  2.04378311e-02\n",
            "   2.07569897e-02  6.38693422e-02  1.15599774e-01  1.28232926e-01\n",
            "   1.19728044e-01  4.23759073e-02  6.89805821e-02  3.91004011e-02\n",
            "   2.99107432e-02  2.31280867e-02  1.03316210e-01  1.08218350e-01\n",
            "   4.17245924e-02  9.10387840e-03  5.57138817e-03  4.28530062e-03]\n",
            " [ 4.66448301e-03  5.39627373e-01  5.17243147e-01  9.77239087e-02\n",
            "   9.27279145e-02  1.06992722e+00  3.25262403e+00  3.27466846e+00\n",
            "   4.60871553e+00  4.21025276e-01  1.31157303e+00  2.56834269e-01\n",
            "   2.00264901e-01  1.06908917e-01  3.04708433e+00  2.77486229e+00\n",
            "   4.00192797e-01  1.83953121e-02  6.66718464e-03  4.41992190e-03]\n",
            " [-3.15699636e-02 -9.85686683e-03  3.54446220e-03 -4.34637228e-02\n",
            "  -4.02359642e-02 -3.69496113e-02 -5.66609413e-02 -3.00683727e-02\n",
            "  -7.70242461e-02  1.55130923e-02 -2.47390370e-02 -1.55633469e-02\n",
            "  -1.04171704e-02 -5.98859875e-03  3.61405018e-02  3.23736796e-02\n",
            "  -1.19216045e-02  8.12798255e-03 -2.50970024e-02 -2.15479131e-02]\n",
            " [ 8.19034934e-01  5.13230979e-01  6.94233894e-01  6.37181759e-01\n",
            "   6.31591022e-01  4.97156531e-01  5.70850790e-01  4.82882828e-01\n",
            "   3.46225888e-01  5.48369765e-01  2.88708776e-01  5.14678955e-01\n",
            "   4.24115986e-01  6.74993813e-01  5.88520646e-01  5.36132753e-01\n",
            "   4.74234968e-01  6.78241432e-01  7.40570128e-01  7.34518647e-01]\n",
            " [ 2.02178430e+01  2.38502026e+01  2.71384753e+01  2.45004968e+01\n",
            "   2.39633258e+01  2.69604791e+01  2.60101169e+01  2.49972851e+01\n",
            "   2.66300414e+01  2.41998005e+01  2.44717388e+01  2.45573689e+01\n",
            "   2.68064643e+01  2.33109748e+01  2.57265107e+01  2.55195969e+01\n",
            "   2.31324958e+01  2.15594937e+01  2.18355371e+01  2.04278476e+01]\n",
            " [ 1.99182129e+03  2.59259766e+03  3.35056641e+03  4.19897461e+03\n",
            "   4.22481445e+03  1.15202637e+03  1.19509277e+03  1.50732422e+03\n",
            "   1.38889160e+03  2.47847168e+03  6.58916016e+02  2.59259766e+03\n",
            "   3.06632812e+03  3.12016113e+03  1.89707520e+03  9.00087891e+02\n",
            "   6.84755859e+02  2.63351074e+03  3.99010254e+03  2.09518066e+03]\n",
            " [ 1.30898568e+03  1.46654969e+03  1.78312140e+03  2.14571843e+03\n",
            "   2.26612876e+03  9.62398385e+02  1.01429267e+03  9.75582019e+02\n",
            "   8.99051663e+02  1.26891873e+03  6.85233911e+02  1.37958731e+03\n",
            "   1.54847607e+03  1.59184352e+03  1.23087358e+03  8.79027807e+02\n",
            "   6.81188204e+02  1.52805667e+03  1.99038444e+03  1.33738373e+03]] (8, 20)\n"
          ],
          "name": "stdout"
        },
        {
          "output_type": "stream",
          "text": [
            "/usr/local/lib/python3.7/dist-packages/librosa/core/spectrum.py:224: UserWarning: n_fft=1024 is too small for input signal of length=909\n",
            "  n_fft, y.shape[-1]\n"
          ],
          "name": "stderr"
        }
      ]
    },
    {
      "cell_type": "markdown",
      "metadata": {
        "id": "oy_eAVKYnTlW"
      },
      "source": [
        "EXTRACT FEATURES FROM THE FILES IN THE DATASETS"
      ]
    },
    {
      "cell_type": "code",
      "metadata": {
        "id": "8P_P1UCrtEHU"
      },
      "source": [
        "data_frame_features = pd.DataFrame(columns=['all_features'])\n",
        "\n",
        "for index,y in enumerate(dataset_files_list):\n",
        "      all_features_ndarray = extract_feature(dataset_path + '/'+ y, mel=True, mfcc=True, contrast=True, chroma=True, tonnetz=True, rolloff=True, centroids=True, rms=True)\n",
        "      data_frame_features.loc[index] = [all_features_ndarray]\n",
        "      if index%1000==0: print(index)\n",
        "\n",
        "print(pd.DataFrame(data_frame_features['all_features']).shape)\n",
        "        "
      ],
      "execution_count": null,
      "outputs": []
    },
    {
      "cell_type": "code",
      "metadata": {
        "id": "hR-qAHPe_W6J",
        "colab": {
          "base_uri": "https://localhost:8080/",
          "height": 402
        },
        "outputId": "74ec9686-157c-47bb-fb02-6a21f009c4c9"
      },
      "source": [
        "data_frame_features = pd.DataFrame(data_frame_features['all_features'])\n",
        "data_frame_labels = pd.concat([data_frame_features,labels], axis=1)\n",
        "data_frame_labels = data_frame_labels.rename(index=str, columns={\"0\": \"label\"})\n",
        "data_frame_labels  "
      ],
      "execution_count": null,
      "outputs": [
        {
          "output_type": "execute_result",
          "data": {
            "text/html": [
              "<div>\n",
              "<style scoped>\n",
              "    .dataframe tbody tr th:only-of-type {\n",
              "        vertical-align: middle;\n",
              "    }\n",
              "\n",
              "    .dataframe tbody tr th {\n",
              "        vertical-align: top;\n",
              "    }\n",
              "\n",
              "    .dataframe thead th {\n",
              "        text-align: right;\n",
              "    }\n",
              "</style>\n",
              "<table border=\"1\" class=\"dataframe\">\n",
              "  <thead>\n",
              "    <tr style=\"text-align: right;\">\n",
              "      <th></th>\n",
              "      <th>all_features</th>\n",
              "      <th>0</th>\n",
              "    </tr>\n",
              "  </thead>\n",
              "  <tbody>\n",
              "    <tr>\n",
              "      <th>0</th>\n",
              "      <td>[[-38.91777038574219, -36.885902404785156, -36...</td>\n",
              "      <td>male_sadness</td>\n",
              "    </tr>\n",
              "    <tr>\n",
              "      <th>1</th>\n",
              "      <td>[[-36.91215896606445, -36.90217590332031, -33....</td>\n",
              "      <td>male_sadness</td>\n",
              "    </tr>\n",
              "    <tr>\n",
              "      <th>2</th>\n",
              "      <td>[[-42.30324935913086, -42.30324935913086, -42....</td>\n",
              "      <td>male_sadness</td>\n",
              "    </tr>\n",
              "    <tr>\n",
              "      <th>3</th>\n",
              "      <td>[[-35.22417449951172, -34.31071472167969, -34....</td>\n",
              "      <td>female_sadness</td>\n",
              "    </tr>\n",
              "    <tr>\n",
              "      <th>4</th>\n",
              "      <td>[[-39.61149978637695, -39.59251022338867, -39....</td>\n",
              "      <td>male_sadness</td>\n",
              "    </tr>\n",
              "    <tr>\n",
              "      <th>...</th>\n",
              "      <td>...</td>\n",
              "      <td>...</td>\n",
              "    </tr>\n",
              "    <tr>\n",
              "      <th>7193</th>\n",
              "      <td>[[-37.4224967956543, -36.9178581237793, -36.90...</td>\n",
              "      <td>male_fear</td>\n",
              "    </tr>\n",
              "    <tr>\n",
              "      <th>7194</th>\n",
              "      <td>[[-36.548248291015625, -36.69108963012695, -35...</td>\n",
              "      <td>male_anger</td>\n",
              "    </tr>\n",
              "    <tr>\n",
              "      <th>7195</th>\n",
              "      <td>[[-46.47096633911133, -46.47096633911133, -46....</td>\n",
              "      <td>female_calm</td>\n",
              "    </tr>\n",
              "    <tr>\n",
              "      <th>7196</th>\n",
              "      <td>[[-43.943607330322266, -43.93301773071289, -43...</td>\n",
              "      <td>female_sadness</td>\n",
              "    </tr>\n",
              "    <tr>\n",
              "      <th>7197</th>\n",
              "      <td>[[-37.49090576171875, -32.932254791259766, -33...</td>\n",
              "      <td>female_joy</td>\n",
              "    </tr>\n",
              "  </tbody>\n",
              "</table>\n",
              "<p>7198 rows × 2 columns</p>\n",
              "</div>"
            ],
            "text/plain": [
              "                                           all_features               0\n",
              "0     [[-38.91777038574219, -36.885902404785156, -36...    male_sadness\n",
              "1     [[-36.91215896606445, -36.90217590332031, -33....    male_sadness\n",
              "2     [[-42.30324935913086, -42.30324935913086, -42....    male_sadness\n",
              "3     [[-35.22417449951172, -34.31071472167969, -34....  female_sadness\n",
              "4     [[-39.61149978637695, -39.59251022338867, -39....    male_sadness\n",
              "...                                                 ...             ...\n",
              "7193  [[-37.4224967956543, -36.9178581237793, -36.90...       male_fear\n",
              "7194  [[-36.548248291015625, -36.69108963012695, -35...      male_anger\n",
              "7195  [[-46.47096633911133, -46.47096633911133, -46....     female_calm\n",
              "7196  [[-43.943607330322266, -43.93301773071289, -43...  female_sadness\n",
              "7197  [[-37.49090576171875, -32.932254791259766, -33...      female_joy\n",
              "\n",
              "[7198 rows x 2 columns]"
            ]
          },
          "metadata": {
            "tags": []
          },
          "execution_count": 12
        }
      ]
    },
    {
      "cell_type": "code",
      "metadata": {
        "colab": {
          "base_uri": "https://localhost:8080/"
        },
        "id": "OkaldNv9IB-x",
        "outputId": "73a694b9-70d6-4bf0-b76f-bde57b779481"
      },
      "source": [
        "features_array_2d = data_frame_features['all_features'].to_numpy()\r\n",
        "features_array_2d = np.vstack(features_array_2d).reshape((7198,8,20))\r\n",
        "print(features_array_2d[0], features_array_2d[0].shape)"
      ],
      "execution_count": null,
      "outputs": [
        {
          "output_type": "stream",
          "text": [
            "[[-3.89177704e+01 -3.68859024e+01 -3.63584328e+01 -3.74193916e+01\n",
            "  -2.83406963e+01 -2.87459278e+01 -2.79423904e+01 -2.69776630e+01\n",
            "  -2.70889626e+01 -3.13372803e+01 -2.92532997e+01 -2.85650234e+01\n",
            "  -2.75980797e+01 -2.87370262e+01 -2.97208729e+01 -3.06429844e+01\n",
            "  -3.39568291e+01 -3.83484116e+01 -3.77469292e+01 -3.36466141e+01]\n",
            " [ 1.04389555e-05  1.56468668e-05  1.76005342e-05  5.68504656e-05\n",
            "   2.00775755e-03  4.07104380e-03  7.69216893e-03  8.03639088e-03\n",
            "   6.36524707e-03  5.57981245e-03  8.34166259e-03  7.53696356e-03\n",
            "   4.40457975e-03  6.90991990e-03  7.42966123e-03  3.59069230e-03\n",
            "   3.53443786e-04  3.02281442e-05  1.53825258e-05  8.11256177e-05]\n",
            " [ 1.96594723e-08  4.94978920e-08  5.39034026e-08  9.93848346e-08\n",
            "   1.35009049e-03  4.58268635e-03  1.82337146e-02  2.19561327e-02\n",
            "   1.27984593e-02  7.16360984e-03  1.66460052e-02  1.39170922e-02\n",
            "   6.13671774e-03  1.22508239e-02  1.31954197e-02  3.65859433e-03\n",
            "   3.86528118e-05  2.42626243e-07  4.55703848e-08  1.36563756e-06]\n",
            " [-3.27509131e-02 -2.40284847e-02  3.78941580e-03  1.92347781e-03\n",
            "  -1.38999492e-02 -2.45195298e-02  6.49858055e-03  3.36204123e-02\n",
            "   1.12182730e-02  3.08461828e-02  2.53948043e-03  4.87329743e-02\n",
            "   5.83788638e-02  2.26876640e-02  3.92664095e-02  6.14051342e-03\n",
            "   2.35180905e-02 -5.77647916e-03 -2.52619801e-02 -2.51707407e-02]\n",
            " [ 8.80446374e-01  8.71131480e-01  8.53958428e-01  8.30641806e-01\n",
            "   5.51811159e-01  4.93523806e-01  4.54297423e-01  4.56146091e-01\n",
            "   5.40574074e-01  4.13397968e-01  4.14303213e-01  4.97656971e-01\n",
            "   4.68585342e-01  3.88059556e-01  3.54395539e-01  3.95027936e-01\n",
            "   4.65087742e-01  8.44090462e-01  8.71297598e-01  8.78263950e-01]\n",
            " [ 1.48291347e+01  1.46577857e+01  1.49051106e+01  1.56126335e+01\n",
            "   2.01772714e+01  2.18924408e+01  2.54209177e+01  2.42110704e+01\n",
            "   2.16055553e+01  2.69780736e+01  2.61478803e+01  2.73683345e+01\n",
            "   2.49773556e+01  2.71252564e+01  2.77995266e+01  2.59972760e+01\n",
            "   1.80855780e+01  1.54960447e+01  1.47755064e+01  1.62933174e+01]\n",
            " [ 1.07666016e+01  1.07666016e+01  1.07666016e+01  1.07666016e+01\n",
            "   3.21801758e+03  3.71567383e+03  2.27175293e+03  2.76940918e+03\n",
            "   2.26577148e+03  2.37583008e+03  1.10776367e+03  1.67958984e+03\n",
            "   1.13647461e+03  9.68994141e+02  6.91455078e+02  6.34033203e+02\n",
            "   1.07666016e+01  1.07666016e+01  1.07666016e+01  1.07666016e+01]\n",
            " [ 4.20668494e+03  3.83192504e+03  3.99138927e+03  4.07158101e+03\n",
            "   3.12266222e+03  2.80236234e+03  1.74791575e+03  2.24135304e+03\n",
            "   1.80429781e+03  1.70486273e+03  1.07805112e+03  1.46553274e+03\n",
            "   1.32837565e+03  9.30408398e+02  7.28643955e+02  9.39274323e+02\n",
            "   1.83389618e+03  3.52246928e+03  3.91677648e+03  3.15914972e+03]] (8, 20)\n"
          ],
          "name": "stdout"
        }
      ]
    },
    {
      "cell_type": "markdown",
      "metadata": {
        "id": "dhJQHkJqcC3Q"
      },
      "source": [
        "# SAVE DATASET FEATURES AND LABELS "
      ]
    },
    {
      "cell_type": "code",
      "metadata": {
        "id": "LZeGuW5hYJb7"
      },
      "source": [
        "with open((model_path + model_name + '_features_array_2D.pkl'), 'wb') as f:\n",
        "  pickle.dump(features_array_2d, f)\n",
        "with open((model_path + model_name + '_labels_array.pkl'), 'wb') as f:\n",
        "  pickle.dump(emo_labels_array, f)"
      ],
      "execution_count": null,
      "outputs": []
    },
    {
      "cell_type": "markdown",
      "metadata": {
        "id": "-wpyrupTca8V"
      },
      "source": [
        "# LOAD DATASET FEATURES AND LABELS "
      ]
    },
    {
      "cell_type": "code",
      "metadata": {
        "id": "1ZEReIvDcRfS",
        "colab": {
          "base_uri": "https://localhost:8080/"
        },
        "outputId": "bfec3ed0-56e4-48ac-bd9d-469aae7d8ec6"
      },
      "source": [
        "with open((model_path + model_name + '_features_array_2D.pkl'), 'rb') as f:\n",
        "  features_array_2d = pickle.load(f)\n",
        "with open((model_path + model_name + '_labels_array.pkl'), 'rb') as f:\n",
        "  emo_labels_array = pickle.load(f)\n",
        "\n",
        "print(features_array_2d.shape)\n",
        "print(emo_labels_array.shape)"
      ],
      "execution_count": null,
      "outputs": [
        {
          "output_type": "stream",
          "text": [
            "(7198, 8, 20)\n",
            "(7198,)\n"
          ],
          "name": "stdout"
        }
      ]
    },
    {
      "cell_type": "code",
      "metadata": {
        "colab": {
          "base_uri": "https://localhost:8080/"
        },
        "id": "JM3hka_mM9SG",
        "outputId": "21ab7704-a310-4407-9206-358c1430e297"
      },
      "source": [
        "np.reshape(features_array_2d, (8,), order= 'C' or 'F' or 'A')"
      ],
      "execution_count": null,
      "outputs": [
        {
          "output_type": "execute_result",
          "data": {
            "text/plain": [
              "-39.563934326171875"
            ]
          },
          "metadata": {
            "tags": []
          },
          "execution_count": 43
        }
      ]
    },
    {
      "cell_type": "code",
      "metadata": {
        "colab": {
          "base_uri": "https://localhost:8080/"
        },
        "id": "o95p4uvYM46C",
        "outputId": "9baf1cd6-da9c-472b-ce28-72ab761bf77e"
      },
      "source": [
        "features_array_2d.T.shape"
      ],
      "execution_count": null,
      "outputs": [
        {
          "output_type": "execute_result",
          "data": {
            "text/plain": [
              "(20, 8, 7198)"
            ]
          },
          "metadata": {
            "tags": []
          },
          "execution_count": 40
        }
      ]
    },
    {
      "cell_type": "code",
      "metadata": {
        "colab": {
          "base_uri": "https://localhost:8080/"
        },
        "id": "jrFyZhtFTVaO",
        "outputId": "f4cbfc62-0162-46aa-b8c7-f16ca9b45d20"
      },
      "source": [
        "from sklearn.base import TransformerMixin\r\n",
        "from sklearn.preprocessing import StandardScaler\r\n",
        "\r\n",
        "\r\n",
        "class NDStandardScaler(TransformerMixin):\r\n",
        "    def __init__(self, **kwargs):\r\n",
        "        self._scaler = StandardScaler(copy=True, **kwargs)\r\n",
        "        self._orig_shape = None\r\n",
        "\r\n",
        "    def fit(self, X, **kwargs):\r\n",
        "        X = np.array(X)\r\n",
        "        # Save the original shape to reshape the flattened X later\r\n",
        "        # back to its original shape\r\n",
        "        if len(X.shape) > 1:\r\n",
        "            self._orig_shape = X.shape[1:]\r\n",
        "        X = self._flatten(X)\r\n",
        "        self._scaler.fit(X, **kwargs)\r\n",
        "        return self\r\n",
        "\r\n",
        "    def transform(self, X, **kwargs):\r\n",
        "        X = np.array(X)\r\n",
        "        X = self._flatten(X)\r\n",
        "        X = self._scaler.transform(X, **kwargs)\r\n",
        "        X = self._reshape(X)\r\n",
        "        return X\r\n",
        "\r\n",
        "    def _flatten(self, X):\r\n",
        "        # Reshape X to <= 2 dimensions\r\n",
        "        if len(X.shape) > 2:\r\n",
        "            n_dims = np.prod(self._orig_shape)\r\n",
        "            X = X.reshape(-1, n_dims)\r\n",
        "        return X\r\n",
        "\r\n",
        "    def _reshape(self, X):\r\n",
        "        # Reshape X back to it's original shape\r\n",
        "        if len(X.shape) >= 2:\r\n",
        "            X = X.reshape(-1, *self._orig_shape)\r\n",
        "        return X\r\n",
        "\r\n",
        "scaler = NDStandardScaler()\r\n",
        "print(scaler.fit_transform(features_array_2d).shape)\r\n",
        "pickle.dump(scaler, open(model_path + model_name + '_SCALER.sav', 'wb'))"
      ],
      "execution_count": null,
      "outputs": [
        {
          "output_type": "stream",
          "text": [
            "(7198, 8, 20)\n"
          ],
          "name": "stdout"
        }
      ]
    },
    {
      "cell_type": "markdown",
      "metadata": {
        "id": "LCpt-JtNbDeV"
      },
      "source": [
        "# **PREPROCESSING - SCALING**\r\n",
        "\r\n",
        "\r\n"
      ]
    },
    {
      "cell_type": "code",
      "metadata": {
        "id": "jv1xkI41W54u"
      },
      "source": [
        "'''scaler = MinMaxScaler()\r\n",
        "features_array_scaled = scaler.fit_transform(features_array_2d)\r\n",
        "\r\n",
        "pickle.dump(scaler, open(model_path + model_name + '_SCALER.sav', 'wb'))\r\n",
        "\r\n",
        "features_array_scaled'''"
      ],
      "execution_count": null,
      "outputs": []
    },
    {
      "cell_type": "code",
      "metadata": {
        "id": "gViBcEvPcn4t",
        "colab": {
          "base_uri": "https://localhost:8080/"
        },
        "outputId": "8ab6a26b-b04f-4a28-c0ee-af0761deef45"
      },
      "source": [
        "scaler = pickle.load(open(model_path + model_name + '_SCALER.sav', 'rb'))\r\n",
        "features_array_scaled = scaler.transform(features_array_2d)\r\n",
        "features_array_scaled.shape"
      ],
      "execution_count": null,
      "outputs": [
        {
          "output_type": "execute_result",
          "data": {
            "text/plain": [
              "(7198, 8, 20)"
            ]
          },
          "metadata": {
            "tags": []
          },
          "execution_count": 48
        }
      ]
    },
    {
      "cell_type": "markdown",
      "metadata": {
        "id": "TkOFpVilk8FJ"
      },
      "source": [
        "# **SAVE SCALED ARRAY AND LABELS**\r\n",
        "\r\n",
        "\r\n",
        "\r\n",
        "\r\n"
      ]
    },
    {
      "cell_type": "code",
      "metadata": {
        "id": "u5u9RU1Tknon"
      },
      "source": [
        "with open((model_path + model_name + '_SCALED_featuresArray.pkl'), 'wb') as f:\n",
        "  pickle.dump(features_array_scaled, f)\n",
        "\n",
        "with open((model_path + model_name + '_labelsArray.pkl'), 'wb') as f:\n",
        "  pickle.dump(labels_array, f)"
      ],
      "execution_count": null,
      "outputs": []
    },
    {
      "cell_type": "markdown",
      "metadata": {
        "id": "7giDAG7Lk0Of"
      },
      "source": [
        "# LOAD LABELS AND SCALED FEATURES"
      ]
    },
    {
      "cell_type": "code",
      "metadata": {
        "id": "MAoy2IdVkzjK"
      },
      "source": [
        "with open((model_path + 'EmotionRecognition_CNN_model_21_FEMALE_160values-time-2D' + '_SCALED_featuresArray.pkl'), 'rb') as f:\n",
        "  features_array_scaled = pickle.load(f)\n",
        "\n",
        "with open((model_path + 'EmotionRecognition_CNN_model_21_FEMALE_160values-time-2D' + '_labelsArray.pkl'), 'rb') as f:\n",
        "  labels_array = pickle.load(f)"
      ],
      "execution_count": 4,
      "outputs": []
    },
    {
      "cell_type": "code",
      "metadata": {
        "id": "dgkcxx774qAI",
        "colab": {
          "base_uri": "https://localhost:8080/"
        },
        "outputId": "d64231ad-b8cf-4bd2-93c8-b9a61fe419b9"
      },
      "source": [
        "def takeMaleData(labels_array, features_array_scaled):\r\n",
        "  labels_filtered_array = []\r\n",
        "  features_filtered_array =  []\r\n",
        "\r\n",
        "  for index, i in enumerate(labels_array):\r\n",
        "    if 'female' not in i[0]:  \r\n",
        "      labels_filtered_array.append(labels_array[index])\r\n",
        "      features_filtered_array.append(features_array_scaled[index])\r\n",
        "  return np.array(labels_filtered_array), np.array(features_filtered_array)\r\n",
        "\r\n",
        "def takeFemaleData(labels_array, features_array_scaled):\r\n",
        "  labels_filtered_array = []\r\n",
        "  features_filtered_array =  []\r\n",
        "\r\n",
        "  for index, i in enumerate(labels_array):\r\n",
        "    if 'female' in i[0]:  \r\n",
        "      labels_filtered_array.append(labels_array[index])\r\n",
        "      features_filtered_array.append(features_array_scaled[index])\r\n",
        "  return np.array(labels_filtered_array), np.array(features_filtered_array)\r\n",
        "\r\n",
        "if gender.lower() == 'female':\r\n",
        "  labels_filtered_array, features_filtered_array = takeFemaleData(labels_array, features_array_scaled)  \r\n",
        "elif gender.lower() == 'male':\r\n",
        "  labels_filtered_array, features_filtered_array = takeMaleData(labels_array, features_array_scaled) \r\n",
        "  \r\n",
        "print(labels_filtered_array)\r\n",
        "print(features_filtered_array.shape)"
      ],
      "execution_count": 5,
      "outputs": [
        {
          "output_type": "stream",
          "text": [
            "[['female_sadness']\n",
            " ['female_sadness']\n",
            " ['female_sadness']\n",
            " ...\n",
            " ['female_calm']\n",
            " ['female_sadness']\n",
            " ['female_joy']]\n",
            "(4745, 8, 20)\n"
          ],
          "name": "stdout"
        }
      ]
    },
    {
      "cell_type": "markdown",
      "metadata": {
        "id": "0FVJkPVJKoF3"
      },
      "source": [
        "SAVE LABEL ENCODER CLASSES"
      ]
    },
    {
      "cell_type": "code",
      "metadata": {
        "id": "nbCYKuzu3Amq",
        "colab": {
          "base_uri": "https://localhost:8080/"
        },
        "outputId": "729d0078-9503-45c3-ead1-edc90b839689"
      },
      "source": [
        "lb = LabelEncoder()\r\n",
        "lb.fit(labels_filtered_array)\r\n",
        "print(lb.classes_)\r\n",
        "with open((model_path + gender + '_classes_emotions.pkl'), 'wb') as f:\r\n",
        "  pickle.dump(lb.classes_, f)  "
      ],
      "execution_count": 6,
      "outputs": [
        {
          "output_type": "stream",
          "text": [
            "/usr/local/lib/python3.7/dist-packages/sklearn/preprocessing/_label.py:235: DataConversionWarning: A column-vector y was passed when a 1d array was expected. Please change the shape of y to (n_samples, ), for example using ravel().\n",
            "  y = column_or_1d(y, warn=True)\n"
          ],
          "name": "stderr"
        },
        {
          "output_type": "stream",
          "text": [
            "['female_anger' 'female_calm' 'female_disgust' 'female_fear' 'female_joy'\n",
            " 'female_neutral' 'female_sadness' 'female_surprise']\n"
          ],
          "name": "stdout"
        }
      ]
    },
    {
      "cell_type": "markdown",
      "metadata": {
        "id": "Ih45BlqgKtyr"
      },
      "source": [
        "LOAD LABEL ENCODER CLASSES"
      ]
    },
    {
      "cell_type": "code",
      "metadata": {
        "id": "tEJcUCJVKwz9",
        "colab": {
          "base_uri": "https://localhost:8080/"
        },
        "outputId": "65b59f02-bfc9-455a-cf5c-b7681ed5f98e"
      },
      "source": [
        "lb = LabelEncoder()\r\n",
        "with open((model_path + gender + '_classes_emotions.pkl'), 'rb') as f:\r\n",
        "  lb.classes_ = pickle.load(f)\r\n",
        "print(lb.classes_)"
      ],
      "execution_count": 7,
      "outputs": [
        {
          "output_type": "stream",
          "text": [
            "['female_anger' 'female_calm' 'female_disgust' 'female_fear' 'female_joy'\n",
            " 'female_neutral' 'female_sadness' 'female_surprise']\n"
          ],
          "name": "stdout"
        }
      ]
    },
    {
      "cell_type": "markdown",
      "metadata": {
        "id": "L9PphbfOl-kc"
      },
      "source": [
        "SHUFFLE FILES AND LABELS "
      ]
    },
    {
      "cell_type": "code",
      "metadata": {
        "id": "M8TgNuNt0c8b",
        "colab": {
          "base_uri": "https://localhost:8080/"
        },
        "outputId": "b59284eb-f16f-4b61-8954-647ca0167a74"
      },
      "source": [
        "features_filt_shuff_array, labels_filt_shuff_array = shuffle(features_filtered_array, labels_filtered_array)\r\n",
        "\r\n",
        "print(labels_filt_shuff_array)"
      ],
      "execution_count": 8,
      "outputs": [
        {
          "output_type": "stream",
          "text": [
            "[['female_surprise']\n",
            " ['female_surprise']\n",
            " ['female_sadness']\n",
            " ...\n",
            " ['female_sadness']\n",
            " ['female_anger']\n",
            " ['female_fear']]\n"
          ],
          "name": "stdout"
        }
      ]
    },
    {
      "cell_type": "markdown",
      "metadata": {
        "id": "PJpwFs_b5Ps3"
      },
      "source": [
        "\n",
        "# Dividing the data into test and train"
      ]
    },
    {
      "cell_type": "code",
      "metadata": {
        "id": "2pNznFkU_kjc"
      },
      "source": [
        "train_samples_num = round(len(labels_filtered_array)*0.8)\n",
        "\n",
        "X_train = np.array(features_filt_shuff_array[:train_samples_num]) #train_features_array\n",
        "y_train = np.array(labels_filt_shuff_array[:train_samples_num]) #train_label_array\n",
        "X_test = np.array(features_filt_shuff_array[train_samples_num:]) #test_features_array\n",
        "y_test = np.array(labels_filt_shuff_array[train_samples_num:]) #test_label_array"
      ],
      "execution_count": 9,
      "outputs": []
    },
    {
      "cell_type": "markdown",
      "metadata": {
        "id": "HC5pVMZgBOKT"
      },
      "source": [
        "TRANSFORM LABELS"
      ]
    },
    {
      "cell_type": "code",
      "metadata": {
        "id": "1YwvIzsI5nU4",
        "colab": {
          "base_uri": "https://localhost:8080/"
        },
        "outputId": "8da3ac1c-d229-431f-c2de-9a6a10cbb90a"
      },
      "source": [
        "y_train = np_utils.to_categorical(lb.transform(y_train))\n",
        "y_test = np_utils.to_categorical(lb.transform(y_test))"
      ],
      "execution_count": 10,
      "outputs": [
        {
          "output_type": "stream",
          "text": [
            "/usr/local/lib/python3.7/dist-packages/sklearn/preprocessing/_label.py:268: DataConversionWarning: A column-vector y was passed when a 1d array was expected. Please change the shape of y to (n_samples, ), for example using ravel().\n",
            "  y = column_or_1d(y, warn=True)\n"
          ],
          "name": "stderr"
        }
      ]
    },
    {
      "cell_type": "code",
      "metadata": {
        "colab": {
          "base_uri": "https://localhost:8080/"
        },
        "id": "xHC9cWgaVS06",
        "outputId": "436ad886-cc38-40d4-a473-8c23df6e4935"
      },
      "source": [
        "x_traincnn = np.expand_dims(X_train, axis=3)\r\n",
        "x_testcnn = np.expand_dims(X_test, axis=3)\r\n",
        "print(x_testcnn.shape)"
      ],
      "execution_count": 11,
      "outputs": [
        {
          "output_type": "stream",
          "text": [
            "(949, 8, 20, 1)\n"
          ],
          "name": "stdout"
        }
      ]
    },
    {
      "cell_type": "markdown",
      "metadata": {
        "id": "DDphwJbR7ABj"
      },
      "source": [
        "# **MODEL**"
      ]
    },
    {
      "cell_type": "code",
      "metadata": {
        "id": "7CO4IkGp52Rn"
      },
      "source": [
        "input_shape = x_traincnn.shape[1:]\n",
        "num_classes = 8  \n",
        "model = Sequential()\n",
        "\n",
        "model.add(Conv2D(64,kernel_size=(1,1),padding='same', activation='tanh', input_shape=input_shape))\n",
        "\n",
        "model.add(Conv2D(64, kernel_size=(2,2),padding='same', activation='tanh'))\n",
        "model.add(AveragePooling2D(pool_size=(2, 2)))\n",
        "model.add(Dropout(0.2))\n",
        "\n",
        "model.add(Conv2D(32, kernel_size=(4,4),padding='same', activation='tanh'))\n",
        "model.add(AveragePooling2D(pool_size=(2,2)))\n",
        "model.add(Dropout(0.2))\n",
        "\n",
        "model.add(Conv2D(32, kernel_size=(2,2),padding='same', activation='tanh'))\n",
        "\n",
        "model.add(Flatten())\n",
        "model.add(Dense(64, activation='tanh'))\n",
        "model.add(Dense(num_classes, activation='softmax'))\n",
        "\n",
        "opt = tf.keras.optimizers.Adam(learning_rate=0.0001) "
      ],
      "execution_count": 12,
      "outputs": []
    },
    {
      "cell_type": "code",
      "metadata": {
        "id": "fThlzaPU5_ui",
        "colab": {
          "base_uri": "https://localhost:8080/"
        },
        "outputId": "4b895800-a23f-4734-93a3-1debb6d142ed"
      },
      "source": [
        "model.summary()"
      ],
      "execution_count": 13,
      "outputs": [
        {
          "output_type": "stream",
          "text": [
            "Model: \"sequential\"\n",
            "_________________________________________________________________\n",
            "Layer (type)                 Output Shape              Param #   \n",
            "=================================================================\n",
            "conv2d (Conv2D)              (None, 8, 20, 64)         128       \n",
            "_________________________________________________________________\n",
            "conv2d_1 (Conv2D)            (None, 8, 20, 64)         16448     \n",
            "_________________________________________________________________\n",
            "average_pooling2d (AveragePo (None, 4, 10, 64)         0         \n",
            "_________________________________________________________________\n",
            "dropout (Dropout)            (None, 4, 10, 64)         0         \n",
            "_________________________________________________________________\n",
            "conv2d_2 (Conv2D)            (None, 4, 10, 32)         32800     \n",
            "_________________________________________________________________\n",
            "average_pooling2d_1 (Average (None, 2, 5, 32)          0         \n",
            "_________________________________________________________________\n",
            "dropout_1 (Dropout)          (None, 2, 5, 32)          0         \n",
            "_________________________________________________________________\n",
            "conv2d_3 (Conv2D)            (None, 2, 5, 32)          4128      \n",
            "_________________________________________________________________\n",
            "flatten (Flatten)            (None, 320)               0         \n",
            "_________________________________________________________________\n",
            "dense (Dense)                (None, 64)                20544     \n",
            "_________________________________________________________________\n",
            "dense_1 (Dense)              (None, 8)                 520       \n",
            "=================================================================\n",
            "Total params: 74,568\n",
            "Trainable params: 74,568\n",
            "Non-trainable params: 0\n",
            "_________________________________________________________________\n"
          ],
          "name": "stdout"
        }
      ]
    },
    {
      "cell_type": "code",
      "metadata": {
        "id": "-J_L_NQb6C9b"
      },
      "source": [
        "model.compile(loss= 'categorical_crossentropy', optimizer = opt, metrics=['accuracy'])"
      ],
      "execution_count": 14,
      "outputs": []
    },
    {
      "cell_type": "code",
      "metadata": {
        "id": "3jpf-3Zh6IxI",
        "colab": {
          "base_uri": "https://localhost:8080/"
        },
        "outputId": "13f2e1c3-c1e7-4bc5-9502-b284497ed6f4"
      },
      "source": [
        "cnnhistory = model.fit(x_traincnn, y_train, batch_size = 32, epochs = 200, validation_data = (x_testcnn, y_test))"
      ],
      "execution_count": 15,
      "outputs": [
        {
          "output_type": "stream",
          "text": [
            "Epoch 1/200\n",
            "119/119 [==============================] - 6s 38ms/step - loss: 1.9875 - accuracy: 0.2443 - val_loss: 1.7737 - val_accuracy: 0.3319\n",
            "Epoch 2/200\n",
            "119/119 [==============================] - 4s 35ms/step - loss: 1.7295 - accuracy: 0.3508 - val_loss: 1.6390 - val_accuracy: 0.3952\n",
            "Epoch 3/200\n",
            "119/119 [==============================] - 4s 35ms/step - loss: 1.5807 - accuracy: 0.4082 - val_loss: 1.5493 - val_accuracy: 0.4510\n",
            "Epoch 4/200\n",
            "119/119 [==============================] - 4s 34ms/step - loss: 1.5178 - accuracy: 0.4453 - val_loss: 1.4834 - val_accuracy: 0.4784\n",
            "Epoch 5/200\n",
            "119/119 [==============================] - 4s 35ms/step - loss: 1.4595 - accuracy: 0.4672 - val_loss: 1.4356 - val_accuracy: 0.4910\n",
            "Epoch 6/200\n",
            "119/119 [==============================] - 4s 35ms/step - loss: 1.3863 - accuracy: 0.5093 - val_loss: 1.3866 - val_accuracy: 0.5100\n",
            "Epoch 7/200\n",
            "119/119 [==============================] - 4s 35ms/step - loss: 1.3079 - accuracy: 0.5424 - val_loss: 1.3474 - val_accuracy: 0.5205\n",
            "Epoch 8/200\n",
            "119/119 [==============================] - 4s 35ms/step - loss: 1.2895 - accuracy: 0.5497 - val_loss: 1.3025 - val_accuracy: 0.5595\n",
            "Epoch 9/200\n",
            "119/119 [==============================] - 4s 34ms/step - loss: 1.2531 - accuracy: 0.5582 - val_loss: 1.2627 - val_accuracy: 0.5574\n",
            "Epoch 10/200\n",
            "119/119 [==============================] - 4s 36ms/step - loss: 1.1975 - accuracy: 0.5806 - val_loss: 1.2202 - val_accuracy: 0.5859\n",
            "Epoch 11/200\n",
            "119/119 [==============================] - 4s 36ms/step - loss: 1.1620 - accuracy: 0.5900 - val_loss: 1.1838 - val_accuracy: 0.5817\n",
            "Epoch 12/200\n",
            "119/119 [==============================] - 4s 36ms/step - loss: 1.1383 - accuracy: 0.5933 - val_loss: 1.1605 - val_accuracy: 0.6017\n",
            "Epoch 13/200\n",
            "119/119 [==============================] - 4s 36ms/step - loss: 1.0878 - accuracy: 0.6254 - val_loss: 1.1231 - val_accuracy: 0.6133\n",
            "Epoch 14/200\n",
            "119/119 [==============================] - 4s 35ms/step - loss: 1.0403 - accuracy: 0.6501 - val_loss: 1.0993 - val_accuracy: 0.6154\n",
            "Epoch 15/200\n",
            "119/119 [==============================] - 4s 36ms/step - loss: 1.0441 - accuracy: 0.6381 - val_loss: 1.0795 - val_accuracy: 0.6333\n",
            "Epoch 16/200\n",
            "119/119 [==============================] - 4s 35ms/step - loss: 1.0409 - accuracy: 0.6280 - val_loss: 1.0430 - val_accuracy: 0.6322\n",
            "Epoch 17/200\n",
            "119/119 [==============================] - 4s 36ms/step - loss: 0.9947 - accuracy: 0.6537 - val_loss: 1.0298 - val_accuracy: 0.6375\n",
            "Epoch 18/200\n",
            "119/119 [==============================] - 4s 36ms/step - loss: 0.9343 - accuracy: 0.6883 - val_loss: 1.0009 - val_accuracy: 0.6575\n",
            "Epoch 19/200\n",
            "119/119 [==============================] - 4s 36ms/step - loss: 0.9498 - accuracy: 0.6637 - val_loss: 0.9809 - val_accuracy: 0.6575\n",
            "Epoch 20/200\n",
            "119/119 [==============================] - 4s 35ms/step - loss: 0.9076 - accuracy: 0.6772 - val_loss: 0.9686 - val_accuracy: 0.6639\n",
            "Epoch 21/200\n",
            "119/119 [==============================] - 4s 33ms/step - loss: 0.8946 - accuracy: 0.6927 - val_loss: 0.9450 - val_accuracy: 0.6776\n",
            "Epoch 22/200\n",
            "119/119 [==============================] - 4s 34ms/step - loss: 0.8832 - accuracy: 0.6971 - val_loss: 0.9322 - val_accuracy: 0.6797\n",
            "Epoch 23/200\n",
            "119/119 [==============================] - 4s 34ms/step - loss: 0.8535 - accuracy: 0.6953 - val_loss: 0.9175 - val_accuracy: 0.6776\n",
            "Epoch 24/200\n",
            "119/119 [==============================] - 4s 34ms/step - loss: 0.8388 - accuracy: 0.7095 - val_loss: 0.8975 - val_accuracy: 0.6891\n",
            "Epoch 25/200\n",
            "119/119 [==============================] - 4s 34ms/step - loss: 0.8234 - accuracy: 0.7231 - val_loss: 0.8840 - val_accuracy: 0.6934\n",
            "Epoch 26/200\n",
            "119/119 [==============================] - 4s 34ms/step - loss: 0.8122 - accuracy: 0.7273 - val_loss: 0.8677 - val_accuracy: 0.6986\n",
            "Epoch 27/200\n",
            "119/119 [==============================] - 4s 34ms/step - loss: 0.7957 - accuracy: 0.7345 - val_loss: 0.8564 - val_accuracy: 0.6997\n",
            "Epoch 28/200\n",
            "119/119 [==============================] - 4s 34ms/step - loss: 0.7961 - accuracy: 0.7187 - val_loss: 0.8470 - val_accuracy: 0.6986\n",
            "Epoch 29/200\n",
            "119/119 [==============================] - 4s 34ms/step - loss: 0.7893 - accuracy: 0.7294 - val_loss: 0.8332 - val_accuracy: 0.7081\n",
            "Epoch 30/200\n",
            "119/119 [==============================] - 4s 34ms/step - loss: 0.7660 - accuracy: 0.7279 - val_loss: 0.8336 - val_accuracy: 0.7050\n",
            "Epoch 31/200\n",
            "119/119 [==============================] - 4s 34ms/step - loss: 0.7503 - accuracy: 0.7342 - val_loss: 0.8173 - val_accuracy: 0.6997\n",
            "Epoch 32/200\n",
            "119/119 [==============================] - 4s 34ms/step - loss: 0.7494 - accuracy: 0.7370 - val_loss: 0.8051 - val_accuracy: 0.7113\n",
            "Epoch 33/200\n",
            "119/119 [==============================] - 4s 33ms/step - loss: 0.6898 - accuracy: 0.7628 - val_loss: 0.7960 - val_accuracy: 0.7134\n",
            "Epoch 34/200\n",
            "119/119 [==============================] - 4s 34ms/step - loss: 0.7174 - accuracy: 0.7475 - val_loss: 0.7916 - val_accuracy: 0.7123\n",
            "Epoch 35/200\n",
            "119/119 [==============================] - 4s 34ms/step - loss: 0.7336 - accuracy: 0.7454 - val_loss: 0.7864 - val_accuracy: 0.7123\n",
            "Epoch 36/200\n",
            "119/119 [==============================] - 4s 34ms/step - loss: 0.6858 - accuracy: 0.7509 - val_loss: 0.7726 - val_accuracy: 0.7165\n",
            "Epoch 37/200\n",
            "119/119 [==============================] - 4s 34ms/step - loss: 0.6818 - accuracy: 0.7675 - val_loss: 0.7617 - val_accuracy: 0.7229\n",
            "Epoch 38/200\n",
            "119/119 [==============================] - 4s 34ms/step - loss: 0.6869 - accuracy: 0.7593 - val_loss: 0.7570 - val_accuracy: 0.7271\n",
            "Epoch 39/200\n",
            "119/119 [==============================] - 4s 34ms/step - loss: 0.7106 - accuracy: 0.7330 - val_loss: 0.7498 - val_accuracy: 0.7271\n",
            "Epoch 40/200\n",
            "119/119 [==============================] - 4s 34ms/step - loss: 0.6538 - accuracy: 0.7653 - val_loss: 0.7406 - val_accuracy: 0.7292\n",
            "Epoch 41/200\n",
            "119/119 [==============================] - 4s 34ms/step - loss: 0.6790 - accuracy: 0.7569 - val_loss: 0.7329 - val_accuracy: 0.7397\n",
            "Epoch 42/200\n",
            "119/119 [==============================] - 4s 34ms/step - loss: 0.6305 - accuracy: 0.7722 - val_loss: 0.7284 - val_accuracy: 0.7376\n",
            "Epoch 43/200\n",
            "119/119 [==============================] - 4s 34ms/step - loss: 0.6797 - accuracy: 0.7553 - val_loss: 0.7265 - val_accuracy: 0.7387\n",
            "Epoch 44/200\n",
            "119/119 [==============================] - 4s 34ms/step - loss: 0.6381 - accuracy: 0.7647 - val_loss: 0.7192 - val_accuracy: 0.7366\n",
            "Epoch 45/200\n",
            "119/119 [==============================] - 4s 34ms/step - loss: 0.6231 - accuracy: 0.7739 - val_loss: 0.7144 - val_accuracy: 0.7408\n",
            "Epoch 46/200\n",
            "119/119 [==============================] - 4s 36ms/step - loss: 0.6175 - accuracy: 0.7850 - val_loss: 0.7114 - val_accuracy: 0.7460\n",
            "Epoch 47/200\n",
            "119/119 [==============================] - 4s 35ms/step - loss: 0.6015 - accuracy: 0.7864 - val_loss: 0.7053 - val_accuracy: 0.7439\n",
            "Epoch 48/200\n",
            "119/119 [==============================] - 4s 35ms/step - loss: 0.6275 - accuracy: 0.7856 - val_loss: 0.6987 - val_accuracy: 0.7482\n",
            "Epoch 49/200\n",
            "119/119 [==============================] - 4s 34ms/step - loss: 0.6290 - accuracy: 0.7689 - val_loss: 0.6938 - val_accuracy: 0.7534\n",
            "Epoch 50/200\n",
            "119/119 [==============================] - 4s 34ms/step - loss: 0.6096 - accuracy: 0.7819 - val_loss: 0.6901 - val_accuracy: 0.7460\n",
            "Epoch 51/200\n",
            "119/119 [==============================] - 4s 35ms/step - loss: 0.6060 - accuracy: 0.7882 - val_loss: 0.6918 - val_accuracy: 0.7513\n",
            "Epoch 52/200\n",
            "119/119 [==============================] - 4s 35ms/step - loss: 0.6124 - accuracy: 0.7879 - val_loss: 0.6872 - val_accuracy: 0.7492\n",
            "Epoch 53/200\n",
            "119/119 [==============================] - 4s 34ms/step - loss: 0.6045 - accuracy: 0.7835 - val_loss: 0.6803 - val_accuracy: 0.7513\n",
            "Epoch 54/200\n",
            "119/119 [==============================] - 4s 34ms/step - loss: 0.5861 - accuracy: 0.7905 - val_loss: 0.6793 - val_accuracy: 0.7597\n",
            "Epoch 55/200\n",
            "119/119 [==============================] - 4s 34ms/step - loss: 0.5650 - accuracy: 0.8060 - val_loss: 0.6751 - val_accuracy: 0.7471\n",
            "Epoch 56/200\n",
            "119/119 [==============================] - 4s 35ms/step - loss: 0.5537 - accuracy: 0.8052 - val_loss: 0.6772 - val_accuracy: 0.7524\n",
            "Epoch 57/200\n",
            "119/119 [==============================] - 4s 34ms/step - loss: 0.5727 - accuracy: 0.7946 - val_loss: 0.6707 - val_accuracy: 0.7503\n",
            "Epoch 58/200\n",
            "119/119 [==============================] - 4s 34ms/step - loss: 0.5754 - accuracy: 0.7969 - val_loss: 0.6692 - val_accuracy: 0.7555\n",
            "Epoch 59/200\n",
            "119/119 [==============================] - 4s 34ms/step - loss: 0.5568 - accuracy: 0.8144 - val_loss: 0.6636 - val_accuracy: 0.7608\n",
            "Epoch 60/200\n",
            "119/119 [==============================] - 4s 34ms/step - loss: 0.5447 - accuracy: 0.8035 - val_loss: 0.6601 - val_accuracy: 0.7492\n",
            "Epoch 61/200\n",
            "119/119 [==============================] - 4s 34ms/step - loss: 0.5556 - accuracy: 0.8027 - val_loss: 0.6634 - val_accuracy: 0.7640\n",
            "Epoch 62/200\n",
            "119/119 [==============================] - 4s 34ms/step - loss: 0.5349 - accuracy: 0.8163 - val_loss: 0.6511 - val_accuracy: 0.7650\n",
            "Epoch 63/200\n",
            "119/119 [==============================] - 4s 35ms/step - loss: 0.5370 - accuracy: 0.8151 - val_loss: 0.6498 - val_accuracy: 0.7619\n",
            "Epoch 64/200\n",
            "119/119 [==============================] - 4s 35ms/step - loss: 0.5178 - accuracy: 0.8195 - val_loss: 0.6457 - val_accuracy: 0.7724\n",
            "Epoch 65/200\n",
            "119/119 [==============================] - 4s 34ms/step - loss: 0.5369 - accuracy: 0.8199 - val_loss: 0.6386 - val_accuracy: 0.7619\n",
            "Epoch 66/200\n",
            "119/119 [==============================] - 4s 35ms/step - loss: 0.5343 - accuracy: 0.8213 - val_loss: 0.6399 - val_accuracy: 0.7713\n",
            "Epoch 67/200\n",
            "119/119 [==============================] - 4s 34ms/step - loss: 0.5140 - accuracy: 0.8197 - val_loss: 0.6337 - val_accuracy: 0.7703\n",
            "Epoch 68/200\n",
            "119/119 [==============================] - 4s 35ms/step - loss: 0.5339 - accuracy: 0.7981 - val_loss: 0.6311 - val_accuracy: 0.7734\n",
            "Epoch 69/200\n",
            "119/119 [==============================] - 4s 34ms/step - loss: 0.5260 - accuracy: 0.8118 - val_loss: 0.6335 - val_accuracy: 0.7650\n",
            "Epoch 70/200\n",
            "119/119 [==============================] - 4s 34ms/step - loss: 0.5190 - accuracy: 0.8206 - val_loss: 0.6325 - val_accuracy: 0.7661\n",
            "Epoch 71/200\n",
            "119/119 [==============================] - 4s 35ms/step - loss: 0.5310 - accuracy: 0.8031 - val_loss: 0.6230 - val_accuracy: 0.7692\n",
            "Epoch 72/200\n",
            "119/119 [==============================] - 4s 34ms/step - loss: 0.5380 - accuracy: 0.8143 - val_loss: 0.6221 - val_accuracy: 0.7766\n",
            "Epoch 73/200\n",
            "119/119 [==============================] - 4s 34ms/step - loss: 0.5183 - accuracy: 0.8188 - val_loss: 0.6195 - val_accuracy: 0.7766\n",
            "Epoch 74/200\n",
            "119/119 [==============================] - 4s 35ms/step - loss: 0.5215 - accuracy: 0.8210 - val_loss: 0.6206 - val_accuracy: 0.7798\n",
            "Epoch 75/200\n",
            "119/119 [==============================] - 4s 34ms/step - loss: 0.5120 - accuracy: 0.8223 - val_loss: 0.6169 - val_accuracy: 0.7798\n",
            "Epoch 76/200\n",
            "119/119 [==============================] - 4s 34ms/step - loss: 0.4971 - accuracy: 0.8212 - val_loss: 0.6132 - val_accuracy: 0.7713\n",
            "Epoch 77/200\n",
            "119/119 [==============================] - 4s 34ms/step - loss: 0.4914 - accuracy: 0.8375 - val_loss: 0.6092 - val_accuracy: 0.7766\n",
            "Epoch 78/200\n",
            "119/119 [==============================] - 4s 35ms/step - loss: 0.5063 - accuracy: 0.8217 - val_loss: 0.6114 - val_accuracy: 0.7882\n",
            "Epoch 79/200\n",
            "119/119 [==============================] - 4s 35ms/step - loss: 0.4747 - accuracy: 0.8305 - val_loss: 0.6040 - val_accuracy: 0.7798\n",
            "Epoch 80/200\n",
            "119/119 [==============================] - 4s 35ms/step - loss: 0.4914 - accuracy: 0.8206 - val_loss: 0.6043 - val_accuracy: 0.7882\n",
            "Epoch 81/200\n",
            "119/119 [==============================] - 4s 35ms/step - loss: 0.4766 - accuracy: 0.8331 - val_loss: 0.6069 - val_accuracy: 0.7893\n",
            "Epoch 82/200\n",
            "119/119 [==============================] - 4s 35ms/step - loss: 0.4773 - accuracy: 0.8351 - val_loss: 0.5993 - val_accuracy: 0.7861\n",
            "Epoch 83/200\n",
            "119/119 [==============================] - 4s 35ms/step - loss: 0.4862 - accuracy: 0.8265 - val_loss: 0.5982 - val_accuracy: 0.7903\n",
            "Epoch 84/200\n",
            "119/119 [==============================] - 4s 34ms/step - loss: 0.4767 - accuracy: 0.8341 - val_loss: 0.5942 - val_accuracy: 0.7924\n",
            "Epoch 85/200\n",
            "119/119 [==============================] - 4s 35ms/step - loss: 0.4884 - accuracy: 0.8261 - val_loss: 0.5921 - val_accuracy: 0.7840\n",
            "Epoch 86/200\n",
            "119/119 [==============================] - 4s 35ms/step - loss: 0.4755 - accuracy: 0.8372 - val_loss: 0.5856 - val_accuracy: 0.7861\n",
            "Epoch 87/200\n",
            "119/119 [==============================] - 4s 35ms/step - loss: 0.4691 - accuracy: 0.8392 - val_loss: 0.5892 - val_accuracy: 0.7914\n",
            "Epoch 88/200\n",
            "119/119 [==============================] - 4s 35ms/step - loss: 0.4782 - accuracy: 0.8329 - val_loss: 0.5845 - val_accuracy: 0.7945\n",
            "Epoch 89/200\n",
            "119/119 [==============================] - 4s 35ms/step - loss: 0.4681 - accuracy: 0.8375 - val_loss: 0.5880 - val_accuracy: 0.7819\n",
            "Epoch 90/200\n",
            "119/119 [==============================] - 4s 35ms/step - loss: 0.4642 - accuracy: 0.8310 - val_loss: 0.5814 - val_accuracy: 0.8019\n",
            "Epoch 91/200\n",
            "119/119 [==============================] - 4s 36ms/step - loss: 0.4873 - accuracy: 0.8342 - val_loss: 0.5782 - val_accuracy: 0.7935\n",
            "Epoch 92/200\n",
            "119/119 [==============================] - 4s 36ms/step - loss: 0.4480 - accuracy: 0.8409 - val_loss: 0.5779 - val_accuracy: 0.7966\n",
            "Epoch 93/200\n",
            "119/119 [==============================] - 4s 36ms/step - loss: 0.4437 - accuracy: 0.8488 - val_loss: 0.5765 - val_accuracy: 0.7998\n",
            "Epoch 94/200\n",
            "119/119 [==============================] - 4s 36ms/step - loss: 0.4582 - accuracy: 0.8364 - val_loss: 0.5782 - val_accuracy: 0.7945\n",
            "Epoch 95/200\n",
            "119/119 [==============================] - 8s 70ms/step - loss: 0.4555 - accuracy: 0.8416 - val_loss: 0.5725 - val_accuracy: 0.7956\n",
            "Epoch 96/200\n",
            "119/119 [==============================] - 5s 45ms/step - loss: 0.4423 - accuracy: 0.8416 - val_loss: 0.5709 - val_accuracy: 0.8019\n",
            "Epoch 97/200\n",
            "119/119 [==============================] - 4s 35ms/step - loss: 0.4466 - accuracy: 0.8441 - val_loss: 0.5743 - val_accuracy: 0.7914\n",
            "Epoch 98/200\n",
            "119/119 [==============================] - 4s 35ms/step - loss: 0.4394 - accuracy: 0.8462 - val_loss: 0.5701 - val_accuracy: 0.7882\n",
            "Epoch 99/200\n",
            "119/119 [==============================] - 4s 35ms/step - loss: 0.4200 - accuracy: 0.8628 - val_loss: 0.5689 - val_accuracy: 0.7935\n",
            "Epoch 100/200\n",
            "119/119 [==============================] - 4s 35ms/step - loss: 0.4471 - accuracy: 0.8398 - val_loss: 0.5606 - val_accuracy: 0.8061\n",
            "Epoch 101/200\n",
            "119/119 [==============================] - 4s 35ms/step - loss: 0.4358 - accuracy: 0.8493 - val_loss: 0.5647 - val_accuracy: 0.7987\n",
            "Epoch 102/200\n",
            "119/119 [==============================] - 4s 35ms/step - loss: 0.4242 - accuracy: 0.8580 - val_loss: 0.5673 - val_accuracy: 0.8030\n",
            "Epoch 103/200\n",
            "119/119 [==============================] - 4s 35ms/step - loss: 0.4206 - accuracy: 0.8534 - val_loss: 0.5578 - val_accuracy: 0.8082\n",
            "Epoch 104/200\n",
            "119/119 [==============================] - 4s 35ms/step - loss: 0.4447 - accuracy: 0.8367 - val_loss: 0.5587 - val_accuracy: 0.8093\n",
            "Epoch 105/200\n",
            "119/119 [==============================] - 4s 35ms/step - loss: 0.4074 - accuracy: 0.8675 - val_loss: 0.5527 - val_accuracy: 0.8093\n",
            "Epoch 106/200\n",
            "119/119 [==============================] - 4s 35ms/step - loss: 0.4117 - accuracy: 0.8600 - val_loss: 0.5541 - val_accuracy: 0.8145\n",
            "Epoch 107/200\n",
            "119/119 [==============================] - 4s 35ms/step - loss: 0.4207 - accuracy: 0.8538 - val_loss: 0.5568 - val_accuracy: 0.7977\n",
            "Epoch 108/200\n",
            "119/119 [==============================] - 4s 35ms/step - loss: 0.4067 - accuracy: 0.8532 - val_loss: 0.5547 - val_accuracy: 0.8019\n",
            "Epoch 109/200\n",
            "119/119 [==============================] - 4s 36ms/step - loss: 0.4127 - accuracy: 0.8543 - val_loss: 0.5617 - val_accuracy: 0.8061\n",
            "Epoch 110/200\n",
            "119/119 [==============================] - 4s 35ms/step - loss: 0.4025 - accuracy: 0.8520 - val_loss: 0.5479 - val_accuracy: 0.8114\n",
            "Epoch 111/200\n",
            "119/119 [==============================] - 4s 36ms/step - loss: 0.3852 - accuracy: 0.8697 - val_loss: 0.5501 - val_accuracy: 0.8103\n",
            "Epoch 112/200\n",
            "119/119 [==============================] - 4s 36ms/step - loss: 0.4018 - accuracy: 0.8661 - val_loss: 0.5466 - val_accuracy: 0.8082\n",
            "Epoch 113/200\n",
            "119/119 [==============================] - 4s 36ms/step - loss: 0.3953 - accuracy: 0.8600 - val_loss: 0.5526 - val_accuracy: 0.8072\n",
            "Epoch 114/200\n",
            "119/119 [==============================] - 4s 36ms/step - loss: 0.4031 - accuracy: 0.8593 - val_loss: 0.5480 - val_accuracy: 0.8061\n",
            "Epoch 115/200\n",
            "119/119 [==============================] - 4s 35ms/step - loss: 0.3958 - accuracy: 0.8592 - val_loss: 0.5417 - val_accuracy: 0.8114\n",
            "Epoch 116/200\n",
            "119/119 [==============================] - 4s 35ms/step - loss: 0.3818 - accuracy: 0.8674 - val_loss: 0.5438 - val_accuracy: 0.8082\n",
            "Epoch 117/200\n",
            "119/119 [==============================] - 4s 35ms/step - loss: 0.3775 - accuracy: 0.8762 - val_loss: 0.5376 - val_accuracy: 0.8114\n",
            "Epoch 118/200\n",
            "119/119 [==============================] - 4s 36ms/step - loss: 0.4123 - accuracy: 0.8634 - val_loss: 0.5398 - val_accuracy: 0.8145\n",
            "Epoch 119/200\n",
            "119/119 [==============================] - 4s 37ms/step - loss: 0.3860 - accuracy: 0.8722 - val_loss: 0.5368 - val_accuracy: 0.8145\n",
            "Epoch 120/200\n",
            "119/119 [==============================] - 4s 36ms/step - loss: 0.4010 - accuracy: 0.8590 - val_loss: 0.5350 - val_accuracy: 0.8103\n",
            "Epoch 121/200\n",
            "119/119 [==============================] - 4s 35ms/step - loss: 0.3925 - accuracy: 0.8730 - val_loss: 0.5405 - val_accuracy: 0.8093\n",
            "Epoch 122/200\n",
            "119/119 [==============================] - 4s 36ms/step - loss: 0.3826 - accuracy: 0.8643 - val_loss: 0.5346 - val_accuracy: 0.8114\n",
            "Epoch 123/200\n",
            "119/119 [==============================] - 4s 36ms/step - loss: 0.3527 - accuracy: 0.8775 - val_loss: 0.5300 - val_accuracy: 0.8166\n",
            "Epoch 124/200\n",
            "119/119 [==============================] - 4s 36ms/step - loss: 0.3697 - accuracy: 0.8698 - val_loss: 0.5264 - val_accuracy: 0.8114\n",
            "Epoch 125/200\n",
            "119/119 [==============================] - 4s 36ms/step - loss: 0.3761 - accuracy: 0.8745 - val_loss: 0.5294 - val_accuracy: 0.8156\n",
            "Epoch 126/200\n",
            "119/119 [==============================] - 4s 36ms/step - loss: 0.3902 - accuracy: 0.8707 - val_loss: 0.5292 - val_accuracy: 0.8230\n",
            "Epoch 127/200\n",
            "119/119 [==============================] - 4s 36ms/step - loss: 0.3629 - accuracy: 0.8792 - val_loss: 0.5254 - val_accuracy: 0.8177\n",
            "Epoch 128/200\n",
            "119/119 [==============================] - 4s 36ms/step - loss: 0.3752 - accuracy: 0.8686 - val_loss: 0.5326 - val_accuracy: 0.8145\n",
            "Epoch 129/200\n",
            "119/119 [==============================] - 4s 36ms/step - loss: 0.3459 - accuracy: 0.8836 - val_loss: 0.5258 - val_accuracy: 0.8198\n",
            "Epoch 130/200\n",
            "119/119 [==============================] - 4s 36ms/step - loss: 0.3682 - accuracy: 0.8709 - val_loss: 0.5247 - val_accuracy: 0.8240\n",
            "Epoch 131/200\n",
            "119/119 [==============================] - 4s 36ms/step - loss: 0.3816 - accuracy: 0.8706 - val_loss: 0.5225 - val_accuracy: 0.8188\n",
            "Epoch 132/200\n",
            "119/119 [==============================] - 4s 36ms/step - loss: 0.3659 - accuracy: 0.8782 - val_loss: 0.5280 - val_accuracy: 0.8188\n",
            "Epoch 133/200\n",
            "119/119 [==============================] - 4s 36ms/step - loss: 0.3447 - accuracy: 0.8853 - val_loss: 0.5232 - val_accuracy: 0.8209\n",
            "Epoch 134/200\n",
            "119/119 [==============================] - 4s 36ms/step - loss: 0.3522 - accuracy: 0.8725 - val_loss: 0.5236 - val_accuracy: 0.8198\n",
            "Epoch 135/200\n",
            "119/119 [==============================] - 4s 36ms/step - loss: 0.3427 - accuracy: 0.8763 - val_loss: 0.5148 - val_accuracy: 0.8219\n",
            "Epoch 136/200\n",
            "119/119 [==============================] - 4s 36ms/step - loss: 0.3353 - accuracy: 0.8895 - val_loss: 0.5127 - val_accuracy: 0.8272\n",
            "Epoch 137/200\n",
            "119/119 [==============================] - 4s 36ms/step - loss: 0.3440 - accuracy: 0.8847 - val_loss: 0.5259 - val_accuracy: 0.8177\n",
            "Epoch 138/200\n",
            "119/119 [==============================] - 4s 36ms/step - loss: 0.3418 - accuracy: 0.8852 - val_loss: 0.5196 - val_accuracy: 0.8103\n",
            "Epoch 139/200\n",
            "119/119 [==============================] - 4s 36ms/step - loss: 0.3509 - accuracy: 0.8766 - val_loss: 0.5130 - val_accuracy: 0.8219\n",
            "Epoch 140/200\n",
            "119/119 [==============================] - 4s 36ms/step - loss: 0.3411 - accuracy: 0.8749 - val_loss: 0.5117 - val_accuracy: 0.8188\n",
            "Epoch 141/200\n",
            "119/119 [==============================] - 4s 36ms/step - loss: 0.3352 - accuracy: 0.8852 - val_loss: 0.5080 - val_accuracy: 0.8198\n",
            "Epoch 142/200\n",
            "119/119 [==============================] - 4s 36ms/step - loss: 0.3568 - accuracy: 0.8793 - val_loss: 0.5176 - val_accuracy: 0.8166\n",
            "Epoch 143/200\n",
            "119/119 [==============================] - 4s 36ms/step - loss: 0.3351 - accuracy: 0.8878 - val_loss: 0.5110 - val_accuracy: 0.8240\n",
            "Epoch 144/200\n",
            "119/119 [==============================] - 4s 36ms/step - loss: 0.3409 - accuracy: 0.8845 - val_loss: 0.5096 - val_accuracy: 0.8240\n",
            "Epoch 145/200\n",
            "119/119 [==============================] - 4s 36ms/step - loss: 0.3227 - accuracy: 0.8956 - val_loss: 0.5081 - val_accuracy: 0.8240\n",
            "Epoch 146/200\n",
            "119/119 [==============================] - 4s 36ms/step - loss: 0.3418 - accuracy: 0.8856 - val_loss: 0.5061 - val_accuracy: 0.8282\n",
            "Epoch 147/200\n",
            "119/119 [==============================] - 4s 35ms/step - loss: 0.3545 - accuracy: 0.8798 - val_loss: 0.5086 - val_accuracy: 0.8156\n",
            "Epoch 148/200\n",
            "119/119 [==============================] - 4s 35ms/step - loss: 0.3382 - accuracy: 0.8794 - val_loss: 0.5102 - val_accuracy: 0.8209\n",
            "Epoch 149/200\n",
            "119/119 [==============================] - 4s 35ms/step - loss: 0.3263 - accuracy: 0.8856 - val_loss: 0.5093 - val_accuracy: 0.8240\n",
            "Epoch 150/200\n",
            "119/119 [==============================] - 4s 35ms/step - loss: 0.3395 - accuracy: 0.8776 - val_loss: 0.5076 - val_accuracy: 0.8177\n",
            "Epoch 151/200\n",
            "119/119 [==============================] - 4s 35ms/step - loss: 0.3212 - accuracy: 0.8858 - val_loss: 0.5002 - val_accuracy: 0.8261\n",
            "Epoch 152/200\n",
            "119/119 [==============================] - 4s 35ms/step - loss: 0.3273 - accuracy: 0.8917 - val_loss: 0.4934 - val_accuracy: 0.8325\n",
            "Epoch 153/200\n",
            "119/119 [==============================] - 4s 35ms/step - loss: 0.3212 - accuracy: 0.8829 - val_loss: 0.4956 - val_accuracy: 0.8272\n",
            "Epoch 154/200\n",
            "119/119 [==============================] - 4s 35ms/step - loss: 0.3228 - accuracy: 0.8912 - val_loss: 0.4954 - val_accuracy: 0.8293\n",
            "Epoch 155/200\n",
            "119/119 [==============================] - 4s 35ms/step - loss: 0.3190 - accuracy: 0.8930 - val_loss: 0.5004 - val_accuracy: 0.8272\n",
            "Epoch 156/200\n",
            "119/119 [==============================] - 4s 35ms/step - loss: 0.3196 - accuracy: 0.8958 - val_loss: 0.4952 - val_accuracy: 0.8325\n",
            "Epoch 157/200\n",
            "119/119 [==============================] - 4s 35ms/step - loss: 0.3105 - accuracy: 0.8918 - val_loss: 0.5031 - val_accuracy: 0.8188\n",
            "Epoch 158/200\n",
            "119/119 [==============================] - 4s 35ms/step - loss: 0.3201 - accuracy: 0.8863 - val_loss: 0.4965 - val_accuracy: 0.8251\n",
            "Epoch 159/200\n",
            "119/119 [==============================] - 4s 34ms/step - loss: 0.3047 - accuracy: 0.8997 - val_loss: 0.5001 - val_accuracy: 0.8272\n",
            "Epoch 160/200\n",
            "119/119 [==============================] - 4s 35ms/step - loss: 0.3020 - accuracy: 0.8971 - val_loss: 0.4958 - val_accuracy: 0.8230\n",
            "Epoch 161/200\n",
            "119/119 [==============================] - 4s 35ms/step - loss: 0.3070 - accuracy: 0.8941 - val_loss: 0.4958 - val_accuracy: 0.8303\n",
            "Epoch 162/200\n",
            "119/119 [==============================] - 4s 35ms/step - loss: 0.2947 - accuracy: 0.9086 - val_loss: 0.4874 - val_accuracy: 0.8272\n",
            "Epoch 163/200\n",
            "119/119 [==============================] - 4s 35ms/step - loss: 0.3098 - accuracy: 0.9018 - val_loss: 0.4937 - val_accuracy: 0.8261\n",
            "Epoch 164/200\n",
            "119/119 [==============================] - 4s 36ms/step - loss: 0.2866 - accuracy: 0.9082 - val_loss: 0.4870 - val_accuracy: 0.8188\n",
            "Epoch 165/200\n",
            "119/119 [==============================] - 4s 36ms/step - loss: 0.2906 - accuracy: 0.9052 - val_loss: 0.4894 - val_accuracy: 0.8325\n",
            "Epoch 166/200\n",
            "119/119 [==============================] - 4s 35ms/step - loss: 0.3010 - accuracy: 0.9005 - val_loss: 0.4965 - val_accuracy: 0.8314\n",
            "Epoch 167/200\n",
            "119/119 [==============================] - 4s 36ms/step - loss: 0.2892 - accuracy: 0.9145 - val_loss: 0.4844 - val_accuracy: 0.8325\n",
            "Epoch 168/200\n",
            "119/119 [==============================] - 4s 36ms/step - loss: 0.2812 - accuracy: 0.9069 - val_loss: 0.4864 - val_accuracy: 0.8346\n",
            "Epoch 169/200\n",
            "119/119 [==============================] - 4s 35ms/step - loss: 0.3001 - accuracy: 0.9015 - val_loss: 0.4844 - val_accuracy: 0.8272\n",
            "Epoch 170/200\n",
            "119/119 [==============================] - 4s 35ms/step - loss: 0.2919 - accuracy: 0.8950 - val_loss: 0.4883 - val_accuracy: 0.8346\n",
            "Epoch 171/200\n",
            "119/119 [==============================] - 4s 35ms/step - loss: 0.2960 - accuracy: 0.9039 - val_loss: 0.4833 - val_accuracy: 0.8272\n",
            "Epoch 172/200\n",
            "119/119 [==============================] - 4s 35ms/step - loss: 0.3007 - accuracy: 0.9033 - val_loss: 0.4835 - val_accuracy: 0.8314\n",
            "Epoch 173/200\n",
            "119/119 [==============================] - 4s 35ms/step - loss: 0.2783 - accuracy: 0.9049 - val_loss: 0.4805 - val_accuracy: 0.8325\n",
            "Epoch 174/200\n",
            "119/119 [==============================] - 4s 35ms/step - loss: 0.3037 - accuracy: 0.8983 - val_loss: 0.4814 - val_accuracy: 0.8282\n",
            "Epoch 175/200\n",
            "119/119 [==============================] - 4s 35ms/step - loss: 0.2794 - accuracy: 0.9055 - val_loss: 0.4787 - val_accuracy: 0.8335\n",
            "Epoch 176/200\n",
            "119/119 [==============================] - 4s 35ms/step - loss: 0.2813 - accuracy: 0.9092 - val_loss: 0.4770 - val_accuracy: 0.8261\n",
            "Epoch 177/200\n",
            "119/119 [==============================] - 4s 35ms/step - loss: 0.2744 - accuracy: 0.9104 - val_loss: 0.4731 - val_accuracy: 0.8356\n",
            "Epoch 178/200\n",
            "119/119 [==============================] - 4s 35ms/step - loss: 0.2774 - accuracy: 0.9045 - val_loss: 0.4814 - val_accuracy: 0.8335\n",
            "Epoch 179/200\n",
            "119/119 [==============================] - 4s 35ms/step - loss: 0.2890 - accuracy: 0.8972 - val_loss: 0.4752 - val_accuracy: 0.8367\n",
            "Epoch 180/200\n",
            "119/119 [==============================] - 4s 35ms/step - loss: 0.2761 - accuracy: 0.9051 - val_loss: 0.4724 - val_accuracy: 0.8367\n",
            "Epoch 181/200\n",
            "119/119 [==============================] - 4s 35ms/step - loss: 0.2672 - accuracy: 0.9095 - val_loss: 0.4767 - val_accuracy: 0.8356\n",
            "Epoch 182/200\n",
            "119/119 [==============================] - 4s 35ms/step - loss: 0.2805 - accuracy: 0.9081 - val_loss: 0.4747 - val_accuracy: 0.8388\n",
            "Epoch 183/200\n",
            "119/119 [==============================] - 4s 35ms/step - loss: 0.2865 - accuracy: 0.9057 - val_loss: 0.4776 - val_accuracy: 0.8303\n",
            "Epoch 184/200\n",
            "119/119 [==============================] - 4s 35ms/step - loss: 0.2682 - accuracy: 0.9105 - val_loss: 0.4683 - val_accuracy: 0.8377\n",
            "Epoch 185/200\n",
            "119/119 [==============================] - 4s 35ms/step - loss: 0.2543 - accuracy: 0.9181 - val_loss: 0.4659 - val_accuracy: 0.8356\n",
            "Epoch 186/200\n",
            "119/119 [==============================] - 4s 35ms/step - loss: 0.2681 - accuracy: 0.9142 - val_loss: 0.4781 - val_accuracy: 0.8272\n",
            "Epoch 187/200\n",
            "119/119 [==============================] - 4s 35ms/step - loss: 0.2796 - accuracy: 0.8976 - val_loss: 0.4678 - val_accuracy: 0.8346\n",
            "Epoch 188/200\n",
            "119/119 [==============================] - 4s 35ms/step - loss: 0.2746 - accuracy: 0.9088 - val_loss: 0.4681 - val_accuracy: 0.8419\n",
            "Epoch 189/200\n",
            "119/119 [==============================] - 4s 35ms/step - loss: 0.2692 - accuracy: 0.9090 - val_loss: 0.4727 - val_accuracy: 0.8367\n",
            "Epoch 190/200\n",
            "119/119 [==============================] - 4s 35ms/step - loss: 0.2608 - accuracy: 0.9125 - val_loss: 0.4637 - val_accuracy: 0.8388\n",
            "Epoch 191/200\n",
            "119/119 [==============================] - 4s 36ms/step - loss: 0.2669 - accuracy: 0.9169 - val_loss: 0.4664 - val_accuracy: 0.8483\n",
            "Epoch 192/200\n",
            "119/119 [==============================] - 4s 38ms/step - loss: 0.2625 - accuracy: 0.9099 - val_loss: 0.4665 - val_accuracy: 0.8398\n",
            "Epoch 193/200\n",
            "119/119 [==============================] - 4s 35ms/step - loss: 0.2551 - accuracy: 0.9106 - val_loss: 0.4638 - val_accuracy: 0.8356\n",
            "Epoch 194/200\n",
            "119/119 [==============================] - 4s 36ms/step - loss: 0.2636 - accuracy: 0.9118 - val_loss: 0.4670 - val_accuracy: 0.8419\n",
            "Epoch 195/200\n",
            "119/119 [==============================] - 4s 35ms/step - loss: 0.2511 - accuracy: 0.9220 - val_loss: 0.4691 - val_accuracy: 0.8377\n",
            "Epoch 196/200\n",
            "119/119 [==============================] - 4s 35ms/step - loss: 0.2667 - accuracy: 0.9094 - val_loss: 0.4662 - val_accuracy: 0.8388\n",
            "Epoch 197/200\n",
            "119/119 [==============================] - 4s 36ms/step - loss: 0.2418 - accuracy: 0.9207 - val_loss: 0.4636 - val_accuracy: 0.8367\n",
            "Epoch 198/200\n",
            "119/119 [==============================] - 4s 35ms/step - loss: 0.2478 - accuracy: 0.9207 - val_loss: 0.4591 - val_accuracy: 0.8462\n",
            "Epoch 199/200\n",
            "119/119 [==============================] - 4s 35ms/step - loss: 0.2743 - accuracy: 0.9063 - val_loss: 0.4600 - val_accuracy: 0.8419\n",
            "Epoch 200/200\n",
            "119/119 [==============================] - 4s 35ms/step - loss: 0.2557 - accuracy: 0.9194 - val_loss: 0.4609 - val_accuracy: 0.8430\n"
          ],
          "name": "stdout"
        }
      ]
    },
    {
      "cell_type": "markdown",
      "metadata": {
        "id": "R0JRLnly58lj"
      },
      "source": [
        "# **PLOTTING**"
      ]
    },
    {
      "cell_type": "code",
      "metadata": {
        "id": "1Mi2Q7VO9xwW",
        "colab": {
          "base_uri": "https://localhost:8080/",
          "height": 388
        },
        "outputId": "e651c19e-00b0-4c34-c936-5b310fcab8ef"
      },
      "source": [
        "plt.figure(figsize=(10,6))\n",
        "plt.plot(cnnhistory.history['loss'], 'm', linewidth=3)\n",
        "plt.plot(cnnhistory.history['val_loss'], 'b', linewidth=3)\n",
        "plt.legend(['Loss', 'Validation Loss'], fontsize=13)\n",
        "plt.xlabel('epochs')\n",
        "plt.ylabel('loss', fontsize=12)\n",
        "plt.grid(True)\n",
        "plt.show()"
      ],
      "execution_count": 16,
      "outputs": [
        {
          "output_type": "display_data",
          "data": {
            "image/png": "[encoded data removed]",
            "text/plain": [
              "<Figure size 720x432 with 1 Axes>"
            ]
          },
          "metadata": {
            "tags": [],
            "needs_background": "light"
          }
        }
      ]
    },
    {
      "cell_type": "code",
      "metadata": {
        "id": "FtxMkeGaKYYs",
        "colab": {
          "base_uri": "https://localhost:8080/",
          "height": 404
        },
        "outputId": "46a62937-94cd-4594-988c-f0783f315e7e"
      },
      "source": [
        "plt.figure(figsize=(10,6), frameon=True)\n",
        "plt.plot(cnnhistory.history['accuracy'], 'g', linewidth=3)\n",
        "plt.plot(cnnhistory.history['val_accuracy'], 'r', linewidth=3)\n",
        "plt.title('Model Accuracy')\n",
        "plt.xlabel('Epochs')\n",
        "plt.ylabel('Accuracy', fontsize=12)\n",
        "plt.legend(['Accuracy', 'Validation Accuracy'], loc = 'upper left', fontsize=13)\n",
        "plt.grid(True)\n",
        "plt.show()"
      ],
      "execution_count": 17,
      "outputs": [
        {
          "output_type": "display_data",
          "data": {
            "image/png": "[encoded data removed]",
            "text/plain": [
              "<Figure size 720x432 with 1 Axes>"
            ]
          },
          "metadata": {
            "tags": [],
            "needs_background": "light"
          }
        }
      ]
    },
    {
      "cell_type": "code",
      "metadata": {
        "id": "Bcx0kn54SrWo",
        "colab": {
          "base_uri": "https://localhost:8080/",
          "height": 1000
        },
        "outputId": "b0411073-3234-4aa6-beda-659ed9535f0d"
      },
      "source": [
        "tf.keras.utils.plot_model(\n",
        "    model,\n",
        "    to_file=\"img_model.png\",\n",
        "    show_shapes=False,\n",
        "    show_layer_names=True,\n",
        "    rankdir=\"TB\",\n",
        "    expand_nested=False,\n",
        "    dpi=96,\n",
        ")\n",
        "\n",
        "dot_img_file = (model_path + 'img_cnn_model_' + model_name + '.png')\n",
        "tf.keras.utils.plot_model(model, to_file = dot_img_file, show_shapes=True)\n"
      ],
      "execution_count": 18,
      "outputs": [
        {
          "output_type": "execute_result",
          "data": {
            "image/png": "[encoded data removed]",
            "text/plain": [
              "<IPython.core.display.Image object>"
            ]
          },
          "metadata": {
            "tags": []
          },
          "execution_count": 18
        }
      ]
    },
    {
      "cell_type": "markdown",
      "metadata": {
        "id": "TgoIRnXx5Kwj"
      },
      "source": [
        "# **SAVING THE MODEL**"
      ]
    },
    {
      "cell_type": "code",
      "metadata": {
        "id": "k10VeAGW5KKl",
        "colab": {
          "base_uri": "https://localhost:8080/"
        },
        "outputId": "fedc9344-b2cb-45bc-a4ab-a8f18a0b0a98"
      },
      "source": [
        "model.save(os.path.join(model_path, (model_name + '_MODEL_200.h5')))\n",
        "print('Saved trained model at %s ' % model_path)\n",
        "\n",
        "model_json = model.to_json()\n",
        "with open((model_path + model_name + '_MODEL_200.json'), \"w\") as json_file:\n",
        "    json_file.write(model_json)"
      ],
      "execution_count": 19,
      "outputs": [
        {
          "output_type": "stream",
          "text": [
            "Saved trained model at /content/drive/MyDrive/My_AI/EmoRec/ \n"
          ],
          "name": "stdout"
        }
      ]
    },
    {
      "cell_type": "markdown",
      "metadata": {
        "id": "cAXCT5O15bl1"
      },
      "source": [
        "# **LOADING THE MODEL**"
      ]
    },
    {
      "cell_type": "code",
      "metadata": {
        "id": "iBPoY_-45agM",
        "colab": {
          "base_uri": "https://localhost:8080/"
        },
        "outputId": "c3432b87-f814-4c20-8c20-285246e96666"
      },
      "source": [
        "json_file = open(model_path + model_name + '_MODEL_200.json', 'r')\n",
        "loaded_model_json = json_file.read()\n",
        "json_file.close()\n",
        "loaded_model = model_from_json(loaded_model_json)\n",
        "loaded_model.load_weights(model_path + model_name + '_MODEL_200.h5')\n",
        "print(\"Loaded model from disk\")\n",
        "\n",
        "opt = tf.keras.optimizers.Adam(learning_rate=0.0001) \n",
        "loaded_model.compile(loss='categorical_crossentropy', optimizer=opt, metrics=['accuracy'])\n",
        "score = loaded_model.evaluate(x_testcnn, y_test, verbose=0)\n",
        "print(\"%s: %.2f%%\" % (loaded_model.metrics_names[1], score[1]*100))"
      ],
      "execution_count": 20,
      "outputs": [
        {
          "output_type": "stream",
          "text": [
            "Loaded model from disk\n",
            "accuracy: 84.30%\n"
          ],
          "name": "stdout"
        }
      ]
    },
    {
      "cell_type": "markdown",
      "metadata": {
        "id": "qoFefCox6jRe"
      },
      "source": [
        "# **Predicting emotions on the test data**\n"
      ]
    },
    {
      "cell_type": "code",
      "metadata": {
        "id": "soFuVUkh6kbW",
        "colab": {
          "base_uri": "https://localhost:8080/",
          "height": 394
        },
        "outputId": "46e454bd-d2d2-44ac-83b3-cd9507d52141"
      },
      "source": [
        "lb = LabelEncoder()\n",
        "with open((model_path + gender + '_classes_emotions.pkl'), 'rb') as f:\n",
        "  lb.classes_ = pickle.load(f)\n",
        "print(lb.classes_)\n",
        "\n",
        "predicted = loaded_model.predict(x_testcnn, batch_size=32, verbose=1)\n",
        "predicted = predicted.argmax(axis=1)\n",
        "predicted = predicted.astype(int).flatten()\n",
        "\n",
        "predictions = (lb.inverse_transform((predicted)))\n",
        "predictions_df = pd.DataFrame({'predictedvalues': predictions})\n",
        "\n",
        "actual = y_test.argmax(axis=1)\n",
        "actual = actual.astype(int).flatten()\n",
        "\n",
        "actual_labels = (lb.inverse_transform((actual)))\n",
        "\n",
        "actual_labels = pd.DataFrame({'actualvalues': actual_labels})\n",
        "actual_pred_df = actual_labels.join(predictions_df)\n",
        "\n",
        "actual_pred_df[40:50]"
      ],
      "execution_count": 21,
      "outputs": [
        {
          "output_type": "stream",
          "text": [
            "['female_anger' 'female_calm' 'female_disgust' 'female_fear' 'female_joy'\n",
            " 'female_neutral' 'female_sadness' 'female_surprise']\n",
            "30/30 [==============================] - 0s 8ms/step\n"
          ],
          "name": "stdout"
        },
        {
          "output_type": "execute_result",
          "data": {
            "text/html": [
              "<div>\n",
              "<style scoped>\n",
              "    .dataframe tbody tr th:only-of-type {\n",
              "        vertical-align: middle;\n",
              "    }\n",
              "\n",
              "    .dataframe tbody tr th {\n",
              "        vertical-align: top;\n",
              "    }\n",
              "\n",
              "    .dataframe thead th {\n",
              "        text-align: right;\n",
              "    }\n",
              "</style>\n",
              "<table border=\"1\" class=\"dataframe\">\n",
              "  <thead>\n",
              "    <tr style=\"text-align: right;\">\n",
              "      <th></th>\n",
              "      <th>actualvalues</th>\n",
              "      <th>predictedvalues</th>\n",
              "    </tr>\n",
              "  </thead>\n",
              "  <tbody>\n",
              "    <tr>\n",
              "      <th>40</th>\n",
              "      <td>female_surprise</td>\n",
              "      <td>female_surprise</td>\n",
              "    </tr>\n",
              "    <tr>\n",
              "      <th>41</th>\n",
              "      <td>female_disgust</td>\n",
              "      <td>female_disgust</td>\n",
              "    </tr>\n",
              "    <tr>\n",
              "      <th>42</th>\n",
              "      <td>female_anger</td>\n",
              "      <td>female_anger</td>\n",
              "    </tr>\n",
              "    <tr>\n",
              "      <th>43</th>\n",
              "      <td>female_fear</td>\n",
              "      <td>female_fear</td>\n",
              "    </tr>\n",
              "    <tr>\n",
              "      <th>44</th>\n",
              "      <td>female_disgust</td>\n",
              "      <td>female_disgust</td>\n",
              "    </tr>\n",
              "    <tr>\n",
              "      <th>45</th>\n",
              "      <td>female_calm</td>\n",
              "      <td>female_calm</td>\n",
              "    </tr>\n",
              "    <tr>\n",
              "      <th>46</th>\n",
              "      <td>female_neutral</td>\n",
              "      <td>female_neutral</td>\n",
              "    </tr>\n",
              "    <tr>\n",
              "      <th>47</th>\n",
              "      <td>female_fear</td>\n",
              "      <td>female_joy</td>\n",
              "    </tr>\n",
              "    <tr>\n",
              "      <th>48</th>\n",
              "      <td>female_joy</td>\n",
              "      <td>female_joy</td>\n",
              "    </tr>\n",
              "    <tr>\n",
              "      <th>49</th>\n",
              "      <td>female_joy</td>\n",
              "      <td>female_joy</td>\n",
              "    </tr>\n",
              "  </tbody>\n",
              "</table>\n",
              "</div>"
            ],
            "text/plain": [
              "       actualvalues  predictedvalues\n",
              "40  female_surprise  female_surprise\n",
              "41   female_disgust   female_disgust\n",
              "42     female_anger     female_anger\n",
              "43      female_fear      female_fear\n",
              "44   female_disgust   female_disgust\n",
              "45      female_calm      female_calm\n",
              "46   female_neutral   female_neutral\n",
              "47      female_fear       female_joy\n",
              "48       female_joy       female_joy\n",
              "49       female_joy       female_joy"
            ]
          },
          "metadata": {
            "tags": []
          },
          "execution_count": 21
        }
      ]
    },
    {
      "cell_type": "code",
      "metadata": {
        "id": "QjtRhwAxeZ2j",
        "colab": {
          "base_uri": "https://localhost:8080/",
          "height": 314
        },
        "outputId": "6f05e2cf-05a8-4a47-8912-009d65b8184f"
      },
      "source": [
        "actual_pred_df.groupby('actualvalues').count()"
      ],
      "execution_count": 22,
      "outputs": [
        {
          "output_type": "execute_result",
          "data": {
            "text/html": [
              "<div>\n",
              "<style scoped>\n",
              "    .dataframe tbody tr th:only-of-type {\n",
              "        vertical-align: middle;\n",
              "    }\n",
              "\n",
              "    .dataframe tbody tr th {\n",
              "        vertical-align: top;\n",
              "    }\n",
              "\n",
              "    .dataframe thead th {\n",
              "        text-align: right;\n",
              "    }\n",
              "</style>\n",
              "<table border=\"1\" class=\"dataframe\">\n",
              "  <thead>\n",
              "    <tr style=\"text-align: right;\">\n",
              "      <th></th>\n",
              "      <th>predictedvalues</th>\n",
              "    </tr>\n",
              "    <tr>\n",
              "      <th>actualvalues</th>\n",
              "      <th></th>\n",
              "    </tr>\n",
              "  </thead>\n",
              "  <tbody>\n",
              "    <tr>\n",
              "      <th>female_anger</th>\n",
              "      <td>135</td>\n",
              "    </tr>\n",
              "    <tr>\n",
              "      <th>female_calm</th>\n",
              "      <td>13</td>\n",
              "    </tr>\n",
              "    <tr>\n",
              "      <th>female_disgust</th>\n",
              "      <td>128</td>\n",
              "    </tr>\n",
              "    <tr>\n",
              "      <th>female_fear</th>\n",
              "      <td>141</td>\n",
              "    </tr>\n",
              "    <tr>\n",
              "      <th>female_joy</th>\n",
              "      <td>144</td>\n",
              "    </tr>\n",
              "    <tr>\n",
              "      <th>female_neutral</th>\n",
              "      <td>121</td>\n",
              "    </tr>\n",
              "    <tr>\n",
              "      <th>female_sadness</th>\n",
              "      <td>150</td>\n",
              "    </tr>\n",
              "    <tr>\n",
              "      <th>female_surprise</th>\n",
              "      <td>117</td>\n",
              "    </tr>\n",
              "  </tbody>\n",
              "</table>\n",
              "</div>"
            ],
            "text/plain": [
              "                 predictedvalues\n",
              "actualvalues                    \n",
              "female_anger                 135\n",
              "female_calm                   13\n",
              "female_disgust               128\n",
              "female_fear                  141\n",
              "female_joy                   144\n",
              "female_neutral               121\n",
              "female_sadness               150\n",
              "female_surprise              117"
            ]
          },
          "metadata": {
            "tags": []
          },
          "execution_count": 22
        }
      ]
    },
    {
      "cell_type": "code",
      "metadata": {
        "id": "QZsfui1hwknw",
        "colab": {
          "base_uri": "https://localhost:8080/",
          "height": 314
        },
        "outputId": "6474307f-c380-4b07-88bf-99a1daecbcae"
      },
      "source": [
        "actual_pred_df.groupby('predictedvalues').count()"
      ],
      "execution_count": 23,
      "outputs": [
        {
          "output_type": "execute_result",
          "data": {
            "text/html": [
              "<div>\n",
              "<style scoped>\n",
              "    .dataframe tbody tr th:only-of-type {\n",
              "        vertical-align: middle;\n",
              "    }\n",
              "\n",
              "    .dataframe tbody tr th {\n",
              "        vertical-align: top;\n",
              "    }\n",
              "\n",
              "    .dataframe thead th {\n",
              "        text-align: right;\n",
              "    }\n",
              "</style>\n",
              "<table border=\"1\" class=\"dataframe\">\n",
              "  <thead>\n",
              "    <tr style=\"text-align: right;\">\n",
              "      <th></th>\n",
              "      <th>actualvalues</th>\n",
              "    </tr>\n",
              "    <tr>\n",
              "      <th>predictedvalues</th>\n",
              "      <th></th>\n",
              "    </tr>\n",
              "  </thead>\n",
              "  <tbody>\n",
              "    <tr>\n",
              "      <th>female_anger</th>\n",
              "      <td>133</td>\n",
              "    </tr>\n",
              "    <tr>\n",
              "      <th>female_calm</th>\n",
              "      <td>14</td>\n",
              "    </tr>\n",
              "    <tr>\n",
              "      <th>female_disgust</th>\n",
              "      <td>114</td>\n",
              "    </tr>\n",
              "    <tr>\n",
              "      <th>female_fear</th>\n",
              "      <td>148</td>\n",
              "    </tr>\n",
              "    <tr>\n",
              "      <th>female_joy</th>\n",
              "      <td>138</td>\n",
              "    </tr>\n",
              "    <tr>\n",
              "      <th>female_neutral</th>\n",
              "      <td>114</td>\n",
              "    </tr>\n",
              "    <tr>\n",
              "      <th>female_sadness</th>\n",
              "      <td>161</td>\n",
              "    </tr>\n",
              "    <tr>\n",
              "      <th>female_surprise</th>\n",
              "      <td>127</td>\n",
              "    </tr>\n",
              "  </tbody>\n",
              "</table>\n",
              "</div>"
            ],
            "text/plain": [
              "                 actualvalues\n",
              "predictedvalues              \n",
              "female_anger              133\n",
              "female_calm                14\n",
              "female_disgust            114\n",
              "female_fear               148\n",
              "female_joy                138\n",
              "female_neutral            114\n",
              "female_sadness            161\n",
              "female_surprise           127"
            ]
          },
          "metadata": {
            "tags": []
          },
          "execution_count": 23
        }
      ]
    },
    {
      "cell_type": "code",
      "metadata": {
        "id": "QOUJILZuQEd2"
      },
      "source": [
        "actual_pred_df.to_csv(model_path + model_name + '_PREDICTIONS' + '.csv', index=False)"
      ],
      "execution_count": 24,
      "outputs": []
    },
    {
      "cell_type": "code",
      "metadata": {
        "id": "GtgQgNenNibM",
        "colab": {
          "base_uri": "https://localhost:8080/"
        },
        "outputId": "e41f9ec3-158d-4f95-d873-b800512407db"
      },
      "source": [
        "from sklearn.metrics import confusion_matrix, accuracy_score, classification_report\n",
        "\n",
        "classes = actual_pred_df.actualvalues.unique()\n",
        "classes.sort()    \n",
        "print(classification_report(actual_pred_df.actualvalues, actual_pred_df.predictedvalues, target_names=classes))\n"
      ],
      "execution_count": 25,
      "outputs": [
        {
          "output_type": "stream",
          "text": [
            "                 precision    recall  f1-score   support\n",
            "\n",
            "   female_anger       0.88      0.87      0.87       135\n",
            "    female_calm       0.79      0.85      0.81        13\n",
            " female_disgust       0.96      0.85      0.90       128\n",
            "    female_fear       0.78      0.82      0.80       141\n",
            "     female_joy       0.79      0.76      0.77       144\n",
            " female_neutral       0.91      0.86      0.89       121\n",
            " female_sadness       0.83      0.89      0.86       150\n",
            "female_surprise       0.79      0.85      0.82       117\n",
            "\n",
            "       accuracy                           0.84       949\n",
            "      macro avg       0.84      0.84      0.84       949\n",
            "   weighted avg       0.85      0.84      0.84       949\n",
            "\n"
          ],
          "name": "stdout"
        }
      ]
    },
    {
      "cell_type": "code",
      "metadata": {
        "id": "4oxiuYySN2JK",
        "colab": {
          "base_uri": "https://localhost:8080/",
          "height": 539
        },
        "outputId": "a230b412-8f9f-4882-a9ca-7f8e6d392d4f"
      },
      "source": [
        "def print_confusion_matrix(confusion_matrix, class_names, figsize = (10,7), fontsize=14):\n",
        "    df_cm = pd.DataFrame(\n",
        "        confusion_matrix, index=class_names, columns=class_names, \n",
        "    )\n",
        "    fig = plt.figure(figsize=figsize)\n",
        "    try:\n",
        "        heatmap = sns.heatmap(df_cm, annot=True, fmt=\"d\")\n",
        "    except ValueError:\n",
        "        raise ValueError(\"Confusion matrix values must be integers.\")\n",
        "        \n",
        "    heatmap.yaxis.set_ticklabels(heatmap.yaxis.get_ticklabels(), rotation=0, ha='right', fontsize=fontsize)\n",
        "    heatmap.xaxis.set_ticklabels(heatmap.xaxis.get_ticklabels(), rotation=45, ha='right', fontsize=fontsize)\n",
        "    plt.ylabel('True label')\n",
        "    plt.xlabel('Predicted label')\n",
        "\n",
        "def gender(row):\n",
        "    if row == 'female_disgust' or 'female_fear' or 'female_joy' or 'female_sadness' or 'female_surprise' or 'female_neutral' or 'female_anger' or 'female_calm':\n",
        "        return 'female'\n",
        "\n",
        "actual_pred_df = pd.read_csv(model_path + model_name + '_PREDICTIONS' + '.csv')\n",
        "classes = actual_pred_df.actualvalues.unique()\n",
        "classes.sort()    \n",
        "\n",
        "c = confusion_matrix(actual_pred_df.actualvalues, actual_pred_df.predictedvalues)\n",
        "print(accuracy_score(actual_pred_df.actualvalues, actual_pred_df.predictedvalues))\n",
        "print_confusion_matrix(c, class_names = classes)"
      ],
      "execution_count": 26,
      "outputs": [
        {
          "output_type": "stream",
          "text": [
            "0.8429926238145417\n"
          ],
          "name": "stdout"
        },
        {
          "output_type": "display_data",
          "data": {
            "image/png": "[encoded data removed]",
            "text/plain": [
              "<Figure size 720x504 with 2 Axes>"
            ]
          },
          "metadata": {
            "tags": [],
            "needs_background": "light"
          }
        }
      ]
    }
  ]
}